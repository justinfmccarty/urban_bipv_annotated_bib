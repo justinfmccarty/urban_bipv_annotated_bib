{
  "nbformat": 4,
  "nbformat_minor": 0,
  "metadata": {
    "colab": {
      "name": "bipv_lit_rev_clusters.ipynb",
      "provenance": [],
      "authorship_tag": "ABX9TyPHvLsFivL6MhUrsw27Q42U",
      "include_colab_link": true
    },
    "kernelspec": {
      "name": "python3",
      "display_name": "Python 3"
    },
    "language_info": {
      "name": "python"
    }
  },
  "cells": [
    {
      "cell_type": "markdown",
      "metadata": {
        "id": "view-in-github",
        "colab_type": "text"
      },
      "source": [
        "<a href=\"https://colab.research.google.com/github/justinfmccarty/urban_bipv_annotated_bib/blob/main/data/bipv_lit_rev_clusters.ipynb\" target=\"_parent\"><img src=\"https://colab.research.google.com/assets/colab-badge.svg\" alt=\"Open In Colab\"/></a>"
      ]
    },
    {
      "cell_type": "markdown",
      "metadata": {
        "id": "sGp2OuLXiV27"
      },
      "source": [
        "## Literature Clusters for BIPV"
      ]
    },
    {
      "cell_type": "markdown",
      "metadata": {
        "id": "QjJBgz2jiZIr"
      },
      "source": [
        "This notebook is a replication of an effort to cluster COVID-19 publications:\n",
        "\n",
        "Eren, Maksim Ekin, Nick Solovyev, Edward Raff, Charles Nicholas, and Ben Johnson. “COVID-19 Kaggle Literature Organization.” In Proceedings of the ACM Symposium on Document Engineering 2020, 1–4. DocEng ’20. New York, NY, USA: Association for Computing Machinery, 2020. https://doi.org/10.1145/3395027.3419591.\n",
        "\n",
        "Using the database engine \"lens.org\" I have extracted building integrated photovoltaic literature to feed into Eren et al.'s clustering workflow.\n",
        "\n",
        "A future effort will be done once I have access to the Lens API system and can gather a more comprhensive dataset.\n",
        "\n"
      ]
    },
    {
      "cell_type": "markdown",
      "metadata": {
        "id": "c1y7MpNkjz9d"
      },
      "source": [
        "### Section 1: Load and Process Data"
      ]
    },
    {
      "cell_type": "code",
      "metadata": {
        "id": "ds_jejWJhgKf"
      },
      "source": [
        "import pandas as pd\n",
        "import numpy as np"
      ],
      "execution_count": 22,
      "outputs": []
    },
    {
      "cell_type": "code",
      "metadata": {
        "id": "Q9WnXb_qiO6i"
      },
      "source": [
        "url = r'https://github.com/justinfmccarty/urban_bipv_annotated_bib/blob/main/data/bipv_inclusive.csv?raw=true'\n",
        "df_raw = pd.read_csv(url)\n",
        "df_raw.sample(3)"
      ],
      "execution_count": null,
      "outputs": []
    },
    {
      "cell_type": "code",
      "metadata": {
        "id": "vP02wji2kZlq"
      },
      "source": [
        "# for this notebook I am only getting journal articles\n",
        "df_raw_j = df_raw[df_raw['Publication Type']=='journal article']\n",
        "print(f'Original shape was {df_raw.shape}')\n",
        "print(f'New shape is {df_raw_j.shape}')"
      ],
      "execution_count": null,
      "outputs": []
    },
    {
      "cell_type": "code",
      "metadata": {
        "colab": {
          "base_uri": "https://localhost:8080/",
          "height": 411
        },
        "id": "NNitRs1jlGQU",
        "outputId": "bdea7eb6-b12e-4591-cf9d-0dcda8cbbde6"
      },
      "source": [
        "# remove publications without an abstract as this is key to the clustering effort\n",
        "df_raw_j_clean = df_raw_j.dropna(subset=['Abstract'])\n",
        "print(f'Original shape was {df_raw_j.shape}')\n",
        "print(f'New shape is {df_raw_j_clean.shape}')\n",
        "df_raw_j_clean.sample(2)"
      ],
      "execution_count": 51,
      "outputs": [
        {
          "output_type": "stream",
          "text": [
            "Original shape was (7391, 29)\n",
            "New shape is (7132, 29)\n"
          ],
          "name": "stdout"
        },
        {
          "output_type": "execute_result",
          "data": {
            "text/html": [
              "<div>\n",
              "<style scoped>\n",
              "    .dataframe tbody tr th:only-of-type {\n",
              "        vertical-align: middle;\n",
              "    }\n",
              "\n",
              "    .dataframe tbody tr th {\n",
              "        vertical-align: top;\n",
              "    }\n",
              "\n",
              "    .dataframe thead th {\n",
              "        text-align: right;\n",
              "    }\n",
              "</style>\n",
              "<table border=\"1\" class=\"dataframe\">\n",
              "  <thead>\n",
              "    <tr style=\"text-align: right;\">\n",
              "      <th></th>\n",
              "      <th>Lens ID</th>\n",
              "      <th>Title</th>\n",
              "      <th>Date Published</th>\n",
              "      <th>Publication Year</th>\n",
              "      <th>Publication Type</th>\n",
              "      <th>Source Title</th>\n",
              "      <th>ISSNs</th>\n",
              "      <th>Publisher</th>\n",
              "      <th>Source Country</th>\n",
              "      <th>Author/s</th>\n",
              "      <th>Abstract</th>\n",
              "      <th>Volume</th>\n",
              "      <th>Issue Number</th>\n",
              "      <th>Start Page</th>\n",
              "      <th>End Page</th>\n",
              "      <th>Fields of Study</th>\n",
              "      <th>Keywords</th>\n",
              "      <th>MeSH Terms</th>\n",
              "      <th>Chemicals</th>\n",
              "      <th>Funding</th>\n",
              "      <th>Source URLs</th>\n",
              "      <th>External URL</th>\n",
              "      <th>PMID</th>\n",
              "      <th>DOI</th>\n",
              "      <th>Microsoft Academic ID</th>\n",
              "      <th>PMCID</th>\n",
              "      <th>Citing Patents Count</th>\n",
              "      <th>References</th>\n",
              "      <th>Citing Works Count</th>\n",
              "    </tr>\n",
              "  </thead>\n",
              "  <tbody>\n",
              "    <tr>\n",
              "      <th>7325</th>\n",
              "      <td>088-131-561-961-454</td>\n",
              "      <td>DC nanogrid for renewable sources with modular...</td>\n",
              "      <td>2017-02-16</td>\n",
              "      <td>2017.0</td>\n",
              "      <td>journal article</td>\n",
              "      <td>IET Power Electronics</td>\n",
              "      <td>17554543; 17554535</td>\n",
              "      <td>Institution of Engineering and Technology (IET)</td>\n",
              "      <td>United Kingdom</td>\n",
              "      <td>Carlo Cecati; Hassan Abdullah Khalid; Mario Ti...</td>\n",
              "      <td>Centralised electricity systems are being inte...</td>\n",
              "      <td>10</td>\n",
              "      <td>5</td>\n",
              "      <td>536</td>\n",
              "      <td>544</td>\n",
              "      <td>Electrical engineering; Voltage source; Energy...</td>\n",
              "      <td>NaN</td>\n",
              "      <td>NaN</td>\n",
              "      <td>NaN</td>\n",
              "      <td>NaN</td>\n",
              "      <td>https://ieeexplore.ieee.org/document/7894943/ ...</td>\n",
              "      <td>http://dx.doi.org/10.1049/iet-pel.2016.0200</td>\n",
              "      <td>NaN</td>\n",
              "      <td>10.1049/iet-pel.2016.0200</td>\n",
              "      <td>2548982234</td>\n",
              "      <td>NaN</td>\n",
              "      <td>0</td>\n",
              "      <td>002-740-335-923-55X; 003-072-942-903-919; 009-...</td>\n",
              "      <td>24</td>\n",
              "    </tr>\n",
              "    <tr>\n",
              "      <th>2390</th>\n",
              "      <td>023-263-936-665-747</td>\n",
              "      <td>Bifacial, color-tunable semitransparent perovs...</td>\n",
              "      <td>2019-12-20</td>\n",
              "      <td>2019.0</td>\n",
              "      <td>journal article</td>\n",
              "      <td>ACS applied materials &amp; interfaces</td>\n",
              "      <td>19448252; 19448244</td>\n",
              "      <td>American Chemical Society</td>\n",
              "      <td>United States</td>\n",
              "      <td>Hao Wang; Herlina Arianita Dewi; Teck Ming Koh...</td>\n",
              "      <td>Recently, semitransparent perovskite solar cel...</td>\n",
              "      <td>12</td>\n",
              "      <td>1</td>\n",
              "      <td>484</td>\n",
              "      <td>493</td>\n",
              "      <td>Building-integrated photovoltaics; Perovskite ...</td>\n",
              "      <td>BIPV; bifacial solar cell; colorful perovskite...</td>\n",
              "      <td>NaN</td>\n",
              "      <td>NaN</td>\n",
              "      <td>National Research Foundation Singapore; Nation...</td>\n",
              "      <td>https://pubs.acs.org/doi/10.1021/acsami.9b1548...</td>\n",
              "      <td>http://dx.doi.org/10.1021/acsami.9b15488</td>\n",
              "      <td>31814394</td>\n",
              "      <td>10.1021/acsami.9b15488</td>\n",
              "      <td>2996469781</td>\n",
              "      <td>NaN</td>\n",
              "      <td>0</td>\n",
              "      <td>006-207-723-814-646; 009-870-531-460-150; 012-...</td>\n",
              "      <td>21</td>\n",
              "    </tr>\n",
              "  </tbody>\n",
              "</table>\n",
              "</div>"
            ],
            "text/plain": [
              "                  Lens ID  ... Citing Works Count\n",
              "7325  088-131-561-961-454  ...                 24\n",
              "2390  023-263-936-665-747  ...                 21\n",
              "\n",
              "[2 rows x 29 columns]"
            ]
          },
          "metadata": {
            "tags": []
          },
          "execution_count": 51
        }
      ]
    },
    {
      "cell_type": "code",
      "metadata": {
        "colab": {
          "base_uri": "https://localhost:8080/"
        },
        "id": "MqEb49Q5nzIV",
        "outputId": "7d5b4aa8-3352-4b05-e1f3-f41ccf39a0c3"
      },
      "source": [
        "# there may be a need for publication year later on in visualization \n",
        "# so I will be dropping anything without a publication year\n",
        "\n",
        "# lets see how many\n",
        "print(f\"Missing in Publication Year {len(df_raw_j_clean[df_raw_j_clean['Publication Year'].isnull()])}\")\n",
        "print(f\"Missing in Date Published {len(df_raw_j_clean[df_raw_j_clean['Date Published'].isnull()])}\")\n",
        "\n",
        "df_raw_j_clean_years = df_raw_j_clean.dropna(subset=['Publication Year'])\n",
        "print(f'Original shape was {df_raw_j_clean.shape}')\n",
        "print(f'New shape is {df_raw_j_clean_years.shape}')"
      ],
      "execution_count": 38,
      "outputs": [
        {
          "output_type": "stream",
          "text": [
            "Missing in Publication Year 27\n",
            "Missing in Date Published 4033\n",
            "Original shape was (7132, 29)\n",
            "New shape is (7105, 29)\n"
          ],
          "name": "stdout"
        }
      ]
    },
    {
      "cell_type": "code",
      "metadata": {
        "colab": {
          "base_uri": "https://localhost:8080/",
          "height": 389
        },
        "id": "pJ6EKs9PmWto",
        "outputId": "bffd5efb-8a04-47f0-ebf4-2c8b237a6d88"
      },
      "source": [
        "# simplify dataframe for clustering workflow\n",
        "\n",
        "columns = ['Lens ID',\n",
        "           'Title',\n",
        "           'Publication Year',\n",
        "           'Abstract',\n",
        "           'External URL',\n",
        "           'DOI',\n",
        "           'Author/s']\n",
        "\n",
        "df_raw_j_clean_sub = df_raw_j_clean_years[columns].astype({'Publication Year':'int32'})\n",
        "df_raw_j_clean_sub = df_raw_j_clean_sub.rename(columns={'Lens ID':'lens_id',\n",
        "                                                        'Title':'title',\n",
        "                                                        'Publication Year':'year',\n",
        "                                                        'Abstract':'abstract',\n",
        "                                                        'External URL':'external_url',\n",
        "                                                        'DOI':'doi',\n",
        "                                                        'Author/s':'authors'})\n",
        "\n",
        "df_raw_j_clean_sub.sample(3)\n"
      ],
      "execution_count": 52,
      "outputs": [
        {
          "output_type": "execute_result",
          "data": {
            "text/html": [
              "<div>\n",
              "<style scoped>\n",
              "    .dataframe tbody tr th:only-of-type {\n",
              "        vertical-align: middle;\n",
              "    }\n",
              "\n",
              "    .dataframe tbody tr th {\n",
              "        vertical-align: top;\n",
              "    }\n",
              "\n",
              "    .dataframe thead th {\n",
              "        text-align: right;\n",
              "    }\n",
              "</style>\n",
              "<table border=\"1\" class=\"dataframe\">\n",
              "  <thead>\n",
              "    <tr style=\"text-align: right;\">\n",
              "      <th></th>\n",
              "      <th>lens_id</th>\n",
              "      <th>title</th>\n",
              "      <th>year</th>\n",
              "      <th>abstract</th>\n",
              "      <th>external_url</th>\n",
              "      <th>doi</th>\n",
              "      <th>authors</th>\n",
              "    </tr>\n",
              "  </thead>\n",
              "  <tbody>\n",
              "    <tr>\n",
              "      <th>4036</th>\n",
              "      <td>042-663-516-810-524</td>\n",
              "      <td>Where the wicked problems are: The case of men...</td>\n",
              "      <td>2010</td>\n",
              "      <td>Abstract Objective To use system ideas and the...</td>\n",
              "      <td>http://dx.doi.org/10.1016/j.healthpol.2010.11.002</td>\n",
              "      <td>10.1016/j.healthpol.2010.11.002</td>\n",
              "      <td>Ben Hannigan; Michael Coffey</td>\n",
              "    </tr>\n",
              "    <tr>\n",
              "      <th>4116</th>\n",
              "      <td>043-683-034-743-917</td>\n",
              "      <td>Modelling of solar micro gas turbine for parab...</td>\n",
              "      <td>2020</td>\n",
              "      <td>Dish-Stirling unit and photovoltaic panels are...</td>\n",
              "      <td>http://dx.doi.org/10.12928/telkomnika.v18i6.16676</td>\n",
              "      <td>10.12928/telkomnika.v18i6.16676</td>\n",
              "      <td>Syariffah Othman; Mohd Ruddin Ab Ghani; Zanari...</td>\n",
              "    </tr>\n",
              "    <tr>\n",
              "      <th>3779</th>\n",
              "      <td>039-449-078-784-489</td>\n",
              "      <td>Design and Implementation of Multi-Directional...</td>\n",
              "      <td>2013</td>\n",
              "      <td>This paper introduces the design of the all-ro...</td>\n",
              "      <td>http://dx.doi.org/10.4028/www.scientific.net/a...</td>\n",
              "      <td>10.4028/www.scientific.net/amm.380-384.889</td>\n",
              "      <td>null De Jun Li; Zhi Hu</td>\n",
              "    </tr>\n",
              "  </tbody>\n",
              "</table>\n",
              "</div>"
            ],
            "text/plain": [
              "                  lens_id  ...                                            authors\n",
              "4036  042-663-516-810-524  ...                       Ben Hannigan; Michael Coffey\n",
              "4116  043-683-034-743-917  ...  Syariffah Othman; Mohd Ruddin Ab Ghani; Zanari...\n",
              "3779  039-449-078-784-489  ...                             null De Jun Li; Zhi Hu\n",
              "\n",
              "[3 rows x 7 columns]"
            ]
          },
          "metadata": {
            "tags": []
          },
          "execution_count": 52
        }
      ]
    },
    {
      "cell_type": "code",
      "metadata": {
        "colab": {
          "base_uri": "https://localhost:8080/"
        },
        "id": "wVuWKSpkrRYP",
        "outputId": "8d78dba6-5d76-4274-fb36-b09bdf960e40"
      },
      "source": [
        "# last check for any NaN values\n",
        "for col in df_raw_j_clean_sub.columns:\n",
        "  if df_raw_j_clean_sub[col].isnull().values.any():\n",
        "    print(f'{col} contains NaN values.')\n",
        "  else:\n",
        "    pass"
      ],
      "execution_count": 53,
      "outputs": [
        {
          "output_type": "stream",
          "text": [
            "external_url contains NaN values.\n",
            "doi contains NaN values.\n",
            "authors contains NaN values.\n"
          ],
          "name": "stdout"
        }
      ]
    },
    {
      "cell_type": "code",
      "metadata": {
        "colab": {
          "base_uri": "https://localhost:8080/"
        },
        "id": "MOE-W66Frs4M",
        "outputId": "460dda93-df53-4f4b-e359-7a7cde7df169"
      },
      "source": [
        "# ok so we may want to link back to papers at the end of this so let's see\n",
        "# where links are missing\n",
        "\n",
        "print(f\"External URL NaN length is {len(df_raw_j_clean_sub[df_raw_j_clean_sub['external_url'].isnull()])}\")\n",
        "print(f\"DOI NaN length is {len(df_raw_j_clean_sub[df_raw_j_clean_sub['doi'].isnull()])}\")"
      ],
      "execution_count": 60,
      "outputs": [
        {
          "output_type": "stream",
          "text": [
            "External URL NaN length is 14\n",
            "DOI NaN length is 266\n"
          ],
          "name": "stdout"
        }
      ]
    },
    {
      "cell_type": "code",
      "metadata": {
        "colab": {
          "base_uri": "https://localhost:8080/",
          "height": 560
        },
        "id": "aQZJ2zBvtpjt",
        "outputId": "6ea70690-0766-4846-9125-f361c4e1b414"
      },
      "source": [
        "# only several missing so I will leave it now and come back with the API from Lens or Crossref \n",
        "# so we have the dataset ready for the clustering workflow\n",
        "\n",
        "df_raw_j_clean_sub.sample(4)"
      ],
      "execution_count": 66,
      "outputs": [
        {
          "output_type": "execute_result",
          "data": {
            "text/html": [
              "<div>\n",
              "<style scoped>\n",
              "    .dataframe tbody tr th:only-of-type {\n",
              "        vertical-align: middle;\n",
              "    }\n",
              "\n",
              "    .dataframe tbody tr th {\n",
              "        vertical-align: top;\n",
              "    }\n",
              "\n",
              "    .dataframe thead th {\n",
              "        text-align: right;\n",
              "    }\n",
              "</style>\n",
              "<table border=\"1\" class=\"dataframe\">\n",
              "  <thead>\n",
              "    <tr style=\"text-align: right;\">\n",
              "      <th></th>\n",
              "      <th>lens_id</th>\n",
              "      <th>title</th>\n",
              "      <th>year</th>\n",
              "      <th>abstract</th>\n",
              "      <th>external_url</th>\n",
              "      <th>doi</th>\n",
              "      <th>authors</th>\n",
              "    </tr>\n",
              "  </thead>\n",
              "  <tbody>\n",
              "    <tr>\n",
              "      <th>481</th>\n",
              "      <td>004-316-714-454-503</td>\n",
              "      <td>Developing an optimal electricity generation m...</td>\n",
              "      <td>2016</td>\n",
              "      <td>The UK electricity sector is undergoing a tran...</td>\n",
              "      <td>http://dx.doi.org/10.1016/j.energy.2016.01.077</td>\n",
              "      <td>10.1016/j.energy.2016.01.077</td>\n",
              "      <td>H. Sithole; Tim Cockerill; Kevin J. Hughes; De...</td>\n",
              "    </tr>\n",
              "    <tr>\n",
              "      <th>8431</th>\n",
              "      <td>106-692-423-910-289</td>\n",
              "      <td>Technological Progress towards Sustainable Dev...</td>\n",
              "      <td>2002</td>\n",
              "      <td>The purpose of this paper is twofold. First, t...</td>\n",
              "      <td>https://core.ac.uk/display/33898033</td>\n",
              "      <td>NaN</td>\n",
              "      <td>Ger Klaassen; Asami Miketa; Keywan Riahi; Leo ...</td>\n",
              "    </tr>\n",
              "    <tr>\n",
              "      <th>7786</th>\n",
              "      <td>095-715-703-331-291</td>\n",
              "      <td>Economic analysis of BIPV systems as a buildin...</td>\n",
              "      <td>2020</td>\n",
              "      <td>Abstract The main purpose of this study is to ...</td>\n",
              "      <td>http://dx.doi.org/10.1016/j.energy.2020.117931</td>\n",
              "      <td>10.1016/j.energy.2020.117931</td>\n",
              "      <td>Hassan Gholami; Harald N. Røstvik</td>\n",
              "    </tr>\n",
              "    <tr>\n",
              "      <th>7084</th>\n",
              "      <td>084-567-728-454-801</td>\n",
              "      <td>Evaluation of Combined Solar Thermal Heat Pump...</td>\n",
              "      <td>2014</td>\n",
              "      <td>Abstract This paper presents results from the ...</td>\n",
              "      <td>http://dx.doi.org/10.1016/j.egypro.2014.02.070</td>\n",
              "      <td>10.1016/j.egypro.2014.02.070</td>\n",
              "      <td>Werner Lerch; Andreas Heinz; Richard Heimrath</td>\n",
              "    </tr>\n",
              "  </tbody>\n",
              "</table>\n",
              "</div>"
            ],
            "text/plain": [
              "                  lens_id  ...                                            authors\n",
              "481   004-316-714-454-503  ...  H. Sithole; Tim Cockerill; Kevin J. Hughes; De...\n",
              "8431  106-692-423-910-289  ...  Ger Klaassen; Asami Miketa; Keywan Riahi; Leo ...\n",
              "7786  095-715-703-331-291  ...                  Hassan Gholami; Harald N. Røstvik\n",
              "7084  084-567-728-454-801  ...      Werner Lerch; Andreas Heinz; Richard Heimrath\n",
              "\n",
              "[4 rows x 7 columns]"
            ]
          },
          "metadata": {
            "tags": []
          },
          "execution_count": 66
        }
      ]
    },
    {
      "cell_type": "markdown",
      "metadata": {
        "id": "Dc_NdH3WuBIv"
      },
      "source": [
        "### Section 2: Clustering Workflow (Eren et al., 2020)"
      ]
    },
    {
      "cell_type": "markdown",
      "metadata": {
        "id": "EKVHZtjEuT9v"
      },
      "source": [
        "source: https://github.com/MaksimEkin/arXiv-Literature-Clustering/blob/master/arxiv_clustering.ipynb"
      ]
    },
    {
      "cell_type": "code",
      "metadata": {
        "id": "cHHUc6vStu5O"
      },
      "source": [
        "# so we can skip the first few cells of the original notebook as they \n",
        "# read their data into df from the source json files in the Kaggle data\n",
        "\n",
        "# We beging with the NLP \n",
        "import spacy\n",
        "from spacy.lang.en.stop_words import STOP_WORDS\n",
        "from spacy.lang.en import English"
      ],
      "execution_count": 67,
      "outputs": []
    },
    {
      "cell_type": "code",
      "metadata": {
        "colab": {
          "base_uri": "https://localhost:8080/"
        },
        "id": "cZpkZFB_ufRv",
        "outputId": "32e6b11b-a983-4e5c-c9a7-b7be70b51c13"
      },
      "source": [
        "# stop words are common words that may complicate the analysis so we set up \n",
        "# a system to remove them\n",
        "\n",
        "import string\n",
        "\n",
        "punctuations = string.punctuation\n",
        "stopwords = list(STOP_WORDS)\n",
        "stopwords[:10]"
      ],
      "execution_count": 68,
      "outputs": [
        {
          "output_type": "execute_result",
          "data": {
            "text/plain": [
              "['now',\n",
              " 'whose',\n",
              " 'why',\n",
              " 'just',\n",
              " '‘ve',\n",
              " 'thereafter',\n",
              " 'toward',\n",
              " 'although',\n",
              " 'if',\n",
              " 'everywhere']"
            ]
          },
          "metadata": {
            "tags": []
          },
          "execution_count": 68
        }
      ]
    },
    {
      "cell_type": "code",
      "metadata": {
        "id": "asS5-fJPuq74"
      },
      "source": [
        "# also adding in a few more common stop words \n",
        "custom_stop_words = [\n",
        "    'doi', 'preprint', 'copyright', 'peer', 'reviewed', 'org', 'https', 'et', 'al',\n",
        "    'author', 'figure', 'rights', 'reserved', 'permission', 'used', 'using',\n",
        "    'biorxiv', 'medrxiv', 'license', 'fig', 'fig.', 'al.', 'Elsevier', 'PMC', \n",
        "    'CZI', 'www','abstract', 'Abstract'\n",
        "]\n",
        "\n",
        "for w in custom_stop_words:\n",
        "    if w not in stopwords:\n",
        "        stopwords.append(w)"
      ],
      "execution_count": 70,
      "outputs": []
    },
    {
      "cell_type": "code",
      "metadata": {
        "id": "KNdlbgynu8Du"
      },
      "source": [
        "# Parser\n",
        "parser = spacy.load(\"en_core_web_sm\")\n",
        "parser.max_length = 7000000\n",
        "\n",
        "def call_tokenizer(df):\n",
        "    df[\"processed_abstract\"] = df[\"abstract\"].apply(spacy_tokenizer)\n",
        "    return df\n",
        "\n",
        "def spacy_tokenizer(sentence):\n",
        "    mytokens = parser(sentence)\n",
        "    mytokens = [ word.lemma_.lower().strip() if word.lemma_ != \"-PRON-\" else word.lower_ for word in mytokens ]\n",
        "    mytokens = [ word for word in mytokens if word not in stopwords and word not in punctuations ]\n",
        "    mytokens = \" \".join([i for i in mytokens])\n",
        "    return mytokens"
      ],
      "execution_count": null,
      "outputs": []
    }
  ]
}