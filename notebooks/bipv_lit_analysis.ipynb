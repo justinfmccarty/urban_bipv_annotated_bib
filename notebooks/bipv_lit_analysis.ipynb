{
  "cells": [
    {
      "cell_type": "code",
      "source": [
        "import numpy as np\n",
        "import requests\n",
        "import pandas as pd\n",
        "import json\n",
        "import os\n",
        "import glob\n",
        "import matplotlib.pyplot as plt\n",
        "\n",
        "\n",
        "token = 'm3lB5Q8zHn7wis2frICKXcmPb7yERygZnPypvcjuKPcye4IKkwdY'\n",
        "base_url = 'https://api.lens.org/scholarly/search'\n"
      ],
      "outputs": [],
      "execution_count": 143,
      "metadata": {
        "collapsed": true,
        "jupyter": {
          "source_hidden": false,
          "outputs_hidden": false
        },
        "nteract": {
          "transient": {
            "deleting": false
          }
        },
        "execution": {
          "iopub.status.busy": "2021-07-01T12:56:24.672Z",
          "iopub.execute_input": "2021-07-01T12:56:24.676Z",
          "iopub.status.idle": "2021-07-01T12:56:26.559Z",
          "shell.execute_reply": "2021-07-01T12:56:26.565Z"
        }
      }
    },
    {
      "cell_type": "code",
      "source": [
        "df = pd.read_csv('/Users/jmccarty/GitHub/urban_bipv_annotated_bib/data/lens_bipv_general_cleaning.csv')\n",
        "df = df[df['Remove']!=True]\n",
        "lens_id_list = df['Lens ID'].values.tolist()"
      ],
      "outputs": [],
      "execution_count": null,
      "metadata": {
        "collapsed": true,
        "jupyter": {
          "source_hidden": false,
          "outputs_hidden": false
        },
        "nteract": {
          "transient": {
            "deleting": false
          }
        },
        "execution": {
          "iopub.status.busy": "2021-07-01T12:03:46.884Z",
          "iopub.execute_input": "2021-07-01T12:03:46.886Z",
          "iopub.status.idle": "2021-07-01T12:03:46.891Z",
          "shell.execute_reply": "2021-07-01T12:03:46.862Z"
        }
      }
    },
    {
      "cell_type": "code",
      "source": [
        "lens_id_query_art = {\n",
        " \"query\": {\n",
        "   \"bool\": {\n",
        "     \"must\": [{\n",
        "       \"terms\": {\n",
        "         \"lens_id\": lens_id_list\n",
        "       }},\n",
        "       {\"bool\": {\n",
        "         \"must\": [\n",
        "           {\"term\": {\"publication_type\": \"journal article\"}},\n",
        "         ]\n",
        "       }\n",
        "       }\n",
        "     ]\n",
        "   }\n",
        " }\n",
        "}\n",
        "\n",
        "lens_id_query_conf = {\n",
        " \"query\": {\n",
        "   \"bool\": {\n",
        "     \"must\": [{\n",
        "       \"terms\": {\n",
        "         \"lens_id\": lens_id_list\n",
        "       }},\n",
        "       {\"bool\": {\n",
        "         \"must\": [\n",
        "           {\"term\": {\"publication_type\": \"conference proceedings\"}},\n",
        "         ]\n",
        "       }\n",
        "       }\n",
        "     ]\n",
        "   }\n",
        " }\n",
        "}"
      ],
      "outputs": [],
      "execution_count": null,
      "metadata": {
        "collapsed": true,
        "jupyter": {
          "source_hidden": false,
          "outputs_hidden": false
        },
        "nteract": {
          "transient": {
            "deleting": false
          }
        },
        "execution": {
          "iopub.status.busy": "2021-07-01T12:03:46.899Z",
          "iopub.execute_input": "2021-07-01T12:03:46.902Z",
          "iopub.status.idle": "2021-07-01T12:03:46.904Z",
          "shell.execute_reply": "2021-07-01T12:03:46.866Z"
        }
      }
    },
    {
      "cell_type": "code",
      "source": [
        "lens_id_query = {\n",
        "     \"query\": {\n",
        "           \"terms\":{\n",
        "                \"lens_id\": lens_id_list\n",
        "           }\n",
        "     },\n",
        "     \"include\":[\"lens_id\",\"publication_type\",\"year_published\",\"title\",\"abstract\",\"authors.affiliations.name\",\"languages\"]\n",
        "}\n",
        "\n",
        "lens_id_query2 = {\n",
        "           \"terms\":{\n",
        "                \"lens_id\": lens_id_list\n",
        "           }\n",
        "     }"
      ],
      "outputs": [],
      "execution_count": null,
      "metadata": {
        "collapsed": true,
        "jupyter": {
          "source_hidden": false,
          "outputs_hidden": false
        },
        "nteract": {
          "transient": {
            "deleting": false
          }
        },
        "execution": {
          "iopub.status.busy": "2021-07-01T12:03:46.918Z",
          "iopub.execute_input": "2021-07-01T12:03:46.924Z",
          "iopub.status.idle": "2021-07-01T12:03:46.927Z",
          "shell.execute_reply": "2021-07-01T12:03:46.870Z"
        }
      }
    },
    {
      "cell_type": "code",
      "source": [
        "headers = {'Authorization': token, 'Content-Type': 'application/json'}\n",
        "response = requests.post(base_url, json=lens_id_query, headers=headers)\n",
        "if response.status_code != requests.codes.ok:\n",
        "    print(response.status_code)\n",
        "else:\n",
        "    json_data = json.loads(response.text)\n",
        "    print(len(json_data['data']))\n",
        "json_data['data'][2]"
      ],
      "outputs": [],
      "execution_count": null,
      "metadata": {
        "collapsed": false,
        "jupyter": {
          "source_hidden": false,
          "outputs_hidden": false
        },
        "nteract": {
          "transient": {
            "deleting": false
          }
        },
        "execution": {
          "iopub.status.busy": "2021-07-01T12:03:46.932Z",
          "iopub.execute_input": "2021-07-01T12:03:46.935Z",
          "iopub.status.idle": "2021-07-01T12:03:49.239Z",
          "shell.execute_reply": "2021-07-01T12:03:49.278Z"
        }
      }
    },
    {
      "cell_type": "code",
      "source": [
        "import requests\n",
        "import time\n",
        "url = 'https://api.lens.org/scholarly/search'\n",
        "\n",
        "# include fields\n",
        "# field_list = [\"lens_id\",\"publication_type\",\"year_published\",\"title\",\"abstract\",\"authors.affiliations.name\",\"languages\"]\n",
        "\n",
        "# request body with scroll time of 1 minute\n",
        "request_body = {\n",
        "     \"query\": lens_id_query2,\n",
        "     \"size\": 1000,\n",
        "     \"scroll\":\"1m\",\n",
        "}\n",
        "headers = {'Authorization': token, 'Content-Type': 'application/json'}\n",
        "\n",
        "# Recursive function to scroll through paginated results\n",
        "def scroll(scroll_id):\n",
        "    # Change the request_body to prepare for next scroll api call\n",
        "    # Make sure to append the include fields to make faster response\n",
        "    if scroll_id is not None:\n",
        "        global request_body\n",
        "        request_body = {\"scroll_id\": scroll_id}\n",
        "\n",
        "    # make api request\n",
        "    response = requests.post(url, json=request_body, headers=headers) \n",
        "\n",
        "    # If rate-limited, wait for n seconds and proceed the same scroll id\n",
        "    # Since scroll time is 1 minutes, it will give sufficient time to wait and proceed\n",
        "    if response.status_code == requests.codes.too_many_requests:\n",
        "        time.sleep(8)\n",
        "        scroll(scroll_id)\n",
        "    # If the response is not ok here, better to stop here and debug it\n",
        "    elif response.status_code != requests.codes.ok:\n",
        "        print(response.json())\n",
        "    # If the response is ok, do something with the response, take the new scroll id and iterate\n",
        "    else:\n",
        "        json_data = response.json()\n",
        "        scroll_id = json_data['scroll_id'] # Extract the new scroll id from response\n",
        "\n",
        "        print('Saving')\n",
        "        idnumber = json_data['data'][0]['lens_id']\n",
        "        json.dump(json_data,open(f'/Users/jmccarty/Desktop/bipv_data/dump_{idnumber}.json','w'))\n",
        "\n",
        "        scroll(scroll_id)\n",
        "\n",
        "# start recursive scrolling\n",
        "scrolled = scroll(scroll_id=None)\n"
      ],
      "outputs": [],
      "execution_count": null,
      "metadata": {
        "collapsed": true,
        "jupyter": {
          "source_hidden": false,
          "outputs_hidden": false
        },
        "nteract": {
          "transient": {
            "deleting": false
          }
        },
        "execution": {
          "iopub.status.busy": "2021-07-01T12:33:54.276Z",
          "iopub.execute_input": "2021-07-01T12:33:54.281Z",
          "iopub.status.idle": "2021-07-01T11:11:11.509Z",
          "shell.execute_reply": "2021-07-01T11:11:11.514Z"
        }
      }
    },
    {
      "cell_type": "markdown",
      "source": [
        "## Move to Compiling and Cleaning"
      ],
      "metadata": {
        "nteract": {
          "transient": {
            "deleting": false
          }
        }
      }
    },
    {
      "cell_type": "code",
      "source": [
        "# write function to grab data from a single entry\n",
        "\n",
        "def get_data(data,field):\n",
        "    try:\n",
        "        if field=='authors':\n",
        "            try:\n",
        "                value = 'org_' + str(data[field][0]['affiliations'][0]['name'])\n",
        "            except KeyError:\n",
        "                id_type = data[field][0]['ids'][0]['type']\n",
        "                id_value = data[field][0]['ids'][0]['value']\n",
        "                value = str(id_type) + '_' + str(id_value)\n",
        "        else:\n",
        "            try:\n",
        "                value = data[field]\n",
        "            except KeyError:\n",
        "                value = 'none'\n",
        "    except KeyError:\n",
        "        value = 'none'\n",
        "    \n",
        "    return value\n",
        "\n",
        "\n",
        "\n",
        "\n",
        "def extract_fields(data):\n",
        "    data_dict = dict()\n",
        "    data_dict['lens_id'] = get_data(data,'lens_id')\n",
        "    data_dict['document_type'] = get_data(data,'publication_type')\n",
        "    data_dict['title'] = get_data(data,'title')\n",
        "    data_dict['abstract'] = get_data(data,'abstract')\n",
        "    data_dict['affiliation'] = get_data(data,'authors')\n",
        "    data_dict['keywords'] = get_data(data,'fields_of_study')\n",
        "    data_dict['keywords_count'] = len(get_data(data,'fields_of_study'))\n",
        "    data_dict['language'] = get_data(data,'languages')[0]\n",
        "    return data_dict\n"
      ],
      "outputs": [],
      "execution_count": 132,
      "metadata": {
        "collapsed": true,
        "jupyter": {
          "source_hidden": false,
          "outputs_hidden": false
        },
        "nteract": {
          "transient": {
            "deleting": false
          }
        },
        "execution": {
          "iopub.status.busy": "2021-07-01T12:46:05.618Z",
          "iopub.execute_input": "2021-07-01T12:46:05.623Z",
          "iopub.status.idle": "2021-07-01T12:46:05.634Z",
          "shell.execute_reply": "2021-07-01T12:46:05.643Z"
        }
      }
    },
    {
      "cell_type": "code",
      "source": [
        "# create file list \n",
        "files = glob.glob(\"/Users/jmccarty/Desktop/bipv_data/*.json\")\n",
        "\n",
        "# write function to create dataframe for each file\n",
        "def function(current_file):\n",
        "    with open(current_file) as jsonFile:\n",
        "        json_str = jsonFile.read()\n",
        "        json_data = json.loads(json_str)\n",
        "        data_list = []\n",
        "        # get_data(data,'abstract')\n",
        "        for i in list(range(0,len(json_data['data']))):\n",
        "            data_list.append(extract_fields(json_data['data'][i]))\n",
        "\n",
        "        return pd.DataFrame(data_list)\n",
        "\n"
      ],
      "outputs": [],
      "execution_count": 133,
      "metadata": {
        "collapsed": true,
        "jupyter": {
          "source_hidden": false,
          "outputs_hidden": false
        },
        "nteract": {
          "transient": {
            "deleting": false
          }
        },
        "execution": {
          "iopub.status.busy": "2021-07-01T12:46:23.689Z",
          "iopub.execute_input": "2021-07-01T12:46:23.692Z",
          "iopub.status.idle": "2021-07-01T12:46:23.697Z",
          "shell.execute_reply": "2021-07-01T12:46:23.699Z"
        }
      }
    },
    {
      "cell_type": "code",
      "source": [
        "#extract and concat all data into one frame\n",
        "df_list = []\n",
        "\n",
        "for i in files:\n",
        "    df_list.append(function(i))\n",
        "\n",
        "all_data = pd.concat(df_list)\n",
        "print(len(all_data))"
      ],
      "outputs": [
        {
          "output_type": "stream",
          "name": "stdout",
          "text": [
            "6958\n"
          ]
        }
      ],
      "execution_count": 158,
      "metadata": {
        "collapsed": true,
        "jupyter": {
          "source_hidden": false,
          "outputs_hidden": false
        },
        "nteract": {
          "transient": {
            "deleting": false
          }
        },
        "execution": {
          "iopub.status.busy": "2021-07-01T13:04:57.971Z",
          "iopub.execute_input": "2021-07-01T13:04:57.977Z",
          "iopub.status.idle": "2021-07-01T13:05:00.641Z",
          "shell.execute_reply": "2021-07-01T13:05:00.652Z"
        }
      }
    },
    {
      "cell_type": "code",
      "source": [
        "all_data.to_csv('/Users/jmccarty/GitHub/urban_bipv_annotated_bib/data/lit_dataset_all.csv')"
      ],
      "outputs": [],
      "execution_count": 171,
      "metadata": {
        "collapsed": true,
        "jupyter": {
          "source_hidden": false,
          "outputs_hidden": false
        },
        "nteract": {
          "transient": {
            "deleting": false
          }
        },
        "execution": {
          "iopub.status.busy": "2021-07-01T13:16:02.856Z",
          "iopub.execute_input": "2021-07-01T13:16:02.863Z",
          "iopub.status.idle": "2021-07-01T13:16:02.983Z",
          "shell.execute_reply": "2021-07-01T13:16:03.045Z"
        }
      }
    },
    {
      "cell_type": "code",
      "source": [
        "# check length after removing non peer review\n",
        "pd.value_counts(all_data['document_type']).plot.bar()\n",
        "\n",
        "all_data_peer = all_data[(all_data['document_type']=='journal article') | \\\n",
        " (all_data['document_type']=='conference proceedings article') | \\\n",
        "  (all_data['document_type']=='conference proceedings')]\n",
        "\n",
        "print(len(all_data_peer))"
      ],
      "outputs": [
        {
          "output_type": "stream",
          "name": "stdout",
          "text": [
            "4892\n"
          ]
        },
        {
          "output_type": "display_data",
          "data": {
            "text/plain": "<Figure size 432x288 with 1 Axes>",
            "image/png": "[encoded data removed]"
          },
          "metadata": {
            "needs_background": "light"
          }
        }
      ],
      "execution_count": 163,
      "metadata": {
        "collapsed": true,
        "jupyter": {
          "source_hidden": false,
          "outputs_hidden": false
        },
        "nteract": {
          "transient": {
            "deleting": false
          }
        },
        "execution": {
          "iopub.status.busy": "2021-07-01T13:09:12.767Z",
          "iopub.execute_input": "2021-07-01T13:09:12.775Z",
          "iopub.status.idle": "2021-07-01T13:09:12.840Z",
          "shell.execute_reply": "2021-07-01T13:09:12.849Z"
        }
      }
    },
    {
      "cell_type": "code",
      "source": [
        "# check length after removing non english\n",
        "pd.value_counts(all_data_peer['language']).plot.bar()\n",
        "\n",
        "all_data_peer_en = all_data_peer[all_data_peer['language']=='en']\n",
        "\n",
        "print(len(all_data_peer_en))"
      ],
      "outputs": [
        {
          "output_type": "stream",
          "name": "stdout",
          "text": [
            "4662\n"
          ]
        },
        {
          "output_type": "display_data",
          "data": {
            "text/plain": "<Figure size 432x288 with 1 Axes>",
            "image/png": "[encoded data removed]"
          },
          "metadata": {
            "needs_background": "light"
          }
        }
      ],
      "execution_count": 166,
      "metadata": {
        "collapsed": true,
        "jupyter": {
          "source_hidden": false,
          "outputs_hidden": false
        },
        "nteract": {
          "transient": {
            "deleting": false
          }
        },
        "execution": {
          "iopub.status.busy": "2021-07-01T13:10:04.292Z",
          "iopub.execute_input": "2021-07-01T13:10:04.298Z",
          "iopub.status.idle": "2021-07-01T13:10:04.356Z",
          "shell.execute_reply": "2021-07-01T13:10:04.364Z"
        }
      }
    },
    {
      "cell_type": "code",
      "source": [
        "# check length after removing no abstract\n",
        "# pd.value_counts(all_data_peer['language']).plot.bar()\n",
        "\n",
        "\n",
        "all_data_peer_en_ab = all_data_peer_en[all_data_peer_en['abstract']!='none']\n",
        "print(len(all_data_peer_en_ab))"
      ],
      "outputs": [
        {
          "output_type": "stream",
          "name": "stdout",
          "text": [
            "4256\n"
          ]
        }
      ],
      "execution_count": 169,
      "metadata": {
        "collapsed": true,
        "jupyter": {
          "source_hidden": false,
          "outputs_hidden": false
        },
        "nteract": {
          "transient": {
            "deleting": false
          }
        },
        "execution": {
          "iopub.status.busy": "2021-07-01T13:11:42.254Z",
          "iopub.execute_input": "2021-07-01T13:11:42.264Z",
          "iopub.status.idle": "2021-07-01T13:11:42.285Z",
          "shell.execute_reply": "2021-07-01T13:11:42.290Z"
        }
      }
    },
    {
      "cell_type": "code",
      "source": [
        "# save dataset to file\n",
        "all_data_peer_en_ab.to_csv('/Users/jmccarty/GitHub/urban_bipv_annotated_bib/data/lit_dataset_clean.csv')"
      ],
      "outputs": [],
      "execution_count": 172,
      "metadata": {
        "collapsed": true,
        "jupyter": {
          "source_hidden": false,
          "outputs_hidden": false
        },
        "nteract": {
          "transient": {
            "deleting": false
          }
        },
        "execution": {
          "iopub.status.busy": "2021-07-01T13:16:09.900Z",
          "iopub.execute_input": "2021-07-01T13:16:09.908Z",
          "iopub.status.idle": "2021-07-01T13:16:10.003Z",
          "shell.execute_reply": "2021-07-01T13:16:10.007Z"
        }
      }
    }
  ],
  "metadata": {
    "kernel_info": {
      "name": "nteract"
    },
    "language_info": {
      "name": "python",
      "version": "3.9.5",
      "mimetype": "text/x-python",
      "codemirror_mode": {
        "name": "ipython",
        "version": 3
      },
      "pygments_lexer": "ipython3",
      "nbconvert_exporter": "python",
      "file_extension": ".py"
    },
    "kernelspec": {
      "argv": [
        "/opt/homebrew/Caskroom/miniforge/base/envs/nteract/bin/python",
        "-m",
        "ipykernel_launcher",
        "-f",
        "{connection_file}"
      ],
      "display_name": "nteract",
      "language": "python",
      "name": "nteract"
    },
    "nteract": {
      "version": "0.28.0"
    }
  },
  "nbformat": 4,
  "nbformat_minor": 0
}