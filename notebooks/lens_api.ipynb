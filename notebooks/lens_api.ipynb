{
  "cells": [
    {
      "cell_type": "code",
      "source": [
        "import requests\n",
        "import pandas as pd\n",
        "\n",
        "import json\n",
        "token = 'm3lB5Q8zHn7wis2frICKXcmPb7yERygZnPypvcjuKPcye4IKkwdY'"
      ],
      "outputs": [],
      "execution_count": 2,
      "metadata": {
        "collapsed": true,
        "jupyter": {
          "source_hidden": false,
          "outputs_hidden": false
        },
        "nteract": {
          "transient": {
            "deleting": false
          }
        },
        "execution": {
          "iopub.status.busy": "2021-07-07T09:53:43.883Z",
          "iopub.execute_input": "2021-07-07T09:53:43.888Z",
          "iopub.status.idle": "2021-07-07T09:53:43.900Z",
          "shell.execute_reply": "2021-07-07T09:53:43.906Z"
        }
      }
    },
    {
      "cell_type": "code",
      "source": [
        "base_url = 'https://api.lens.org/scholarly/search'\n"
      ],
      "outputs": [],
      "execution_count": 3,
      "metadata": {
        "collapsed": true,
        "jupyter": {
          "source_hidden": false,
          "outputs_hidden": false
        },
        "nteract": {
          "transient": {
            "deleting": false
          }
        },
        "execution": {
          "iopub.status.busy": "2021-07-07T09:53:45.603Z",
          "iopub.execute_input": "2021-07-07T09:53:45.619Z",
          "iopub.status.idle": "2021-07-07T09:53:45.634Z",
          "shell.execute_reply": "2021-07-07T09:53:45.643Z"
        }
      }
    },
    {
      "cell_type": "code",
      "source": [
        "data = pd.read_csv('/Users/jmccarty/GitHub/urban_bipv_annotated_bib/data/lens_bipv_general.csv')\n",
        "lens_id_list = data['Lens ID'].values.tolist()\n",
        "lens_id_list[0:5]"
      ],
      "outputs": [
        {
          "output_type": "execute_result",
          "execution_count": 37,
          "data": {
            "text/plain": "['000-033-539-196-264',\n '000-044-578-669-216',\n '000-057-840-270-546',\n '000-066-246-955-002',\n '000-070-229-075-646']"
          },
          "metadata": {}
        }
      ],
      "execution_count": 37,
      "metadata": {
        "collapsed": true,
        "jupyter": {
          "source_hidden": false,
          "outputs_hidden": false
        },
        "nteract": {
          "transient": {
            "deleting": false
          }
        },
        "execution": {
          "iopub.status.busy": "2021-06-30T13:28:08.003Z",
          "iopub.execute_input": "2021-06-30T13:28:08.011Z",
          "iopub.status.idle": "2021-06-30T13:28:08.152Z",
          "shell.execute_reply": "2021-06-30T13:28:08.161Z"
        }
      }
    },
    {
      "cell_type": "code",
      "source": [
        "lens_id_query = {\n",
        "     \"query\": {\n",
        "           \"terms\":{\n",
        "                \"lens_id\": lens_id_list\n",
        "           }\n",
        "     }\n",
        "}\n",
        "\n",
        "lens_id_query2 = {\n",
        "           \"terms\":{\n",
        "                \"lens_id\": lens_id_list[0:500]\n",
        "           }\n",
        "     }"
      ],
      "outputs": [],
      "execution_count": 31,
      "metadata": {
        "collapsed": true,
        "jupyter": {
          "source_hidden": false,
          "outputs_hidden": false
        },
        "nteract": {
          "transient": {
            "deleting": false
          }
        },
        "execution": {
          "iopub.status.busy": "2021-06-30T13:09:21.863Z",
          "iopub.execute_input": "2021-06-30T13:09:21.868Z",
          "iopub.status.idle": "2021-06-30T13:09:21.877Z",
          "shell.execute_reply": "2021-06-30T13:09:21.888Z"
        }
      }
    },
    {
      "cell_type": "markdown",
      "source": [
        "(\n",
        "    ( \n",
        "    BIPV\\* OR BAPV\\* \n",
        "    OR \n",
        "    'building \\b photovoltaic\\*' \n",
        "    OR \n",
        "    photovoltaic* \n",
        "    OR \n",
        "    'photovoltaic thermal'\n",
        "    ) \n",
        "AND \n",
        "    (urban \n",
        "    OR \n",
        "    (cities OR city)\n",
        "    )\n",
        ")"
      ],
      "metadata": {
        "nteract": {
          "transient": {
            "deleting": false
          }
        }
      }
    },
    {
      "cell_type": "code",
      "source": [
        "headers = {'Authorization': token, 'Content-Type': 'application/json'}\n",
        "response = requests.post(base_url, json=lens_id_query, headers=headers)\n",
        "if response.status_code != requests.codes.ok:\n",
        "    print(response.status_code)\n",
        "else:\n",
        "    json_data = json.loads(response.text)\n",
        "    print(len(json_data['data']))"
      ],
      "outputs": [
        {
          "output_type": "stream",
          "name": "stdout",
          "text": [
            "20\n"
          ]
        }
      ],
      "execution_count": 33,
      "metadata": {
        "collapsed": true,
        "jupyter": {
          "source_hidden": false,
          "outputs_hidden": false
        },
        "nteract": {
          "transient": {
            "deleting": false
          }
        },
        "execution": {
          "iopub.status.busy": "2021-06-30T13:09:33.425Z",
          "iopub.execute_input": "2021-06-30T13:09:33.430Z",
          "iopub.status.idle": "2021-06-30T13:10:37.161Z",
          "shell.execute_reply": "2021-06-30T13:10:37.308Z"
        }
      }
    },
    {
      "cell_type": "code",
      "source": [
        "json_data['data'][2]"
      ],
      "outputs": [],
      "execution_count": null,
      "metadata": {
        "collapsed": true,
        "jupyter": {
          "source_hidden": false,
          "outputs_hidden": false
        },
        "nteract": {
          "transient": {
            "deleting": false
          }
        },
        "execution": {
          "iopub.status.busy": "2021-06-30T13:11:46.888Z",
          "iopub.execute_input": "2021-06-30T13:11:46.892Z",
          "iopub.status.idle": "2021-06-30T13:11:46.910Z",
          "shell.execute_reply": "2021-06-30T13:11:46.914Z"
        }
      }
    },
    {
      "cell_type": "code",
      "source": [
        "import requests\n",
        "import time\n",
        "url = 'https://api.lens.org/scholarly/search'\n",
        "\n",
        "# include fields\n",
        "include = [\"abstract\", \"lens_id\"]\n",
        "# request body with scroll time of 1 minute\n",
        "request_body = {\n",
        "     \"query\": lens_id_query2,\n",
        "     \"size\": 100,\n",
        "     \"scroll\":\"1m\",\n",
        "     \"include\": include\n",
        "}\n",
        "headers = {'Authorization': token, 'Content-Type': 'application/json'}\n",
        "\n",
        "# Recursive function to scroll through paginated results\n",
        "def scroll(scroll_id):\n",
        "  # Change the request_body to prepare for next scroll api call\n",
        "  # Make sure to append the include fields to make faster response\n",
        "  if scroll_id is not None:\n",
        "    global request_body\n",
        "    request_body = '''{\"scroll_id\": \"%s\", \"include\": %s}''' % (scroll_id, include)\n",
        "\n",
        "  # make api request\n",
        "  response = requests.post(url, json=request_body, headers=headers) \n",
        "\n",
        "  # If rate-limited, wait for n seconds and proceed the same scroll id\n",
        "  # Since scroll time is 1 minutes, it will give sufficient time to wait and proceed\n",
        "  if response.status_code == requests.codes.too_many_requests:\n",
        "    time.sleep(8)\n",
        "    scroll(scroll_id)\n",
        "  # If the response is not ok here, better to stop here and debug it\n",
        "  elif response.status_code != requests.codes.ok:\n",
        "    print(response.json())\n",
        "  # If the response is ok, do something with the response, take the new scroll id and iterate\n",
        "  else:\n",
        "    json = response.json()\n",
        "    scroll_id = json['scroll_id'] # Extract the new scroll id from response\n",
        "    scroll(scroll_id)\n",
        "# start recursive scrolling\n",
        "scrolled = scroll(scroll_id=None)"
      ],
      "outputs": [
        {
          "output_type": "stream",
          "name": "stdout",
          "text": [
            "Good on MjAyMTI0;FGluY2x1ZGVfY29udGV4dF91dWlkDnF1ZXJ5VGhlbkZldGNoGBRxeW9KWFhvQnp3ZFFkOGQyTUc4TQAAAAAANt4KFlVOd1FabmN5Um02dmF1VkMtb1pKQ0EUcVNvSlhYb0J6d2RRZDhkMk1HOEwAAAAAADbeCBZVTndRWm5jeVJtNnZhdVZDLW9aSkNBFDBmVUpYWG9CNnlpQjVkZ1BNTjRMAAAAAAA7XUIWZG9sZVhDMURSeE94dHJSSndob1U5URQwdlVKWFhvQjZ5aUI1ZGdQTU40TAAAAAAAO11DFmRvbGVYQzFEUnhPeHRyUkp3aG9VOVEUMF9VSlhYb0I2eWlCNWRnUE1ONEwAAAAAADtdRBZkb2xlWEMxRFJ4T3h0clJKd2hvVTlRFHJDb0pYWG9CendkUWQ4ZDJNRzhNAAAAAAA23gsWVU53UVpuY3lSbTZ2YXVWQy1vWkpDQRRxaW9KWFhvQnp3ZFFkOGQyTUc4TAAAAAAANt4JFlVOd1FabmN5Um02dmF1VkMtb1pKQ0EUMVBVSlhYb0I2eWlCNWRnUE1ONEwAAAAAADtdRRZkb2xlWEMxRFJ4T3h0clJKd2hvVTlRFHFDb0pYWG9CendkUWQ4ZDJNRzhMAAAAAAA23gcWVU53UVpuY3lSbTZ2YXVWQy1vWkpDQRRyU29KWFhvQnp3ZFFkOGQyTUc4ZQAAAAAANt4MFlVOd1FabmN5Um02dmF1VkMtb1pKQ0EUcmlvSlhYb0J6d2RRZDhkMk1HOG8AAAAAADbeDRZVTndRWm5jeVJtNnZhdVZDLW9aSkNBFDFmVUpYWG9CNnlpQjVkZ1BNTjRMAAAAAAA7XUYWZG9sZVhDMURSeE94dHJSSndob1U5URQxdlVKWFhvQjZ5aUI1ZGdQTU40YwAAAAAAO11HFmRvbGVYQzFEUnhPeHRyUkp3aG9VOVEUcnlvSlhYb0J6d2RRZDhkMk1HOHEAAAAAADbeDhZVTndRWm5jeVJtNnZhdVZDLW9aSkNBFDFfVUpYWG9CNnlpQjVkZ1BNTjRqAAAAAAA7XUgWZG9sZVhDMURSeE94dHJSSndob1U5URQyUFVKWFhvQjZ5aUI1ZGdQTU40bAAAAAAAO11JFmRvbGVYQzFEUnhPeHRyUkp3aG9VOVEUc0NvSlhYb0J6d2RRZDhkMk1HOHEAAAAAADbeDxZVTndRWm5jeVJtNnZhdVZDLW9aSkNBFHNTb0pYWG9CendkUWQ4ZDJNRzh2AAAAAAA23hAWVU53UVpuY3lSbTZ2YXVWQy1vWkpDQRRzaW9KWFhvQnp3ZFFkOGQyTUc4MwAAAAAANt4RFlVOd1FabmN5Um02dmF1VkMtb1pKQ0EUMmZVSlhYb0I2eWlCNWRnUE1ONG0AAAAAADtdShZkb2xlWEMxRFJ4T3h0clJKd2hvVTlRFDJ2VUpYWG9CNnlpQjVkZ1BNTjRuAAAAAAA7XUsWZG9sZVhDMURSeE94dHJSSndob1U5URRzeW9KWFhvQnp3ZFFkOGQyTUc4XwAAAAAANt4SFlVOd1FabmN5Um02dmF1VkMtb1pKQ0EUMl9VSlhYb0I2eWlCNWRnUE1ONHkAAAAAADtdTBZkb2xlWEMxRFJ4T3h0clJKd2hvVTlRFDNQVUpYWG9CNnlpQjVkZ1BNTjR6AAAAAAA7XU0WZG9sZVhDMURSeE94dHJSSndob1U5UQ==\n",
            "{'reference': '68d87e2b-a962-4221-bf5c-691ffa84dd6f', 'message': 'Mismatched input for fields - []', 'code': 400}\n"
          ]
        }
      ],
      "execution_count": 30,
      "metadata": {
        "collapsed": true,
        "jupyter": {
          "source_hidden": false,
          "outputs_hidden": false
        },
        "nteract": {
          "transient": {
            "deleting": false
          }
        },
        "execution": {
          "iopub.status.busy": "2021-06-30T13:08:40.295Z",
          "iopub.execute_input": "2021-06-30T13:08:40.299Z",
          "iopub.status.idle": "2021-06-30T13:08:42.653Z",
          "shell.execute_reply": "2021-06-30T13:08:42.664Z"
        }
      }
    },
    {
      "cell_type": "markdown",
      "source": [
        "## Get Specific ID"
      ],
      "metadata": {
        "nteract": {
          "transient": {
            "deleting": false
          }
        }
      }
    },
    {
      "cell_type": "code",
      "source": [
        "id_number = '3083806426'\n",
        "id_type = 'magid'\n",
        "\n",
        "id_query = {\n",
        "            \"query\": {\n",
        "                \"terms\":{\n",
        "                        \"author.{}\".format(id_type): [id_number]\n",
        "                }\n",
        "            }\n",
        "        }\n",
        "\n",
        "headers = {'Authorization': token, 'Content-Type': 'application/json'}\n",
        "response = requests.post(base_url, json=id_query, headers=headers)\n",
        "if response.status_code != requests.codes.ok:\n",
        "    print(response.status_code)\n",
        "else:\n",
        "    json_data = json.loads(response.text)\n",
        "    print(len(json_data['data']))\n",
        "\n",
        "\n",
        "json_data['data']"
      ],
      "outputs": [
        {
          "output_type": "stream",
          "name": "stdout",
          "text": [
            "1\n"
          ]
        },
        {
          "output_type": "execute_result",
          "execution_count": 77,
          "data": {
            "text/plain": "[{'lens_id': '014-252-422-109-698',\n  'title': 'Articulation of environmental management in projects of non-conventional energy sources in the Caribbean Colombian region',\n  'publication_type': 'journal article',\n  'year_published': 2018,\n  'date_published': '2018-12-07T00:00:00.000000+00:00',\n  'date_published_parts': [2018, 12, 7],\n  'created': '2018-12-15T11:59:50.450000+00:00',\n  'external_ids': [{'type': 'doi', 'value': '10.1088/1742-6596/1126/1/012024'},\n   {'type': 'coreid', 'value': '187495666'},\n   {'type': 'magid', 'value': '2904063915'}],\n  'open_access': {'license': 'cc-by', 'colour': 'gold'},\n  'authors': [{'first_name': 'Y D',\n    'last_name': 'Cardenas',\n    'initials': 'YD',\n    'ids': [{'type': 'magid', 'value': '3083806426'}]},\n   {'first_name': 'Guillermo E.',\n    'last_name': 'Valencia',\n    'initials': 'GE',\n    'ids': [{'type': 'magid', 'value': '2645625765'},\n     {'type': 'orcid', 'value': '0000-0001-5437-1964'}]},\n   {'first_name': 'Carlos H.',\n    'last_name': 'Acevedo',\n    'initials': 'CH',\n    'ids': [{'type': 'magid', 'value': '2905356357'}]}],\n  'source': {'title': 'Journal of Physics: Conference Series',\n   'type': 'Journal',\n   'publisher': 'IOP Publishing',\n   'issn': [{'type': 'print', 'value': '17426588'},\n    {'type': 'electronic', 'value': '17426596'}],\n   'country': 'United Kingdom',\n   'asjc_codes': ['3100'],\n   'asjc_subjects': ['General Physics and Astronomy']},\n  'fields_of_study': ['Environmental resource management',\n   'Business',\n   'Articulation (phonetics)',\n   'Energy source'],\n  'volume': '1126',\n  'languages': ['en'],\n  'references': [{'lens_id': '019-731-774-658-973'},\n   {'lens_id': '046-136-180-971-367'},\n   {'lens_id': '055-555-134-933-143'},\n   {'lens_id': '057-435-858-428-640'},\n   {'lens_id': '081-244-161-326-132'},\n   {'lens_id': '082-430-869-169-844'},\n   {'lens_id': '083-188-841-891-636'},\n   {'lens_id': '097-217-744-103-691'},\n   {'lens_id': '114-936-603-641-053'}],\n  'source_urls': [{'type': 'html',\n    'url': 'https://repositorio.cuc.edu.co/handle/11323/2277'},\n   {'type': 'core_fulltext',\n    'url': 'https://core.ac.uk/download/187495666.pdf'}],\n  'abstract': 'This work addresses an inclusion methodology based on criteria for the\\r\\nimplementation of non-conventional energy sources and critical environmental factors for the\\r\\nlicensing of the same, which is applied to the case study installation of wind turbines in seawater\\r\\ndesalination plants in Isla Grande - Bolívar, this study was carried out taking into account field\\r\\nvisits, and previous studies, where its main researchers and observers coincide with the authors\\r\\nof this article, the proposal includes aspects that involve the matrix of project stakeholders, work\\r\\nis completed with the qualitative and quantitative analysis of the factors of greater environmental\\r\\nimpact, within the obtained results it is emphasized that the greatest impact that this project\\r\\nmakes to 170 habitants of Isla Grande Bolivar is the changes of the current and/or potential use\\r\\nof soil, soil contamination and displacement of birds, In mammal, reptile and amphibian\\r\\ncommunities, it is suggested that Environmental Management Plans (PMA) be implemented,\\r\\nsuch as programs for conservation management, soil resource management, and vegetation and\\r\\nwildlife management programs, allowing for effective licensing of the project benefiting equally\\r\\nthe interest group',\n  'references_count': 9,\n  'start_page': '012024',\n  'author_count': 3,\n  'is_open_access': True}]"
          },
          "metadata": {}
        }
      ],
      "execution_count": 77,
      "metadata": {
        "collapsed": true,
        "jupyter": {
          "source_hidden": false,
          "outputs_hidden": false
        },
        "nteract": {
          "transient": {
            "deleting": false
          }
        },
        "execution": {
          "iopub.status.busy": "2021-07-01T14:36:20.934Z",
          "iopub.execute_input": "2021-07-01T14:36:20.942Z",
          "iopub.status.idle": "2021-07-01T14:36:21.867Z",
          "shell.execute_reply": "2021-07-01T14:36:21.887Z"
        }
      }
    },
    {
      "cell_type": "code",
      "source": [
        "json_data['data'][1]['authors']"
      ],
      "outputs": [
        {
          "output_type": "execute_result",
          "execution_count": 55,
          "data": {
            "text/plain": "[{'first_name': 'Francesco',\n  'last_name': 'Causone',\n  'initials': 'F',\n  'ids': [{'type': 'magid', 'value': '130785132'},\n   {'type': 'orcid', 'value': '0000-0002-8694-7232'}],\n  'affiliations': [{'name': 'Polytechnic University of Milan',\n    'grid_id': 'grid.4643.5',\n    'country_code': 'IT'}]},\n {'first_name': 'Martina',\n  'last_name': 'Pelle',\n  'initials': 'M',\n  'ids': [{'type': 'magid', 'value': '2967022221'}],\n  'affiliations': [{'name': 'Polytechnic University of Milan',\n    'grid_id': 'grid.4643.5',\n    'country_code': 'IT'}]}]"
          },
          "metadata": {}
        }
      ],
      "execution_count": 55,
      "metadata": {
        "collapsed": true,
        "jupyter": {
          "source_hidden": false,
          "outputs_hidden": false
        },
        "nteract": {
          "transient": {
            "deleting": false
          }
        },
        "execution": {
          "iopub.status.busy": "2021-07-01T14:12:36.687Z",
          "iopub.execute_input": "2021-07-01T14:12:36.693Z",
          "iopub.status.idle": "2021-07-01T14:12:36.710Z",
          "shell.execute_reply": "2021-07-01T14:12:36.714Z"
        }
      }
    },
    {
      "cell_type": "code",
      "source": [
        "lens_id = '175-607-973-713-996'\n",
        "id_type = 'orcid'\n",
        "number = '0000-0002-5467-3695'"
      ],
      "outputs": [],
      "execution_count": 154,
      "metadata": {
        "collapsed": true,
        "jupyter": {
          "source_hidden": false,
          "outputs_hidden": false
        },
        "nteract": {
          "transient": {
            "deleting": false
          }
        },
        "execution": {
          "iopub.status.busy": "2021-07-07T12:06:06.644Z",
          "iopub.execute_input": "2021-07-07T12:06:06.651Z",
          "iopub.status.idle": "2021-07-07T12:06:06.664Z",
          "shell.execute_reply": "2021-07-07T12:06:06.675Z"
        }
      }
    },
    {
      "cell_type": "code",
      "source": [
        "def lookup_id(lensid, id_type, number):\n",
        "    print(f'{id_type} for {number} at {lensid}')\n",
        "    # time.sleep(0.5)\n",
        "    if id_type=='org':\n",
        "        return number\n",
        "    elif id_type=='none':\n",
        "        return number\n",
        "    else:\n",
        "        id_query = {\n",
        "            \n",
        "            \"query\": {\n",
        "                \"terms\":{\n",
        "                        \"author.{}\".format(id_type): [number]\n",
        "                }\n",
        "            }\n",
        "        }\n",
        "\n",
        "        headers = {'Authorization': token, 'Content-Type': 'application/json'}\n",
        "        response = requests.post(base_url, json=id_query, headers=headers)\n",
        "        if response.status_code == requests.codes.too_many_requests:\n",
        "            time.sleep(6)\n",
        "            print('Slowdown')\n",
        "            response = requests.post(base_url, json=id_query, headers=headers)\n",
        "            json_data = json.loads(response.text)\n",
        "        elif response.status_code != requests.codes.ok:\n",
        "            print(response.status_code)\n",
        "            return response.status_code\n",
        "        else:\n",
        "            json_data = json.loads(response.text)\n",
        "            # print(len(json_data['data']))\n",
        "\n",
        "        affil_list = []\n",
        "        \n",
        "        for entries, item in enumerate(json_data['data']):\n",
        "            for authors in json_data['data'][entries]['authors']:\n",
        "                if 'affiliations' in json_data['data'][entries]['authors'][0].keys():\n",
        "                    for author in json_data['data'][entries]['authors']:\n",
        "                        if 'ids' in author.keys():\n",
        "                            for id_num in author['ids']:\n",
        "                                if number in id_num['value']:\n",
        "                                    try:\n",
        "                                        affil = author['affiliations'][0]['name']\n",
        "                                        affil_list.append(affil)\n",
        "                                    except KeyError:\n",
        "                                        pass\n",
        "                else:\n",
        "                    affil_list.append('null')\n",
        "        if len(list(set(affil_list))) <= 1:\n",
        "            if len(affil_list)==0:\n",
        "                print('empty')\n",
        "                return 'null'\n",
        "            elif affil_list[0]=='null':\n",
        "                print('null')\n",
        "                return 'null'\n",
        "            else:\n",
        "                return affil_list[0]\n",
        "        else:\n",
        "            for item in list(set(affil_list)):\n",
        "                if item=='null':\n",
        "                    pass\n",
        "                else:\n",
        "                    print(item)\n",
        "                    return item"
      ],
      "outputs": [],
      "execution_count": 184,
      "metadata": {
        "collapsed": true,
        "jupyter": {
          "source_hidden": false,
          "outputs_hidden": false
        },
        "nteract": {
          "transient": {
            "deleting": false
          }
        },
        "execution": {
          "iopub.status.busy": "2021-07-07T12:13:29.293Z",
          "iopub.execute_input": "2021-07-07T12:13:29.299Z",
          "iopub.status.idle": "2021-07-07T12:13:29.309Z",
          "shell.execute_reply": "2021-07-07T12:13:29.314Z"
        }
      }
    },
    {
      "cell_type": "code",
      "source": [
        "data = lookup_id(lens_id, id_type, number)"
      ],
      "outputs": [
        {
          "output_type": "stream",
          "name": "stdout",
          "text": [
            "orcid for 0000-0002-5467-3695 at 175-607-973-713-996\n",
            "Department of Management Sciences, Tamkang University, No. 151, Yingzhuan Rd., Danshui Dist. New Taipei City 25137, Taiwan, R.O.C.\n"
          ]
        }
      ],
      "execution_count": 185,
      "metadata": {
        "collapsed": true,
        "jupyter": {
          "source_hidden": false,
          "outputs_hidden": false
        },
        "nteract": {
          "transient": {
            "deleting": false
          }
        },
        "execution": {
          "iopub.status.busy": "2021-07-07T12:13:31.448Z",
          "iopub.execute_input": "2021-07-07T12:13:31.453Z",
          "iopub.status.idle": "2021-07-07T12:13:33.166Z",
          "shell.execute_reply": "2021-07-07T12:13:33.183Z"
        }
      }
    },
    {
      "cell_type": "code",
      "source": [
        "data"
      ],
      "outputs": [
        {
          "output_type": "execute_result",
          "execution_count": 183,
          "data": {
            "text/plain": "{'total': 5,\n 'data': [{'lens_id': '023-099-118-583-326',\n   'title': 'The Optimal Pricing Analysis for Remanufactured Notebooks in a Duopoly Environment',\n   'publication_type': 'journal article',\n   'year_published': 2020,\n   'date_published': '2020-01-15T00:00:00.000000+00:00',\n   'date_published_parts': [2020, 1, 15],\n   'created': '2020-01-23T10:34:01.846000+00:00',\n   'external_ids': [{'type': 'magid', 'value': '2999617789'},\n    {'type': 'doi', 'value': '10.3390/su12020636'}],\n   'open_access': {'license': 'cc-by', 'colour': 'gold'},\n   'authors': [{'first_name': 'Ruey-Chyn',\n     'last_name': 'Tsaur',\n     'initials': 'R',\n     'ids': [{'type': 'magid', 'value': '2289899950'},\n      {'type': 'orcid', 'value': '0000-0002-5467-3695'}]}],\n   'source': {'title': 'Sustainability',\n    'type': 'Journal',\n    'publisher': 'MDPI AG',\n    'issn': [{'type': 'electronic', 'value': '20711050'}],\n    'country': 'Switzerland',\n    'asjc_codes': ['3305', '2105', '2308'],\n    'asjc_subjects': ['Renewable Energy, Sustainability and the Environment',\n     'Management, Monitoring, Policy and Law',\n     'Geography, Planning and Development']},\n   'fields_of_study': ['Supply chain',\n    'Information technology',\n    'Business',\n    'Cournot competition',\n    'Game theory',\n    'Duopoly',\n    'Order (exchange)',\n    'Production (economics)',\n    'Industrial organization',\n    'Subsidy'],\n   'volume': '12',\n   'issue': '2',\n   'languages': ['en'],\n   'references': [{'lens_id': '015-558-464-764-939'},\n    {'lens_id': '018-079-744-006-762'},\n    {'lens_id': '018-698-196-314-07X'},\n    {'lens_id': '019-183-323-400-733'},\n    {'lens_id': '020-759-701-372-499'},\n    {'lens_id': '023-878-662-131-991'},\n    {'lens_id': '027-911-443-895-614'},\n    {'lens_id': '028-148-128-053-10X'},\n    {'lens_id': '032-053-169-048-983'},\n    {'lens_id': '036-784-193-543-460'},\n    {'lens_id': '041-565-665-788-409'},\n    {'lens_id': '041-960-508-774-679'},\n    {'lens_id': '044-527-412-346-25X'},\n    {'lens_id': '045-721-499-611-401'},\n    {'lens_id': '051-105-937-281-501'},\n    {'lens_id': '060-095-004-765-459'},\n    {'lens_id': '070-569-456-264-668'},\n    {'lens_id': '076-101-976-334-839'},\n    {'lens_id': '081-770-891-225-245'},\n    {'lens_id': '082-634-465-038-551'},\n    {'lens_id': '102-332-349-008-953'},\n    {'lens_id': '115-668-613-962-166'},\n    {'lens_id': '118-960-762-731-078'},\n    {'lens_id': '119-700-646-604-43X'},\n    {'lens_id': '121-671-142-296-578'},\n    {'lens_id': '122-489-106-483-929'},\n    {'lens_id': '146-932-619-888-950'},\n    {'lens_id': '151-169-366-484-521'},\n    {'lens_id': '157-071-812-965-96X'},\n    {'lens_id': '174-809-152-630-412'},\n    {'lens_id': '191-615-862-789-955'}],\n   'funding': [{'org': 'Ministry of Science and Technology, Taiwan'}],\n   'source_urls': [{'type': 'html',\n     'url': 'https://www.mdpi.com/2071-1050/12/2/636'},\n    {'type': 'pdf', 'url': 'https://www.mdpi.com/2071-1050/12/2/636/pdf'},\n    {'type': 'html',\n     'url': 'https://ideas.repec.org/a/gam/jsusta/v12y2020i2p636-d309043.html'}],\n   'abstract': 'The information technology industry plays an important role in Taiwan’s manufacturing sector, and its total notebook production ranks top in the world. The rapid development of IT products has caused many of these products to be discarded, although most of them can be recycled, remanufactured, and reused. In order to reduce the manufacture of new products and the associated carbon emissions, this study aims to discover the optimal subsidy policy for remanufactured notebooks in the green market, focusing on the pricing of remanufactured notebooks and maximizing manufacturers’ profits while retaining optimal social welfare for consumers. We use a two-stage game theory model to identify the optimal government subsidy policies for a duopoly environment. The results are based on the subsidy ratio between consumer and manufacturers, as this factor is important to the entire green supply chain; manufacturers can still reap optimal profits by only producing new or remanufactured products, and the government should be aware of the likelihood of manufacturers colluding and of the need to intervene when necessary to avoid sacrificing social welfare.',\n   'references_count': 31,\n   'start_page': '636',\n   'author_count': 1,\n   'is_open_access': True},\n  {'lens_id': '085-721-293-993-88X',\n   'title': 'Selection of Best Smartphone Using Revised ELECTRE-III Method',\n   'publication_type': 'journal article',\n   'year_published': 2018,\n   'date_published': '2018-11-29T00:00:00.000000+00:00',\n   'date_published_parts': [2018, 11, 29],\n   'created': '2018-08-13T20:05:42.380000+00:00',\n   'external_ids': [{'type': 'coreid', 'value': '228082177'},\n    {'type': 'doi', 'value': '10.1142/s0219622018500505'}],\n   'authors': [{'first_name': 'I-Fei',\n     'last_name': 'Chen',\n     'initials': 'I',\n     'affiliations': [{'name': 'Department of Management Sciences, Tamkang University, No. 151, Yingzhuan Rd., Danshui Dist. New Taipei City 25137, Taiwan, R.O.C.'}]},\n    {'first_name': 'Ruey-Chyn',\n     'last_name': 'Tsaur',\n     'initials': 'R',\n     'ids': [{'type': 'orcid', 'value': '0000-0002-5467-3695'}],\n     'affiliations': [{'name': 'Department of Management Sciences, Tamkang University, No. 151, Yingzhuan Rd., Danshui Dist. New Taipei City 25137, Taiwan, R.O.C.'}]},\n    {'first_name': 'Po-Ying',\n     'last_name': 'Chen',\n     'initials': 'P',\n     'affiliations': [{'name': 'Department of Management Sciences, Tamkang University, No. 151, Yingzhuan Rd., Danshui Dist. New Taipei City 25137, Taiwan, R.O.C.'}]}],\n   'source': {'title': 'International Journal of Information Technology & Decision Making',\n    'type': 'Journal',\n    'publisher': 'World Scientific Pub Co Pte Lt',\n    'issn': [{'type': 'print', 'value': '02196220'},\n     {'type': 'electronic', 'value': '17936845'}],\n    'country': 'Singapore',\n    'asjc_codes': ['1701'],\n    'asjc_subjects': ['Computer Science (miscellaneous)']},\n   'volume': '17',\n   'issue': '6',\n   'languages': ['en'],\n   'references': [{'lens_id': '006-974-979-230-22X'},\n    {'lens_id': '009-436-466-753-739'},\n    {'lens_id': '010-388-039-251-621'},\n    {'lens_id': '031-506-349-431-835'},\n    {'lens_id': '043-612-712-112-367'},\n    {'lens_id': '054-157-370-629-813'},\n    {'lens_id': '056-537-887-798-254'},\n    {'lens_id': '062-857-237-682-508'},\n    {'lens_id': '063-265-064-759-147'},\n    {'lens_id': '073-779-069-883-324'},\n    {'lens_id': '079-925-407-613-097'},\n    {'lens_id': '086-669-572-542-417'},\n    {'lens_id': '091-841-162-084-241'},\n    {'lens_id': '109-541-672-343-036'},\n    {'lens_id': '115-616-342-423-608'},\n    {'lens_id': '118-379-374-270-047'},\n    {'lens_id': '127-301-007-730-167'},\n    {'lens_id': '138-791-532-679-383'},\n    {'lens_id': '170-886-979-315-828'},\n    {'lens_id': '176-992-610-708-370'}],\n   'funding': [{'org': 'Ministry of Science and Technology, Taiwan'}],\n   'abstract': '<jats:p> Since smartphones have become the most prevalent communication tool in the world, a wide variety of low-end to high-end smartphone products are currently available on the market. Choosing a suitable product becomes a challenge due to the problem of feature fatigue. This study developed a smartphone selection procedure for prospective users by incorporating ELECTRE-III method with Kano two-dimensional quality model. An empirical example of 15 smartphones from three different categories, namely, flagship, screen size and price, demonstrated that the credibility matrix of the revised ELECTRE-III had fewer extreme values (0 and 1) than its original counterpart. It was able to clearly distinguish the relative satisfaction of each option in the respective group, particularly for the tied products which could not be discerned by the original ELECTRE-III. </jats:p>',\n   'references_count': 20,\n   'scholarly_citations_count': 1,\n   'start_page': '1915',\n   'end_page': '1936',\n   'scholarly_citations': ['025-204-601-409-832'],\n   'author_count': 3},\n  {'lens_id': '091-220-276-951-575',\n   'title': 'The Theory of Reasoned Action Applied to Green Smartphones: Moderating Effect of Government Subsidies',\n   'publication_type': 'journal article',\n   'year_published': 2020,\n   'date_published': '2020-07-24T00:00:00.000000+00:00',\n   'date_published_parts': [2020, 7, 24],\n   'created': '2020-07-25T06:00:05.951000+00:00',\n   'external_ids': [{'type': 'doi', 'value': '10.3390/su12155979'},\n    {'type': 'magid', 'value': '3044469619'}],\n   'open_access': {'license': 'cc-by', 'colour': 'gold'},\n   'authors': [{'first_name': 'Hsiang Te',\n     'last_name': 'Liu',\n     'initials': 'HT',\n     'ids': [{'type': 'magid', 'value': '3044809415'}]},\n    {'first_name': 'Ruey-Chyn',\n     'last_name': 'Tsaur',\n     'initials': 'R',\n     'ids': [{'type': 'magid', 'value': '2289899950'},\n      {'type': 'orcid', 'value': '0000-0002-5467-3695'}]}],\n   'source': {'title': 'Sustainability',\n    'type': 'Journal',\n    'publisher': 'MDPI AG',\n    'issn': [{'type': 'electronic', 'value': '20711050'}],\n    'country': 'Switzerland',\n    'asjc_codes': ['3305', '2105', '2308'],\n    'asjc_subjects': ['Renewable Energy, Sustainability and the Environment',\n     'Management, Monitoring, Policy and Law',\n     'Geography, Planning and Development']},\n   'fields_of_study': ['Theory of reasoned action',\n    'Business',\n    'Government',\n    'Marketing',\n    'Brand equity',\n    'Mobile phone',\n    'Green marketing',\n    'Subsidy',\n    'Moderation'],\n   'volume': '12',\n   'issue': '15',\n   'languages': ['en'],\n   'references': [{'lens_id': '007-972-619-632-441'},\n    {'lens_id': '013-489-445-780-977'},\n    {'lens_id': '018-417-389-700-889'},\n    {'lens_id': '019-377-695-337-849'},\n    {'lens_id': '019-596-494-230-439'},\n    {'lens_id': '021-115-416-083-703'},\n    {'lens_id': '033-789-246-265-374'},\n    {'lens_id': '034-428-376-889-41X'},\n    {'lens_id': '042-044-419-679-883'},\n    {'lens_id': '044-187-909-006-631'},\n    {'lens_id': '047-689-204-625-570'},\n    {'lens_id': '057-515-729-759-283'},\n    {'lens_id': '060-464-011-664-120'},\n    {'lens_id': '063-888-096-850-261'},\n    {'lens_id': '064-636-198-218-836'},\n    {'lens_id': '069-758-254-988-526'},\n    {'lens_id': '071-118-817-873-949'},\n    {'lens_id': '071-851-099-830-240'},\n    {'lens_id': '073-282-276-866-662'},\n    {'lens_id': '077-930-616-453-628'},\n    {'lens_id': '078-256-225-284-649'},\n    {'lens_id': '082-145-567-565-224'},\n    {'lens_id': '087-364-926-895-148'},\n    {'lens_id': '103-167-226-803-973'},\n    {'lens_id': '104-240-276-234-945'},\n    {'lens_id': '107-866-341-850-677'},\n    {'lens_id': '115-328-327-368-018'},\n    {'lens_id': '116-587-109-603-06X'},\n    {'lens_id': '117-060-314-324-487'},\n    {'lens_id': '120-535-148-438-765'},\n    {'lens_id': '124-565-427-104-090'},\n    {'lens_id': '155-390-033-187-834'},\n    {'lens_id': '195-089-771-556-302'}],\n   'funding': [{'org': 'Ministry of Science and Technology, Taiwan'}],\n   'source_urls': [{'type': 'html',\n     'url': 'https://ideas.repec.org/a/gam/jsusta/v12y2020i15p5979-d389180.html'},\n    {'type': 'html', 'url': 'https://www.mdpi.com/2071-1050/12/15/5979/htm'},\n    {'type': 'pdf', 'url': 'https://www.mdpi.com/2071-1050/12/15/5979/pdf'}],\n   'abstract': 'Smartphones have become indispensable for human beings today. However, with mobile phone manufacturers updating existing models or launching new models every year, consumers tend to keep replacing their phones with the latest versions, resulting in an excessive waste of resources. These days, most governments worldwide emphasize energy conservation and carbon reduction. If pre-owned smartphones are refurbished or repaired, the excessive waste of resources can be reduced. Such recycling can positively enhance corporate image, while ensuring that consumer needs are met. Thus, to explore consumers’ willingness to purchase such “green” smartphones, this study uses the theory of reasoned action (TRA) to explore consumers’ purchase intentions and understand how brand equity, green marketing, as well as consumer’s green awareness and attitude influence this intention. This research also investigates the role of government subsidies as a moderator affecting consumers’ willingness to purchase green smartphones. The results indicate that, in general, consumers are willing to purchase green smartphones, the direct effect of brand equity on purchase intention is significant, and government subsidies have significant moderating effects. Therefore, it is recommended that the government cooperate with enterprises. The cooperation can be aimed at promoting green products as well as subsidizing consumers, to increase their willingness to purchase green smartphones.',\n   'references_count': 33,\n   'scholarly_citations_count': 3,\n   'start_page': '5979',\n   'scholarly_citations': ['102-030-468-152-719',\n    '112-617-712-234-608',\n    '136-702-730-059-599'],\n   'author_count': 2,\n   'is_open_access': True},\n  {'lens_id': '135-843-445-613-143',\n   'title': 'Fuzzy Portfolio Selection in COVID-19 Spreading Period Using Fuzzy Goal Programming Model',\n   'publication_type': 'journal article',\n   'year_published': 2021,\n   'date_published': '2021-04-12T00:00:00.000000+00:00',\n   'date_published_parts': [2021, 4, 12],\n   'created': '2021-04-13T18:40:02.570000+00:00',\n   'external_ids': [{'type': 'doi', 'value': '10.3390/math9080835'},\n    {'type': 'magid', 'value': '3156556701'}],\n   'open_access': {'license': 'cc-by', 'colour': 'gold'},\n   'authors': [{'first_name': 'Ruey-Chyn',\n     'last_name': 'Tsaur',\n     'initials': 'R',\n     'ids': [{'type': 'magid', 'value': '2289899950'},\n      {'type': 'orcid', 'value': '0000-0002-5467-3695'}]},\n    {'first_name': 'Chien-Liang',\n     'last_name': 'Chiu',\n     'initials': 'C',\n     'ids': [{'type': 'magid', 'value': '3110137403'}]},\n    {'first_name': 'Yin-Yin',\n     'last_name': 'Huang',\n     'initials': 'Y',\n     'ids': [{'type': 'magid', 'value': '3110226164'}]}],\n   'source': {'title': 'Mathematics',\n    'publisher': 'MDPI AG',\n    'issn': [{'type': 'electronic', 'value': '22277390'}]},\n   'fields_of_study': ['Expected return',\n    'Investment (macroeconomics)',\n    'Stock market',\n    'Portfolio',\n    'Computer science',\n    'Operations research',\n    'Fuzzy logic',\n    'Financial risk',\n    'Selection (genetic algorithm)',\n    'Modern portfolio theory'],\n   'volume': '9',\n   'issue': '8',\n   'languages': ['en'],\n   'references': [{'lens_id': '000-020-556-039-524'},\n    {'lens_id': '003-550-231-996-825'},\n    {'lens_id': '004-526-004-901-634'},\n    {'lens_id': '019-174-522-939-737'},\n    {'lens_id': '019-231-317-335-326'},\n    {'lens_id': '023-156-734-231-736'},\n    {'lens_id': '027-586-696-187-441'},\n    {'lens_id': '028-730-668-797-488'},\n    {'lens_id': '033-364-718-193-580'},\n    {'lens_id': '038-357-353-735-565'},\n    {'lens_id': '042-046-319-070-041'},\n    {'lens_id': '048-467-893-081-435'},\n    {'lens_id': '048-824-402-403-587'},\n    {'lens_id': '066-373-768-842-624'},\n    {'lens_id': '067-035-800-713-22X'},\n    {'lens_id': '068-985-369-833-368'},\n    {'lens_id': '069-966-724-667-345'},\n    {'lens_id': '073-780-467-366-873'},\n    {'lens_id': '089-599-737-659-700'},\n    {'lens_id': '095-882-192-352-813'},\n    {'lens_id': '096-623-541-137-565'},\n    {'lens_id': '103-413-644-985-256'},\n    {'lens_id': '107-403-512-469-272'},\n    {'lens_id': '118-889-030-639-066'},\n    {'lens_id': '122-077-355-731-013'},\n    {'lens_id': '122-662-463-504-851'},\n    {'lens_id': '139-921-275-342-964'},\n    {'lens_id': '146-144-565-041-879'},\n    {'lens_id': '147-214-075-555-583'},\n    {'lens_id': '156-872-683-793-244'},\n    {'lens_id': '181-028-974-949-627'}],\n   'source_urls': [{'type': 'pdf',\n     'url': 'https://www.mdpi.com/2227-7390/9/8/835/pdf'},\n    {'type': 'html', 'url': 'https://doi.org/10.3390/math9080835'},\n    {'type': 'html', 'url': 'https://www.mdpi.com/2227-7390/9/8/835'}],\n   'abstract': 'While the international lockdown for the COVID-19 pandemic has greatly influenced the global economy, we are still confronted with the dilemma about the economy recession when the stock market hits record highs repeatedly. As we know, since portfolio selection is often affected by many non-probabilistic factors, it is of not easiness to obtain the precise probability distributions of the return rates. Therefore, fuzzy portfolio model is proposed for solving the efficient portfolio when the economy environment remains in vagueness for the future. To manage such an investment, we revise the Chen and Tsaur’s fuzzy portfolio model by using fuzzy goal programming model. Then, two numerical examples are illustrated by the proposed model which shows that the portfolio selection can be solved by the linguistic imprecise goal of the expected return. With different linguistic descriptions for the imprecise goal of expected return for the future stock market, the optimal portfolio selection that can be solved under different investment risks which is considered better than Chen and Tsaur’s model in real world situations. The sensitivity analysis with some parameter groups can be provided for more invested risk selection in the portfolio analysis.',\n   'references_count': 31,\n   'start_page': '835',\n   'author_count': 3,\n   'is_open_access': True},\n  {'lens_id': '175-607-973-713-996',\n   'title': 'Exploring the Consumer Attitude of Building-Attached Photovoltaic Equipment Using Revised Technology Acceptance Model',\n   'publication_type': 'journal article',\n   'year_published': 2018,\n   'date_published': '2018-11-13T00:00:00.000000+00:00',\n   'date_published_parts': [2018, 11, 13],\n   'created': '2018-11-18T22:39:26.350000+00:00',\n   'external_ids': [{'type': 'doi', 'value': '10.3390/su10114177'},\n    {'type': 'magid', 'value': '2900530528'}],\n   'open_access': {'license': 'cc-by', 'colour': 'gold'},\n   'authors': [{'first_name': 'Ruey-Chyn',\n     'last_name': 'Tsaur',\n     'initials': 'R',\n     'ids': [{'type': 'magid', 'value': '2901759568'},\n      {'type': 'orcid', 'value': '0000-0002-5467-3695'}]},\n    {'first_name': 'Yi-Hsuan',\n     'last_name': 'Lin',\n     'initials': 'Y',\n     'ids': [{'type': 'magid', 'value': '2900859319'}]}],\n   'source': {'title': 'Sustainability',\n    'type': 'Journal',\n    'publisher': 'MDPI AG',\n    'issn': [{'type': 'electronic', 'value': '20711050'}],\n    'country': 'Switzerland',\n    'asjc_codes': ['3305', '2105', '2308'],\n    'asjc_subjects': ['Renewable Energy, Sustainability and the Environment',\n     'Management, Monitoring, Policy and Law',\n     'Geography, Planning and Development']},\n   'fields_of_study': ['Environmental economics',\n    'Business',\n    'Renewable energy',\n    'Technology acceptance model',\n    'Purchasing',\n    'Nuclear power plant',\n    'Photovoltaic system',\n    'Greenhouse gas',\n    'Nuclear power',\n    'Solar energy'],\n   'volume': '10',\n   'issue': '11',\n   'languages': ['en'],\n   'references': [{'lens_id': '001-237-685-218-32X'},\n    {'lens_id': '001-263-962-588-804'},\n    {'lens_id': '005-480-516-875-164'},\n    {'lens_id': '007-397-558-000-193'},\n    {'lens_id': '007-538-491-635-579'},\n    {'lens_id': '009-299-623-546-736'},\n    {'lens_id': '010-823-999-179-149'},\n    {'lens_id': '010-854-534-444-434'},\n    {'lens_id': '012-333-525-675-90X'},\n    {'lens_id': '020-570-933-346-08X'},\n    {'lens_id': '022-111-882-345-537'},\n    {'lens_id': '022-509-785-910-67X'},\n    {'lens_id': '023-161-206-593-57X'},\n    {'lens_id': '023-465-949-736-992'},\n    {'lens_id': '026-799-348-340-123'},\n    {'lens_id': '028-165-492-628-058'},\n    {'lens_id': '031-950-203-200-584'},\n    {'lens_id': '033-665-693-191-608'},\n    {'lens_id': '035-592-483-447-028'},\n    {'lens_id': '038-550-416-779-093'},\n    {'lens_id': '038-625-573-679-209'},\n    {'lens_id': '038-799-258-528-240'},\n    {'lens_id': '044-980-963-462-869'},\n    {'lens_id': '045-131-704-802-515'},\n    {'lens_id': '056-718-765-609-315'},\n    {'lens_id': '059-956-033-421-432'},\n    {'lens_id': '062-922-568-588-514'},\n    {'lens_id': '063-888-096-850-261'},\n    {'lens_id': '064-103-325-776-75X'},\n    {'lens_id': '071-204-676-815-323'},\n    {'lens_id': '072-813-199-606-608'},\n    {'lens_id': '073-757-241-910-789'},\n    {'lens_id': '074-499-155-635-714'},\n    {'lens_id': '075-704-099-480-602'},\n    {'lens_id': '078-165-261-962-44X'},\n    {'lens_id': '080-769-852-611-763'},\n    {'lens_id': '083-733-024-526-787'},\n    {'lens_id': '084-038-965-702-57X'},\n    {'lens_id': '090-596-647-019-71X'},\n    {'lens_id': '103-480-535-142-049'},\n    {'lens_id': '106-518-329-252-175'},\n    {'lens_id': '108-443-165-115-703'},\n    {'lens_id': '111-048-462-780-61X'},\n    {'lens_id': '113-565-849-458-391'},\n    {'lens_id': '114-039-986-924-13X'},\n    {'lens_id': '118-722-865-190-119'},\n    {'lens_id': '128-948-077-059-835'},\n    {'lens_id': '131-589-325-472-335'},\n    {'lens_id': '133-001-652-401-713'},\n    {'lens_id': '139-273-814-269-194'},\n    {'lens_id': '140-320-011-377-76X'},\n    {'lens_id': '143-875-130-007-110'},\n    {'lens_id': '161-600-505-992-736'},\n    {'lens_id': '164-887-040-544-342'},\n    {'lens_id': '165-703-227-663-285'},\n    {'lens_id': '167-101-969-447-017'},\n    {'lens_id': '168-036-345-097-619'},\n    {'lens_id': '177-552-872-036-786'}],\n   'source_urls': [{'type': 'html',\n     'url': 'https://doaj.org/article/87d66593aa484085b1956c598df53ad6'},\n    {'type': 'html',\n     'url': 'https://ideas.repec.org/a/gam/jsusta/v10y2018i11p4177-d182495.html'}],\n   'abstract': 'Climate change affects agriculture, the water supply, health, and the sustainability of the environment, and is largely due to greenhouse gases produced by human activities and power production. In order to reduce greenhouse gas emissions, the usage of renewable green energy must be promoted. The International Energy Agency showed that renewables have surpassed coal as the largest source of installed power capacity; half a million solar panels are installed every day around the world. The Taiwanese government has planned to block its fourth nuclear power plant, and is closing Taiwan’s three operating nuclear power plants since solar energy is the best way to solve power shortages. This study defined a solar-energy building as a Building-Attached Photovoltaic (BAPV) system in which the solar modules can be attached to and detached from the building without any structural damage; then, we proposed the Technology Acceptance Model (TAM) to forecast and explain public acceptance of BAPV. Last, we explored consumers’ intentions to use the BAPV systems and their purchasing behavior. The analytical results are fairly consistent with the proposed hypotheses. We find that when perceived ease of use (PEOU) is the antecedent of perceived usefulness (PU) and attitude toward using (AT), the model fit shows a positive influence. However, when PEOU directly affects AT, it shows a negative influence. These two opposing results show that consumers lack an awareness of PEOU. In order to get a positive AT, PEOU and PU have to be synergized. Further, the PEOU also has a negative influence on the antecedent of AT, but positively affects purchasing behavior.',\n   'references_count': 58,\n   'scholarly_citations_count': 10,\n   'start_page': '4177',\n   'scholarly_citations': ['023-696-737-639-750',\n    '024-083-833-267-947',\n    '026-338-099-500-162',\n    '028-503-516-363-947',\n    '030-746-787-495-165',\n    '050-901-490-108-008',\n    '081-781-516-961-295',\n    '086-933-936-934-754',\n    '087-248-741-810-680',\n    '103-459-513-635-794'],\n   'author_count': 2,\n   'is_open_access': True}],\n 'results': 5}"
          },
          "metadata": {}
        }
      ],
      "execution_count": 183,
      "metadata": {
        "collapsed": true,
        "jupyter": {
          "source_hidden": false,
          "outputs_hidden": false
        },
        "nteract": {
          "transient": {
            "deleting": false
          }
        },
        "execution": {
          "iopub.status.busy": "2021-07-07T12:13:23.984Z",
          "iopub.execute_input": "2021-07-07T12:13:23.989Z",
          "iopub.status.idle": "2021-07-07T12:13:24.029Z",
          "shell.execute_reply": "2021-07-07T12:13:24.033Z"
        }
      }
    },
    {
      "cell_type": "code",
      "source": [
        "# pub = d[1]['authors']\n",
        "# pub\n",
        "\n",
        "for author in d[0]['authors']:\n",
        "    for n in author['ids']:\n",
        "        if number in n['value']:\n",
        "            print('yes')\n"
      ],
      "outputs": [
        {
          "output_type": "stream",
          "name": "stdout",
          "text": [
            "yes\n"
          ]
        }
      ],
      "execution_count": 64,
      "metadata": {
        "collapsed": true,
        "jupyter": {
          "source_hidden": false,
          "outputs_hidden": false
        },
        "nteract": {
          "transient": {
            "deleting": false
          }
        },
        "execution": {
          "iopub.status.busy": "2021-07-07T10:12:40.903Z",
          "iopub.execute_input": "2021-07-07T10:12:40.909Z",
          "iopub.status.idle": "2021-07-07T10:12:40.925Z",
          "shell.execute_reply": "2021-07-07T10:12:40.929Z"
        }
      }
    },
    {
      "cell_type": "code",
      "source": [
        "affil_list = []\n",
        "country_list = []\n",
        "\n",
        "for entries, item in enumerate(d):\n",
        "    for authors in d[entries]['authors']:\n",
        "        if 'affiliations' in d[entries]['authors'][0].keys():\n",
        "            print(str(entries) + ' yes')\n",
        "            for author in d[entries]['authors']:\n",
        "                for id_num in author['ids']:\n",
        "                    if number in id_num['value']:\n",
        "                        print('success')\n",
        "                        affil = author['affiliations'][0]['name']\n",
        "                        country = author['affiliations'][0]['country_code']\n",
        "                        affil_list.append(affil)\n",
        "                        country_list.append(country)\n",
        "        else:\n",
        "            print(str(entries) + ' no')\n",
        "print(affil_list)"
      ],
      "outputs": [
        {
          "output_type": "stream",
          "name": "stdout",
          "text": [
            "0 no\n",
            "0 no\n",
            "1 yes\n",
            "success\n",
            "1 yes\n",
            "success\n",
            "2 yes\n",
            "success\n",
            "2 yes\n",
            "success\n",
            "2 yes\n",
            "success\n",
            "3 yes\n",
            "success\n",
            "3 yes\n",
            "success\n",
            "3 yes\n",
            "success\n",
            "3 yes\n",
            "success\n",
            "['University of Agder', 'University of Agder', 'University of Agder', 'University of Agder', 'University of Agder', 'University of Agder', 'University of Agder', 'University of Agder', 'University of Agder']\n"
          ]
        }
      ],
      "execution_count": 88,
      "metadata": {
        "collapsed": true,
        "jupyter": {
          "source_hidden": false,
          "outputs_hidden": false
        },
        "nteract": {
          "transient": {
            "deleting": false
          }
        },
        "execution": {
          "iopub.status.busy": "2021-07-07T10:22:45.651Z",
          "iopub.execute_input": "2021-07-07T10:22:45.656Z",
          "iopub.status.idle": "2021-07-07T10:22:45.679Z",
          "shell.execute_reply": "2021-07-07T10:22:45.682Z"
        }
      }
    },
    {
      "cell_type": "code",
      "source": [
        "\n",
        "affil_list = []\n",
        "for n, item in enumerate(json_data['data']):\n",
        "    for authors in json_data['data'][n]['authors']:\n",
        "        if number==authors['ids'][0]['value']:\n",
        "            try:\n",
        "                affil_list.append(authors['affiliations'][0]['name'])\n",
        "            except KeyError:\n",
        "                affil_list.append('null')\n",
        "\n",
        "# affil_list.remove('null')\n",
        "affil_list\n"
      ],
      "outputs": [
        {
          "output_type": "execute_result",
          "execution_count": 67,
          "data": {
            "text/plain": "[]"
          },
          "metadata": {}
        }
      ],
      "execution_count": 67,
      "metadata": {
        "collapsed": true,
        "jupyter": {
          "source_hidden": false,
          "outputs_hidden": false
        },
        "nteract": {
          "transient": {
            "deleting": false
          }
        },
        "execution": {
          "iopub.status.busy": "2021-07-01T14:30:40.266Z",
          "iopub.execute_input": "2021-07-01T14:30:40.271Z",
          "iopub.status.idle": "2021-07-01T14:30:40.346Z",
          "shell.execute_reply": "2021-07-01T14:30:40.349Z"
        }
      }
    }
  ],
  "metadata": {
    "kernel_info": {
      "name": "nteract"
    },
    "language_info": {
      "name": "python",
      "version": "3.9.5",
      "mimetype": "text/x-python",
      "codemirror_mode": {
        "name": "ipython",
        "version": 3
      },
      "pygments_lexer": "ipython3",
      "nbconvert_exporter": "python",
      "file_extension": ".py"
    },
    "kernelspec": {
      "argv": [
        "/opt/homebrew/Caskroom/miniforge/base/envs/nteract/bin/python",
        "-m",
        "ipykernel_launcher",
        "-f",
        "{connection_file}"
      ],
      "display_name": "nteract",
      "language": "python",
      "name": "nteract"
    },
    "nteract": {
      "version": "0.28.0"
    }
  },
  "nbformat": 4,
  "nbformat_minor": 0
}