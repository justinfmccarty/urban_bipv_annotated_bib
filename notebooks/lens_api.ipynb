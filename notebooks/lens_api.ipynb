{
  "cells": [
    {
      "cell_type": "code",
      "source": [
        "import requests\n",
        "import pandas as pd\n",
        "import json\n",
        "token = 'm3lB5Q8zHn7wis2frICKXcmPb7yERygZnPypvcjuKPcye4IKkwdY'"
      ],
      "outputs": [],
      "execution_count": 1,
      "metadata": {
        "collapsed": true,
        "jupyter": {
          "source_hidden": false,
          "outputs_hidden": false
        },
        "nteract": {
          "transient": {
            "deleting": false
          }
        },
        "execution": {
          "iopub.status.busy": "2021-06-30T12:56:37.263Z",
          "iopub.execute_input": "2021-06-30T12:56:37.268Z",
          "iopub.status.idle": "2021-06-30T12:56:37.497Z",
          "shell.execute_reply": "2021-06-30T12:56:37.501Z"
        }
      }
    },
    {
      "cell_type": "code",
      "source": [
        "base_url = 'https://api.lens.org/scholarly/search'\n"
      ],
      "outputs": [],
      "execution_count": 3,
      "metadata": {
        "collapsed": true,
        "jupyter": {
          "source_hidden": false,
          "outputs_hidden": false
        },
        "nteract": {
          "transient": {
            "deleting": false
          }
        },
        "execution": {
          "iopub.status.busy": "2021-06-30T12:56:39.709Z",
          "iopub.execute_input": "2021-06-30T12:56:39.712Z",
          "iopub.status.idle": "2021-06-30T12:56:39.718Z",
          "shell.execute_reply": "2021-06-30T12:56:39.721Z"
        }
      }
    },
    {
      "cell_type": "code",
      "source": [
        "data = pd.read_csv('/Users/jmccarty/GitHub/urban_bipv_annotated_bib/data/lens_bipv_general.csv')\n",
        "lens_id_list = data['Lens ID'].values.tolist()\n",
        "lens_id_list[0:5]"
      ],
      "outputs": [
        {
          "output_type": "execute_result",
          "execution_count": 37,
          "data": {
            "text/plain": "['000-033-539-196-264',\n '000-044-578-669-216',\n '000-057-840-270-546',\n '000-066-246-955-002',\n '000-070-229-075-646']"
          },
          "metadata": {}
        }
      ],
      "execution_count": 37,
      "metadata": {
        "collapsed": true,
        "jupyter": {
          "source_hidden": false,
          "outputs_hidden": false
        },
        "nteract": {
          "transient": {
            "deleting": false
          }
        },
        "execution": {
          "iopub.status.busy": "2021-06-30T13:28:08.003Z",
          "iopub.execute_input": "2021-06-30T13:28:08.011Z",
          "iopub.status.idle": "2021-06-30T13:28:08.152Z",
          "shell.execute_reply": "2021-06-30T13:28:08.161Z"
        }
      }
    },
    {
      "cell_type": "code",
      "source": [
        "lens_id_query = {\n",
        "     \"query\": {\n",
        "           \"terms\":{\n",
        "                \"lens_id\": lens_id_list\n",
        "           }\n",
        "     }\n",
        "}\n",
        "\n",
        "lens_id_query2 = {\n",
        "           \"terms\":{\n",
        "                \"lens_id\": lens_id_list[0:500]\n",
        "           }\n",
        "     }"
      ],
      "outputs": [],
      "execution_count": 31,
      "metadata": {
        "collapsed": true,
        "jupyter": {
          "source_hidden": false,
          "outputs_hidden": false
        },
        "nteract": {
          "transient": {
            "deleting": false
          }
        },
        "execution": {
          "iopub.status.busy": "2021-06-30T13:09:21.863Z",
          "iopub.execute_input": "2021-06-30T13:09:21.868Z",
          "iopub.status.idle": "2021-06-30T13:09:21.877Z",
          "shell.execute_reply": "2021-06-30T13:09:21.888Z"
        }
      }
    },
    {
      "cell_type": "markdown",
      "source": [
        "(\n",
        "    ( \n",
        "    BIPV\\* OR BAPV\\* \n",
        "    OR \n",
        "    'building \\b photovoltaic\\*' \n",
        "    OR \n",
        "    photovoltaic* \n",
        "    OR \n",
        "    'photovoltaic thermal'\n",
        "    ) \n",
        "AND \n",
        "    (urban \n",
        "    OR \n",
        "    (cities OR city)\n",
        "    )\n",
        ")"
      ],
      "metadata": {
        "nteract": {
          "transient": {
            "deleting": false
          }
        }
      }
    },
    {
      "cell_type": "code",
      "source": [
        "headers = {'Authorization': token, 'Content-Type': 'application/json'}\n",
        "response = requests.post(base_url, json=lens_id_query, headers=headers)\n",
        "if response.status_code != requests.codes.ok:\n",
        "    print(response.status_code)\n",
        "else:\n",
        "    json_data = json.loads(response.text)\n",
        "    print(len(json_data['data']))"
      ],
      "outputs": [
        {
          "output_type": "stream",
          "name": "stdout",
          "text": [
            "20\n"
          ]
        }
      ],
      "execution_count": 33,
      "metadata": {
        "collapsed": true,
        "jupyter": {
          "source_hidden": false,
          "outputs_hidden": false
        },
        "nteract": {
          "transient": {
            "deleting": false
          }
        },
        "execution": {
          "iopub.status.busy": "2021-06-30T13:09:33.425Z",
          "iopub.execute_input": "2021-06-30T13:09:33.430Z",
          "iopub.status.idle": "2021-06-30T13:10:37.161Z",
          "shell.execute_reply": "2021-06-30T13:10:37.308Z"
        }
      }
    },
    {
      "cell_type": "code",
      "source": [
        "json_data['data'][2]"
      ],
      "outputs": [
        {
          "output_type": "execute_result",
          "execution_count": 36,
          "data": {
            "text/plain": "{'lens_id': '022-295-678-613-126',\n 'title': \"ColiSense, today's sample today: A rapid on-site detection of β-D-Glucuronidase activity in surface water as a surrogate for E. coli\",\n 'publication_type': 'journal article',\n 'year_published': 2015,\n 'date_published': '2015-10-21T00:00:00.000000+00:00',\n 'date_published_parts': [2015, 10, 21],\n 'created': '2018-05-12T05:48:10.657000+00:00',\n 'external_ids': [{'type': 'magid', 'value': '1871506881'},\n  {'type': 'coreid', 'value': '95876006'},\n  {'type': 'doi', 'value': '10.1016/j.talanta.2015.10.035'},\n  {'type': 'pmid', 'value': '26653426'}],\n 'patent_citations': [{'lens_id': '043-615-278-369-795'},\n  {'lens_id': '052-064-542-832-514'}],\n 'patent_citations_count': 2,\n 'open_access': {'colour': 'green'},\n 'authors': [{'first_name': 'Brendan',\n   'last_name': 'Heery',\n   'initials': 'B',\n   'ids': [{'type': 'orcid', 'value': '0000-0002-8610-5238'},\n    {'type': 'magid', 'value': '2924978454'}],\n   'affiliations': [{'name': 'Dublin City University',\n     'grid_id': 'grid.15596.3e',\n     'country_code': 'IE'}]},\n  {'first_name': 'Ciprian',\n   'last_name': 'Briciu-Burghina',\n   'initials': 'C',\n   'ids': [{'type': 'orcid', 'value': '0000-0001-8682-9116'},\n    {'type': 'magid', 'value': '2624960665'}],\n   'affiliations': [{'name': 'Dublin City University',\n     'grid_id': 'grid.15596.3e',\n     'country_code': 'IE'}]},\n  {'first_name': 'Dian',\n   'last_name': 'Zhang',\n   'initials': 'D',\n   'ids': [{'type': 'magid', 'value': '2310157433'}],\n   'affiliations': [{'name': 'Dublin City University',\n     'grid_id': 'grid.15596.3e',\n     'country_code': 'IE'}]},\n  {'first_name': 'Gillian',\n   'last_name': 'Duffy',\n   'initials': 'G',\n   'ids': [{'type': 'magid', 'value': '2118424568'}],\n   'affiliations': [{'name': 'Dublin City University',\n     'grid_id': 'grid.15596.3e',\n     'country_code': 'IE'}]},\n  {'first_name': 'Dermot',\n   'last_name': 'Brabazon',\n   'initials': 'D',\n   'ids': [{'type': 'magid', 'value': '1718450456'}],\n   'affiliations': [{'name': 'Dublin City University',\n     'grid_id': 'grid.15596.3e',\n     'country_code': 'IE'}]},\n  {'first_name': 'Noel E.',\n   'last_name': \"O'Connor\",\n   'initials': 'NE',\n   'ids': [{'type': 'magid', 'value': '2132435563'}],\n   'affiliations': [{'name': 'Dublin City University',\n     'grid_id': 'grid.15596.3e',\n     'country_code': 'IE'}]},\n  {'first_name': 'Fiona',\n   'last_name': 'Regan',\n   'initials': 'F',\n   'ids': [{'type': 'magid', 'value': '2160290951'}],\n   'affiliations': [{'name': 'Dublin City University',\n     'grid_id': 'grid.15596.3e',\n     'country_code': 'IE'}]}],\n 'source': {'title': 'Talanta',\n  'type': 'Journal',\n  'publisher': 'Elsevier',\n  'issn': [{'type': 'electronic', 'value': '18733573'},\n   {'type': 'print', 'value': '00399140'}],\n  'country': 'Netherlands',\n  'asjc_codes': ['1600'],\n  'asjc_subjects': ['General Chemistry']},\n 'fields_of_study': ['Analyte',\n  'Analytical chemistry',\n  'Substrate (chemistry)',\n  'Biosensor',\n  'Chemistry',\n  'Fluorometer',\n  'Sample preparation',\n  'Enzyme assay',\n  'Chromatography',\n  'Resolution (mass spectrometry)',\n  'Fluorescence'],\n 'keywords': ['E. coli',\n  'Enzyme assay',\n  'Fluorescence',\n  'On-site',\n  'Recreational water',\n  'β-d-glucuronidase'],\n 'publication_supplementary_type': [\"research support, non-u.s. gov't\"],\n 'volume': '148',\n 'languages': ['en'],\n 'references': [{'lens_id': '003-152-751-605-767'},\n  {'lens_id': '003-853-196-986-581'},\n  {'lens_id': '004-531-228-743-694'},\n  {'lens_id': '005-432-048-971-561'},\n  {'lens_id': '005-997-784-669-967'},\n  {'lens_id': '007-182-039-713-513'},\n  {'lens_id': '009-029-201-241-596'},\n  {'lens_id': '012-372-294-397-915'},\n  {'lens_id': '013-667-160-034-814'},\n  {'lens_id': '013-955-638-192-456'},\n  {'lens_id': '017-342-062-695-889'},\n  {'lens_id': '018-481-362-433-473'},\n  {'lens_id': '019-288-535-718-824'},\n  {'lens_id': '019-916-958-877-119'},\n  {'lens_id': '021-412-163-091-190'},\n  {'lens_id': '035-550-719-542-668'},\n  {'lens_id': '036-432-247-751-654'},\n  {'lens_id': '053-083-675-319-597'},\n  {'lens_id': '061-802-079-065-410'},\n  {'lens_id': '076-941-377-223-055'},\n  {'lens_id': '082-560-712-359-215'},\n  {'lens_id': '090-372-447-573-836'},\n  {'lens_id': '091-174-895-895-897'},\n  {'lens_id': '098-492-335-193-81X'},\n  {'lens_id': '106-705-042-494-461'},\n  {'lens_id': '111-357-062-678-666'},\n  {'lens_id': '127-273-804-826-123'},\n  {'lens_id': '131-805-140-520-138'},\n  {'lens_id': '134-144-726-221-809'},\n  {'lens_id': '136-669-774-926-429'},\n  {'lens_id': '176-617-948-486-66X'}],\n 'mesh_terms': [{'mesh_heading': 'Enzyme Activation',\n   'qualifier_name': 'physiology',\n   'mesh_id': 'D004789',\n   'qualifier_id': 'Q000502'},\n  {'mesh_heading': 'Escherichia coli',\n   'qualifier_name': 'chemistry',\n   'mesh_id': 'D004926',\n   'qualifier_id': 'Q000737'},\n  {'mesh_heading': 'Fluorometry',\n   'qualifier_name': 'methods',\n   'mesh_id': 'D005470',\n   'qualifier_id': 'Q000379'},\n  {'mesh_heading': 'Fresh Water',\n   'qualifier_name': 'analysis',\n   'mesh_id': 'D005618',\n   'qualifier_id': 'Q000032'},\n  {'mesh_heading': 'Glucuronidase',\n   'qualifier_name': 'analysis',\n   'mesh_id': 'D005966',\n   'qualifier_id': 'Q000032'},\n  {'mesh_heading': 'Seawater',\n   'qualifier_name': 'analysis',\n   'mesh_id': 'D012623',\n   'qualifier_id': 'Q000032'},\n  {'mesh_heading': 'Water Microbiology', 'mesh_id': 'D014871'}],\n 'chemicals': [{'substance_name': 'Glucuronidase',\n   'registry_number': 'EC 3.2.1.31',\n   'mesh_id': 'D005966'}],\n 'source_urls': [{'type': 'html', 'url': 'http://doras.dcu.ie/21111/'},\n  {'type': 'html', 'url': 'http://www.ncbi.nlm.nih.gov/pubmed/26653426'},\n  {'type': 'html',\n   'url': 'https://www.sciencedirect.com/science/article/pii/S0039914015304008'},\n  {'type': 'unknown',\n   'url': 'http://www.sciencedirect.com/science/article/pii/S0039914015304008'},\n  {'type': 'core_fulltext',\n   'url': 'https://core.ac.uk/download/95876006.pdf'}],\n 'abstract': 'A sensitive field-portable fluorimeter with incubating capability and triplicate sample chambers was designed and built. The system was optimised for the on-site analysis of E. coli in recreational waters using fluorescent based enzyme assays. The target analyte was β-D-Glucuronidase (GUS) which hydrolyses a synthetic substrate 6-Chloro-4-Methyl-Umbelliferyl-β-D-Glucuronide (6-CMUG) to release the fluorescent molecule 6-Chloro-4-Methyl-Umbelliferyl (6-CMU). The system was calibrated with 6-CMU standards. A LOD of 5 nM and a resolution of less than 1 nM was determined while enzyme kinetic tests showed detection of activities below 1 pmol min(-1) mL(-1) of sample. A field portable sample preparation, enzyme extraction protocol and continuous assay were applied with the system to analyse freshwater and marine samples. Results from a one day field trial are shown which demonstrated the ability of the system to deliver results on-site within a 75 min period.',\n 'references_count': 31,\n 'scholarly_citations_count': 26,\n 'start_page': '75',\n 'end_page': '83',\n 'scholarly_citations': ['000-498-955-549-970',\n  '005-281-521-806-516',\n  '007-847-247-129-243',\n  '009-811-420-408-368',\n  '010-114-795-833-194',\n  '018-039-319-973-974',\n  '027-881-108-195-157',\n  '031-201-044-171-326',\n  '032-440-159-244-921',\n  '035-881-877-458-185',\n  '037-669-271-506-052',\n  '047-717-499-966-334',\n  '056-979-573-365-913',\n  '063-019-843-784-508',\n  '074-308-015-172-207',\n  '076-924-212-010-364',\n  '085-516-415-685-488',\n  '093-400-463-558-438',\n  '094-618-940-294-307',\n  '097-047-313-430-448',\n  '098-087-442-454-385',\n  '103-198-838-318-735',\n  '126-088-885-003-514',\n  '134-190-382-966-504',\n  '143-227-401-417-547',\n  '161-459-941-924-14X'],\n 'author_count': 7,\n 'is_open_access': True}"
          },
          "metadata": {}
        }
      ],
      "execution_count": 36,
      "metadata": {
        "collapsed": true,
        "jupyter": {
          "source_hidden": false,
          "outputs_hidden": false
        },
        "nteract": {
          "transient": {
            "deleting": false
          }
        },
        "execution": {
          "iopub.status.busy": "2021-06-30T13:11:46.888Z",
          "iopub.execute_input": "2021-06-30T13:11:46.892Z",
          "iopub.status.idle": "2021-06-30T13:11:46.910Z",
          "shell.execute_reply": "2021-06-30T13:11:46.914Z"
        }
      }
    },
    {
      "cell_type": "code",
      "source": [
        "import requests\n",
        "import time\n",
        "url = 'https://api.lens.org/scholarly/search'\n",
        "\n",
        "# include fields\n",
        "include = [\"abstract\", \"lens_id\"]\n",
        "# request body with scroll time of 1 minute\n",
        "request_body = {\n",
        "     \"query\": lens_id_query2,\n",
        "     \"size\": 100,\n",
        "     \"scroll\":\"1m\",\n",
        "     \"include\": include\n",
        "}\n",
        "headers = {'Authorization': token, 'Content-Type': 'application/json'}\n",
        "\n",
        "# Recursive function to scroll through paginated results\n",
        "def scroll(scroll_id):\n",
        "  # Change the request_body to prepare for next scroll api call\n",
        "  # Make sure to append the include fields to make faster response\n",
        "  if scroll_id is not None:\n",
        "    global request_body\n",
        "    request_body = '''{\"scroll_id\": \"%s\", \"include\": %s}''' % (scroll_id, include)\n",
        "\n",
        "  # make api request\n",
        "  response = requests.post(url, json=request_body, headers=headers) \n",
        "\n",
        "  # If rate-limited, wait for n seconds and proceed the same scroll id\n",
        "  # Since scroll time is 1 minutes, it will give sufficient time to wait and proceed\n",
        "  if response.status_code == requests.codes.too_many_requests:\n",
        "    time.sleep(8)\n",
        "    scroll(scroll_id)\n",
        "  # If the response is not ok here, better to stop here and debug it\n",
        "  elif response.status_code != requests.codes.ok:\n",
        "    print(response.json())\n",
        "  # If the response is ok, do something with the response, take the new scroll id and iterate\n",
        "  else:\n",
        "    json = response.json()\n",
        "    scroll_id = json['scroll_id'] # Extract the new scroll id from response\n",
        "    scroll(scroll_id)\n",
        "# start recursive scrolling\n",
        "scrolled = scroll(scroll_id=None)"
      ],
      "outputs": [
        {
          "output_type": "stream",
          "name": "stdout",
          "text": [
            "Good on MjAyMTI0;FGluY2x1ZGVfY29udGV4dF91dWlkDnF1ZXJ5VGhlbkZldGNoGBRxeW9KWFhvQnp3ZFFkOGQyTUc4TQAAAAAANt4KFlVOd1FabmN5Um02dmF1VkMtb1pKQ0EUcVNvSlhYb0J6d2RRZDhkMk1HOEwAAAAAADbeCBZVTndRWm5jeVJtNnZhdVZDLW9aSkNBFDBmVUpYWG9CNnlpQjVkZ1BNTjRMAAAAAAA7XUIWZG9sZVhDMURSeE94dHJSSndob1U5URQwdlVKWFhvQjZ5aUI1ZGdQTU40TAAAAAAAO11DFmRvbGVYQzFEUnhPeHRyUkp3aG9VOVEUMF9VSlhYb0I2eWlCNWRnUE1ONEwAAAAAADtdRBZkb2xlWEMxRFJ4T3h0clJKd2hvVTlRFHJDb0pYWG9CendkUWQ4ZDJNRzhNAAAAAAA23gsWVU53UVpuY3lSbTZ2YXVWQy1vWkpDQRRxaW9KWFhvQnp3ZFFkOGQyTUc4TAAAAAAANt4JFlVOd1FabmN5Um02dmF1VkMtb1pKQ0EUMVBVSlhYb0I2eWlCNWRnUE1ONEwAAAAAADtdRRZkb2xlWEMxRFJ4T3h0clJKd2hvVTlRFHFDb0pYWG9CendkUWQ4ZDJNRzhMAAAAAAA23gcWVU53UVpuY3lSbTZ2YXVWQy1vWkpDQRRyU29KWFhvQnp3ZFFkOGQyTUc4ZQAAAAAANt4MFlVOd1FabmN5Um02dmF1VkMtb1pKQ0EUcmlvSlhYb0J6d2RRZDhkMk1HOG8AAAAAADbeDRZVTndRWm5jeVJtNnZhdVZDLW9aSkNBFDFmVUpYWG9CNnlpQjVkZ1BNTjRMAAAAAAA7XUYWZG9sZVhDMURSeE94dHJSSndob1U5URQxdlVKWFhvQjZ5aUI1ZGdQTU40YwAAAAAAO11HFmRvbGVYQzFEUnhPeHRyUkp3aG9VOVEUcnlvSlhYb0J6d2RRZDhkMk1HOHEAAAAAADbeDhZVTndRWm5jeVJtNnZhdVZDLW9aSkNBFDFfVUpYWG9CNnlpQjVkZ1BNTjRqAAAAAAA7XUgWZG9sZVhDMURSeE94dHJSSndob1U5URQyUFVKWFhvQjZ5aUI1ZGdQTU40bAAAAAAAO11JFmRvbGVYQzFEUnhPeHRyUkp3aG9VOVEUc0NvSlhYb0J6d2RRZDhkMk1HOHEAAAAAADbeDxZVTndRWm5jeVJtNnZhdVZDLW9aSkNBFHNTb0pYWG9CendkUWQ4ZDJNRzh2AAAAAAA23hAWVU53UVpuY3lSbTZ2YXVWQy1vWkpDQRRzaW9KWFhvQnp3ZFFkOGQyTUc4MwAAAAAANt4RFlVOd1FabmN5Um02dmF1VkMtb1pKQ0EUMmZVSlhYb0I2eWlCNWRnUE1ONG0AAAAAADtdShZkb2xlWEMxRFJ4T3h0clJKd2hvVTlRFDJ2VUpYWG9CNnlpQjVkZ1BNTjRuAAAAAAA7XUsWZG9sZVhDMURSeE94dHJSSndob1U5URRzeW9KWFhvQnp3ZFFkOGQyTUc4XwAAAAAANt4SFlVOd1FabmN5Um02dmF1VkMtb1pKQ0EUMl9VSlhYb0I2eWlCNWRnUE1ONHkAAAAAADtdTBZkb2xlWEMxRFJ4T3h0clJKd2hvVTlRFDNQVUpYWG9CNnlpQjVkZ1BNTjR6AAAAAAA7XU0WZG9sZVhDMURSeE94dHJSSndob1U5UQ==\n",
            "{'reference': '68d87e2b-a962-4221-bf5c-691ffa84dd6f', 'message': 'Mismatched input for fields - []', 'code': 400}\n"
          ]
        }
      ],
      "execution_count": 30,
      "metadata": {
        "collapsed": true,
        "jupyter": {
          "source_hidden": false,
          "outputs_hidden": false
        },
        "nteract": {
          "transient": {
            "deleting": false
          }
        },
        "execution": {
          "iopub.status.busy": "2021-06-30T13:08:40.295Z",
          "iopub.execute_input": "2021-06-30T13:08:40.299Z",
          "iopub.status.idle": "2021-06-30T13:08:42.653Z",
          "shell.execute_reply": "2021-06-30T13:08:42.664Z"
        }
      }
    },
    {
      "cell_type": "code",
      "source": [],
      "outputs": [],
      "execution_count": null,
      "metadata": {
        "collapsed": true,
        "jupyter": {
          "source_hidden": false,
          "outputs_hidden": false
        },
        "nteract": {
          "transient": {
            "deleting": false
          }
        }
      }
    }
  ],
  "metadata": {
    "kernel_info": {
      "name": "nteract"
    },
    "language_info": {
      "name": "python",
      "version": "3.9.5",
      "mimetype": "text/x-python",
      "codemirror_mode": {
        "name": "ipython",
        "version": 3
      },
      "pygments_lexer": "ipython3",
      "nbconvert_exporter": "python",
      "file_extension": ".py"
    },
    "kernelspec": {
      "argv": [
        "/opt/homebrew/Caskroom/miniforge/base/envs/nteract/bin/python",
        "-m",
        "ipykernel_launcher",
        "-f",
        "{connection_file}"
      ],
      "display_name": "nteract",
      "language": "python",
      "name": "nteract"
    },
    "nteract": {
      "version": "0.28.0"
    }
  },
  "nbformat": 4,
  "nbformat_minor": 0
}