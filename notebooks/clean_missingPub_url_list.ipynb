{
 "cells": [
  {
   "cell_type": "code",
   "execution_count": 11,
   "id": "93c223ed-516b-4e51-81f1-ab7366c31a5d",
   "metadata": {},
   "outputs": [],
   "source": [
    "import pandas as pd\n",
    "import requests\n",
    "import os \n",
    "import numpy as np\n",
    "os.chdir('/Users/jmccarty/GitHub/urban_bipv_annotated_bib')\n",
    "\n",
    "\n",
    "# url = r'http://www.aesc-inc.com/download/Pruitt_PV.pdf'\n",
    "\n",
    "# print()\n"
   ]
  },
  {
   "cell_type": "code",
   "execution_count": null,
   "id": "938eacb4-7730-4f4c-9b0c-8ffe3e925a0f",
   "metadata": {},
   "outputs": [],
   "source": [
    "path = os.path.join(os.getcwd(),'data','manual_edits','missingPubs_urls.csv')\n",
    "df = pd.read_csv(path,index_col='Lens ID')\n",
    "\n",
    "\n",
    "def check_url(url):\n",
    "    print(url)\n",
    "    \n",
    "    try:\n",
    "        req = requests.get(url, stream=True).status_code\n",
    "    except:\n",
    "        req = 'Fail' \n",
    "    return req\n",
    "\n",
    "df['status'] = df.apply(lambda x: check_url(x['External URL']),axis=1)\n",
    "\n",
    "\n",
    "# df[\"status\"] = np.vectorize(check_url) (df['External URL'])\n"
   ]
  },
  {
   "cell_type": "code",
   "execution_count": 20,
   "id": "7871cef3-5f2b-4c41-9632-0301850ca461",
   "metadata": {},
   "outputs": [],
   "source": [
    "df[df.status==200].to_csv(os.path.join(os.getcwd(),'data','manual_edits','missingPubs_urls_200.csv'))"
   ]
  }
 ],
 "metadata": {
  "kernelspec": {
   "display_name": "Python 3 (ipykernel)",
   "language": "python",
   "name": "python3"
  },
  "language_info": {
   "codemirror_mode": {
    "name": "ipython",
    "version": 3
   },
   "file_extension": ".py",
   "mimetype": "text/x-python",
   "name": "python",
   "nbconvert_exporter": "python",
   "pygments_lexer": "ipython3",
   "version": "3.9.5"
  }
 },
 "nbformat": 4,
 "nbformat_minor": 5
}
