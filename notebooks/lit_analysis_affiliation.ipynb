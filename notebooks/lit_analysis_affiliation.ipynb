{
  "cells": [
    {
      "cell_type": "code",
      "source": [
        "import numpy as np\n",
        "import requests\n",
        "import pandas as pd\n",
        "import json\n",
        "import os\n",
        "import glob\n",
        "import matplotlib.pyplot as plt\n",
        "import time\n",
        "import requests\n",
        "import time\n",
        "\n",
        "token = 'm3lB5Q8zHn7wis2frICKXcmPb7yERygZnPypvcjuKPcye4IKkwdY'\n",
        "base_url = 'https://api.lens.org/scholarly/search'\n"
      ],
      "outputs": [],
      "execution_count": 2,
      "metadata": {
        "collapsed": true,
        "jupyter": {
          "source_hidden": false,
          "outputs_hidden": false
        },
        "nteract": {
          "transient": {
            "deleting": false
          }
        },
        "execution": {
          "iopub.status.busy": "2021-07-18T10:35:47.140Z",
          "iopub.execute_input": "2021-07-18T10:35:47.152Z",
          "iopub.status.idle": "2021-07-18T10:35:47.531Z",
          "shell.execute_reply": "2021-07-18T10:35:47.539Z"
        }
      }
    },
    {
      "cell_type": "markdown",
      "source": [
        "### Start Here With Filtering Out Irrelevant Items"
      ],
      "metadata": {
        "nteract": {
          "transient": {
            "deleting": false
          }
        }
      }
    },
    {
      "cell_type": "code",
      "source": [
        "orig_data = pd.read_csv('/Users/jmccarty/GitHub/urban_bipv_annotated_bib/data/raw_query_manual_clean.csv',index_col=0)\n",
        "rel_data = pd.read_csv('/Users/jmccarty/GitHub/urban_bipv_annotated_bib/data/raw_query_short.csv',index_col=0)\n",
        "id_keep_list = rel_data.index.tolist()\n",
        "\n",
        "data = orig_data[orig_data.index.isin(id_keep_list)==True]\n",
        "\n",
        "\n"
      ],
      "outputs": [],
      "execution_count": 3,
      "metadata": {
        "collapsed": true,
        "jupyter": {
          "source_hidden": false,
          "outputs_hidden": false
        },
        "nteract": {
          "transient": {
            "deleting": false
          }
        },
        "execution": {
          "iopub.status.busy": "2021-07-18T10:35:51.446Z",
          "iopub.execute_input": "2021-07-18T10:35:51.456Z",
          "iopub.status.idle": "2021-07-18T10:35:51.637Z",
          "shell.execute_reply": "2021-07-18T10:35:51.700Z"
        }
      }
    },
    {
      "cell_type": "code",
      "source": [
        "\n",
        "# there are some in the shortlist that are not in the long list but should be kept...\n",
        "# print titles to review whether they are relevant or not like I did in the manual cleaning step\n",
        "data_missing = rel_data[rel_data.index.isin(data.index.tolist())==False]\n",
        "\n",
        "for title in data_missing.Title.tolist():\n",
        "    print(f'--> {title}')\n",
        "\n"
      ],
      "outputs": [
        {
          "output_type": "stream",
          "name": "stdout",
          "text": [
            "--> Effect of electrochromic windows on energy consumption of high-rise office buildings in different climate regions of Iran\n",
            "--> Dataset for the Solar Incident Radiation and Electricity Production BIPV/BAPV System on the Northern/Southern Façade in Dense Urban Areas\n",
            "--> Parameter evaluation and performance analysis of a BIPVT system for the different climates of India: A comprehensive study\n",
            "--> Metal halide perovskite-based flexible tandem solar cells: next-generation flexible photovoltaic technology\n",
            "--> Comparison of Solar Glazing Performance of Semi-transparent Amorphous-Silicon (a-Si) and Crystalline-Silicon (c-Si) Photovoltaic Panels: A Case Study for Typical Office Building in Hong Kong\n",
            "--> Comportamiento en operación real de la tecnología PV de capa fina (a-Si) en aplicaciones para la edificación (BIPV)\n",
            "--> Comparison Between an Interleaved Boost Converter Using Si MOSFETs Versus GaN HEMTs\n",
            "--> 스마트 조명과 BIPV시스템을 이용한 조명에너지 절감효과 연구\n",
            "--> A review on developments and researches of building integrated photovoltaic (BIPV) windows and shading blinds\n",
            "--> Impact of BIPV windows on building energy consumption in street canyons: Model development and validation\n",
            "--> A Quantitative Investigation on Awareness of Renewable Energy Building Technology in the United Arab Emirates\n",
            "--> Operation and grid interaction modeling of a house with a building integrated photovoltaic thermal (BIPV/T) system coupled to an air-source heat pump\n",
            "--> Dye sensitised solar power generating window: towards environmentally sustainable energy efficiency in ICT\n",
            "--> Analysing the role of roof mounted BIPV system optimization on decreasing the effect of duck curve in Perth, Western Australia: An experimental case study\n",
            "--> Comparison assessment of semi-transparent solar cell for BIPV windows\n",
            "--> Optimal design and photoelectric performance study of micro-lens light trapping structure for CIGS thin film solar cell in BIPV\n"
          ]
        }
      ],
      "execution_count": 4,
      "metadata": {
        "collapsed": true,
        "jupyter": {
          "source_hidden": false,
          "outputs_hidden": false
        },
        "nteract": {
          "transient": {
            "deleting": false
          }
        },
        "execution": {
          "iopub.status.busy": "2021-07-18T10:35:54.761Z",
          "iopub.execute_input": "2021-07-18T10:35:54.771Z",
          "iopub.status.idle": "2021-07-18T10:35:54.802Z",
          "shell.execute_reply": "2021-07-18T10:35:54.814Z"
        }
      }
    },
    {
      "cell_type": "code",
      "source": [
        "\n",
        "all_data = pd.concat([data,data_missing])\n",
        "all_data.columns\n"
      ],
      "outputs": [
        {
          "output_type": "execute_result",
          "execution_count": 10,
          "data": {
            "text/plain": "Index(['Remove', 'Title', 'Date Published', 'Publication Year',\n       'Publication Type', 'Source Title', 'ISSNs', 'Publisher',\n       'Source Country', 'Author/s', 'Abstract', 'Volume', 'Issue Number',\n       'Start Page', 'End Page', 'Fields of Study', 'Keywords', 'MeSH Terms',\n       'Chemicals', 'Funding', 'Source URLs', 'External URL', 'PMID', 'DOI',\n       'Microsoft Academic ID', 'PMCID', 'Citing Patents Count', 'References',\n       'Citing Works Count'],\n      dtype='object')"
          },
          "metadata": {}
        }
      ],
      "execution_count": 10,
      "metadata": {
        "collapsed": true,
        "jupyter": {
          "source_hidden": false,
          "outputs_hidden": false
        },
        "nteract": {
          "transient": {
            "deleting": false
          }
        },
        "execution": {
          "iopub.status.busy": "2021-07-18T15:39:45.727Z",
          "iopub.execute_input": "2021-07-18T15:39:45.734Z",
          "iopub.status.idle": "2021-07-18T15:39:45.761Z",
          "shell.execute_reply": "2021-07-18T15:39:45.786Z"
        }
      }
    },
    {
      "cell_type": "markdown",
      "source": [
        "### Filter Down Dataframe Part 1"
      ],
      "metadata": {
        "nteract": {
          "transient": {
            "deleting": false
          }
        }
      }
    },
    {
      "cell_type": "code",
      "source": [
        "# UNRELATED\n",
        "# remove the irrelevant items\n",
        "\n",
        "not_relevant = all_data[all_data['Remove']==True].index.tolist()\n",
        "all_data_rel = all_data[all_data.index.isin(not_relevant)==False]\n",
        "\n",
        "print(f'Original shape was {all_data.shape}')\n",
        "print(f'New shape is {all_data_rel.shape}')"
      ],
      "outputs": [],
      "execution_count": null,
      "metadata": {
        "collapsed": true,
        "jupyter": {
          "source_hidden": false,
          "outputs_hidden": false
        },
        "nteract": {
          "transient": {
            "deleting": false
          }
        }
      }
    },
    {
      "cell_type": "markdown",
      "source": [
        "### Access Lens API To Get Full Data"
      ],
      "metadata": {
        "nteract": {
          "transient": {
            "deleting": false
          }
        }
      }
    },
    {
      "cell_type": "code",
      "source": [
        "\n",
        "# create the query based on the id list from the relevant data\n",
        "lens_id_list = all_data_rel.index.tolist()\n",
        "lens_id_query = {\n",
        "           \"terms\":{\n",
        "                \"lens_id\": lens_id_list\n",
        "           }\n",
        "     }\n",
        "\n",
        "len(lens_id_list)"
      ],
      "outputs": [
        {
          "output_type": "execute_result",
          "execution_count": 9,
          "data": {
            "text/plain": "3544"
          },
          "metadata": {}
        }
      ],
      "execution_count": 9,
      "metadata": {
        "collapsed": true,
        "jupyter": {
          "source_hidden": false,
          "outputs_hidden": false
        },
        "nteract": {
          "transient": {
            "deleting": false
          }
        },
        "execution": {
          "iopub.status.busy": "2021-07-18T10:36:45.278Z",
          "iopub.execute_input": "2021-07-18T10:36:45.292Z",
          "iopub.status.idle": "2021-07-18T10:36:45.315Z",
          "shell.execute_reply": "2021-07-18T10:36:45.324Z"
        }
      }
    },
    {
      "cell_type": "code",
      "source": [
        "# request body with scroll time of 1 minute\n",
        "request_body = {\n",
        "     \"query\": lens_id_query,\n",
        "     \"size\": 1000,\n",
        "     \"scroll\":\"1m\",\n",
        "}\n",
        "headers = {'Authorization': token, 'Content-Type': 'application/json'}\n",
        "\n",
        "# Recursive function to scroll through paginated results\n",
        "def scroll(scroll_id):\n",
        "    # Change the request_body to prepare for next scroll api call\n",
        "    # Make sure to append the include fields to make faster response\n",
        "    if scroll_id is not None:\n",
        "        global request_body\n",
        "        request_body = {\"scroll_id\": scroll_id}\n",
        "\n",
        "    # make api request\n",
        "    response = requests.post(url, json=request_body, headers=headers) \n",
        "\n",
        "    # If rate-limited, wait for n seconds and proceed the same scroll id\n",
        "    # Since scroll time is 1 minutes, it will give sufficient time to wait and proceed\n",
        "    if response.status_code == requests.codes.too_many_requests:\n",
        "        time.sleep(8)\n",
        "        scroll(scroll_id)\n",
        "    # If the response is not ok here, better to stop here and debug it\n",
        "    elif response.status_code != requests.codes.ok:\n",
        "        print(response.json())\n",
        "    # If the response is ok, do something with the response, take the new scroll id and iterate\n",
        "    else:\n",
        "        json_data = response.json()\n",
        "        scroll_id = json_data['scroll_id'] # Extract the new scroll id from response\n",
        "\n",
        "        print('Saving')\n",
        "        idnumber = json_data['data'][0]['lens_id']\n",
        "        json.dump(json_data,open(f'/Users/jmccarty/GitHub/urban_bipv_annotated_bib/data/dump_{idnumber}.json','w'))\n",
        "\n",
        "        scroll(scroll_id)\n",
        "\n",
        "# start recursive scrolling\n",
        "scrolled = scroll(scroll_id=None)\n"
      ],
      "outputs": [],
      "execution_count": null,
      "metadata": {
        "collapsed": true,
        "jupyter": {
          "source_hidden": false,
          "outputs_hidden": false
        },
        "nteract": {
          "transient": {
            "deleting": false
          }
        },
        "execution": {
          "iopub.status.busy": "2021-07-01T12:33:54.276Z",
          "iopub.execute_input": "2021-07-01T12:33:54.281Z",
          "iopub.status.idle": "2021-07-01T11:11:11.509Z",
          "shell.execute_reply": "2021-07-01T11:11:11.514Z"
        }
      }
    },
    {
      "cell_type": "markdown",
      "source": [
        "## Move to Compiling and Cleaning"
      ],
      "metadata": {
        "nteract": {
          "transient": {
            "deleting": false
          }
        }
      }
    },
    {
      "cell_type": "code",
      "source": [
        "# write function to grab data from a single entry\n",
        "\n",
        "def get_data(data,field):\n",
        "    try:\n",
        "        if field=='authors':\n",
        "            try:\n",
        "                value = 'org_' + str(data[field][0]['affiliations'][0]['name'])\n",
        "            except KeyError:\n",
        "                id_type = data[field][0]['ids'][0]['type']\n",
        "                id_value = data[field][0]['ids'][0]['value']\n",
        "                value = str(id_type) + '_' + str(id_value)\n",
        "        elif field=='year_published':\n",
        "            try:\n",
        "                value = data[field]\n",
        "            except KeyError:\n",
        "                try:\n",
        "                    value = data['date_published_parts'][0]\n",
        "                except KeyError:\n",
        "                    try:\n",
        "                        value = data['created'].split('-')[0]\n",
        "                    except KeyError:\n",
        "                        value = 'none'\n",
        "        else:\n",
        "            try:\n",
        "                value = data[field]\n",
        "            except KeyError:\n",
        "                value = 'none'\n",
        "    except KeyError:\n",
        "        value = 'none'\n",
        "    \n",
        "    return value\n",
        "\n",
        "\n",
        "def extract_fields(data):\n",
        "    data_dict = dict()\n",
        "    data_dict['lens_id'] = get_data(data,'lens_id')\n",
        "    data_dict['document_type'] = get_data(data,'publication_type')\n",
        "    data_dict['title'] = get_data(data,'title')\n",
        "    data_dict['abstract'] = get_data(data,'abstract')\n",
        "    data_dict['affiliation'] = get_data(data,'authors')\n",
        "    data_dict['pub_year'] = get_data(data,'year_published')\n",
        "    data_dict['keywords'] = get_data(data,'fields_of_study')\n",
        "    data_dict['keywords_count'] = len(get_data(data,'fields_of_study'))\n",
        "    data_dict['language'] = get_data(data,'languages')[0]\n",
        "    return data_dict\n",
        "\n",
        "# write function to create dataframe for each file\n",
        "def parsejsons(current_file):\n",
        "    with open(current_file) as jsonFile:\n",
        "        json_str = jsonFile.read()\n",
        "        json_data = json.loads(json_str)\n",
        "        data_list = []\n",
        "        # get_data(data,'abstract')\n",
        "        for i in list(range(0,len(json_data['data']))):\n",
        "            data_list.append(extract_fields(json_data['data'][i]))\n",
        "\n",
        "        return pd.DataFrame(data_list)"
      ],
      "outputs": [],
      "execution_count": 228,
      "metadata": {
        "collapsed": true,
        "jupyter": {
          "source_hidden": false,
          "outputs_hidden": false
        },
        "nteract": {
          "transient": {
            "deleting": false
          }
        },
        "execution": {
          "iopub.status.busy": "2021-07-01T13:41:32.165Z",
          "iopub.execute_input": "2021-07-01T13:41:32.171Z",
          "iopub.status.idle": "2021-07-01T13:41:32.184Z",
          "shell.execute_reply": "2021-07-01T13:41:32.191Z"
        }
      }
    },
    {
      "cell_type": "code",
      "source": [
        "# create file list \n",
        "files = glob.glob(\"/Users/jmccarty/GitHub/urban_bipv_annotated_bib/data/*.json\")\n",
        "\n",
        "#extract and concat all data into one frame\n",
        "df_list = []\n",
        "\n",
        "for i in files:\n",
        "    df_list.append(parsejsons(i))\n",
        "\n",
        "all_data = pd.concat(df_list)\n",
        "print(len(all_data))"
      ],
      "outputs": [
        {
          "output_type": "stream",
          "name": "stdout",
          "text": [
            "6958\n"
          ]
        }
      ],
      "execution_count": 230,
      "metadata": {
        "collapsed": true,
        "jupyter": {
          "source_hidden": false,
          "outputs_hidden": false
        },
        "nteract": {
          "transient": {
            "deleting": false
          }
        },
        "execution": {
          "iopub.status.busy": "2021-07-01T13:41:36.559Z",
          "iopub.execute_input": "2021-07-01T13:41:36.566Z",
          "iopub.status.idle": "2021-07-01T13:41:36.756Z",
          "shell.execute_reply": "2021-07-01T13:41:36.764Z"
        }
      }
    },
    {
      "cell_type": "code",
      "source": [
        "all_data.to_csv('/Users/jmccarty/GitHub/urban_bipv_annotated_bib/data/lit_api_data.csv',index=False)"
      ],
      "outputs": [],
      "execution_count": 231,
      "metadata": {
        "collapsed": true,
        "jupyter": {
          "source_hidden": false,
          "outputs_hidden": false
        },
        "nteract": {
          "transient": {
            "deleting": false
          }
        },
        "execution": {
          "iopub.status.busy": "2021-07-01T13:41:38.562Z",
          "iopub.execute_input": "2021-07-01T13:41:38.571Z",
          "iopub.status.idle": "2021-07-01T13:41:38.690Z",
          "shell.execute_reply": "2021-07-01T13:41:38.693Z"
        }
      }
    },
    {
      "cell_type": "markdown",
      "source": [
        "## Filter Down Dataframe Part 2"
      ],
      "metadata": {
        "nteract": {
          "transient": {
            "deleting": false
          }
        }
      }
    },
    {
      "cell_type": "code",
      "source": [
        "# df = pd.read_csv('/Users/jmccarty/GitHub/urban_bipv_annotated_bib/data/lit_api_data.csv')\n",
        "df = pd.read_csv('/Users/jmccarty/GitHub/urban_bipv_annotated_bib/data/archive/lit_dataset_all.csv')"
      ],
      "outputs": [],
      "execution_count": 11,
      "metadata": {
        "collapsed": true,
        "jupyter": {
          "source_hidden": false,
          "outputs_hidden": false
        },
        "nteract": {
          "transient": {
            "deleting": false
          }
        },
        "execution": {
          "iopub.status.busy": "2021-07-18T15:58:52.121Z",
          "iopub.execute_input": "2021-07-18T15:58:52.133Z",
          "iopub.status.idle": "2021-07-18T15:58:52.200Z",
          "shell.execute_reply": "2021-07-18T15:58:52.206Z"
        }
      }
    },
    {
      "cell_type": "code",
      "source": [
        "# LANGUAGE\n",
        "# remove the non english documents\n",
        "\n",
        "pd.value_counts(df['language']).plot.bar()\n",
        "\n",
        "df_en = df[df['language']=='en']\n",
        "\n",
        "print(len(df_en))"
      ],
      "outputs": [
        {
          "output_type": "stream",
          "name": "stdout",
          "text": [
            "5918\n"
          ]
        },
        {
          "output_type": "display_data",
          "data": {
            "text/plain": "<Figure size 432x288 with 1 Axes>",
            "image/png": "[encoded data removed]"
          },
          "metadata": {
            "needs_background": "light"
          }
        }
      ],
      "execution_count": 12,
      "metadata": {
        "collapsed": true,
        "jupyter": {
          "source_hidden": false,
          "outputs_hidden": false
        },
        "nteract": {
          "transient": {
            "deleting": false
          }
        },
        "execution": {
          "iopub.status.busy": "2021-07-18T15:58:54.041Z",
          "iopub.execute_input": "2021-07-18T15:58:54.050Z",
          "iopub.status.idle": "2021-07-18T15:58:54.157Z",
          "shell.execute_reply": "2021-07-18T15:58:54.178Z"
        }
      }
    },
    {
      "cell_type": "code",
      "source": [
        "# ABSTRACT\n",
        "# remove the items with not abstract\n",
        "\n",
        "# pd.value_counts(all_data_peer['language']).plot.bar()\n",
        "\n",
        "\n",
        "df_en_ab = df_en[df_en['abstract']!='none']\n",
        "print(len(df_en_ab))"
      ],
      "outputs": [
        {
          "output_type": "stream",
          "name": "stdout",
          "text": [
            "5155\n"
          ]
        }
      ],
      "execution_count": 14,
      "metadata": {
        "collapsed": true,
        "jupyter": {
          "source_hidden": false,
          "outputs_hidden": false
        },
        "nteract": {
          "transient": {
            "deleting": false
          }
        },
        "execution": {
          "iopub.status.busy": "2021-07-18T15:58:57.454Z",
          "iopub.execute_input": "2021-07-18T15:58:57.464Z",
          "iopub.status.idle": "2021-07-18T15:58:57.478Z",
          "shell.execute_reply": "2021-07-18T15:58:57.484Z"
        }
      }
    },
    {
      "cell_type": "code",
      "source": [
        "# PUBLICATION TYPE\n",
        "# remove the non peer reviewed documents\n",
        "# this will require a manual process to label the 1000 or so missing documents so do it last\n",
        "\n",
        "\n",
        "# TODO add to the boolean the missing publication type and bring it out to csv, \n",
        "# add them and then come back\n",
        "pd.value_counts(all_data_rel['Publication Type']).plot.bar()\n",
        "\n",
        "all_data_peer = all_data_rel[(all_data_rel['Publication Type']=='journal article') | \\\n",
        " (all_data_rel['Publication Type']=='conference proceedings article') | \\\n",
        "  (all_data_rel['Publication Type']=='conference proceedings')]\n",
        "  \n",
        "\n",
        "print(f'Original shape was {all_data_rel.shape}')\n",
        "print(f'New shape is {all_data_peer.shape}')"
      ],
      "outputs": [],
      "execution_count": null,
      "metadata": {
        "collapsed": true,
        "jupyter": {
          "source_hidden": false,
          "outputs_hidden": false
        },
        "nteract": {
          "transient": {
            "deleting": false
          }
        }
      }
    },
    {
      "cell_type": "code",
      "source": [
        "pd.value_counts(df_en_ab['pub_year']).plot.bar()\n",
        "\n"
      ],
      "outputs": [
        {
          "output_type": "execute_result",
          "execution_count": 15,
          "data": {
            "text/plain": "<AxesSubplot:>"
          },
          "metadata": {}
        },
        {
          "output_type": "display_data",
          "data": {
            "text/plain": "<Figure size 432x288 with 1 Axes>",
            "image/png": "[encoded data removed]"
          },
          "metadata": {
            "needs_background": "light"
          }
        }
      ],
      "execution_count": 15,
      "metadata": {
        "collapsed": true,
        "jupyter": {
          "source_hidden": false,
          "outputs_hidden": false
        },
        "nteract": {
          "transient": {
            "deleting": false
          }
        },
        "execution": {
          "iopub.status.busy": "2021-07-18T15:58:58.418Z",
          "iopub.execute_input": "2021-07-18T15:58:58.428Z",
          "iopub.status.idle": "2021-07-18T15:58:58.536Z",
          "shell.execute_reply": "2021-07-18T15:58:58.556Z"
        }
      }
    },
    {
      "cell_type": "code",
      "source": [
        "# create dataframe to feed into sankey generator"
      ],
      "outputs": [],
      "execution_count": null,
      "metadata": {
        "collapsed": true,
        "jupyter": {
          "source_hidden": false,
          "outputs_hidden": false
        },
        "nteract": {
          "transient": {
            "deleting": false
          }
        }
      }
    },
    {
      "cell_type": "code",
      "source": [
        "# export filtered df to use in fixing the affiliations"
      ],
      "outputs": [],
      "execution_count": null,
      "metadata": {
        "collapsed": true,
        "jupyter": {
          "source_hidden": false,
          "outputs_hidden": false
        },
        "nteract": {
          "transient": {
            "deleting": false
          }
        }
      }
    },
    {
      "cell_type": "markdown",
      "source": [
        "## Fix Affiliation\n"
      ],
      "metadata": {
        "nteract": {
          "transient": {
            "deleting": false
          }
        }
      }
    },
    {
      "cell_type": "code",
      "source": [
        "df_en_ab[df_en_ab['affiliation']=='none']\n"
      ],
      "outputs": [
        {
          "output_type": "execute_result",
          "execution_count": 16,
          "data": {
            "text/plain": "                  lens_id                   document_type  \\\n235   030-130-577-956-87X                    book chapter   \n467   064-687-042-614-824                    dissertation   \n890   152-205-995-900-462                    dissertation   \n927   163-266-029-888-322                          report   \n932   164-216-232-750-055                       component   \n1049  004-771-450-975-085                          report   \n1155  020-721-705-825-244                          report   \n1456  063-135-016-468-50X                 journal article   \n1564  079-652-659-404-290                    dissertation   \n1578  082-186-303-632-80X                    dissertation   \n1599  084-388-761-030-310                           other   \n1636  092-826-677-804-704                    dissertation   \n1734  114-765-015-990-050                 journal article   \n1812  133-793-387-779-819                          report   \n1922  167-492-456-423-264                 journal article   \n1949  177-083-270-926-248                    dissertation   \n1950  178-044-828-083-951                       component   \n2035  004-008-668-058-272                 journal article   \n2059  007-309-048-277-165                 journal article   \n2134  016-172-928-740-682                 journal article   \n2315  038-711-978-531-668                 journal article   \n2590  079-299-021-327-391                    dissertation   \n2622  085-612-708-468-815                    dissertation   \n2782  121-790-265-198-590                 journal article   \n2785  123-569-546-389-860                 journal article   \n2806  127-791-268-090-350                    book chapter   \n3172  021-904-820-547-567                    book chapter   \n3313  041-530-416-018-69X                 journal article   \n3460  061-248-433-168-40X                 journal article   \n3502  068-937-429-883-37X                    dissertation   \n3518  070-599-494-045-64X                 journal article   \n3623  088-661-577-038-646                          report   \n3723  111-864-894-650-371                 journal article   \n3767  121-107-511-070-455                 journal article   \n3775  124-013-933-902-778                          report   \n3828  137-900-730-769-455                 journal article   \n3925  169-894-027-599-522                       component   \n4415  053-938-645-273-795                    dissertation   \n4485  064-498-816-409-160                          report   \n4527  070-310-294-386-642                 journal article   \n4655  094-210-552-324-210                           other   \n4899  151-795-423-955-421                 journal article   \n4917  160-266-942-963-653                          report   \n5119  016-227-523-803-580                    dissertation   \n5471  066-784-019-743-270                    book chapter   \n5474  067-036-274-968-621                          report   \n5600  091-936-106-586-310                       component   \n5751  118-370-823-895-667                 journal article   \n5771  121-416-810-719-882                 journal article   \n5851  141-225-773-692-302                 journal article   \n6223  025-537-710-189-221                          report   \n6242  029-658-921-019-86X                    dissertation   \n6304  039-048-615-569-809                 journal article   \n6380  049-960-827-242-769  conference proceedings article   \n6531  074-414-721-845-033                    dissertation   \n6611  091-315-484-428-537                           other   \n6732  119-632-988-688-870                          report   \n6805  136-008-750-908-439                           other   \n\n                                                  title  \\\n235   Opportunities and Prospects for the Implementa...   \n467   Investigating the Effect of Changing Ratios an...   \n890   Thermal enhancement of a building integrated p...   \n927   Analytical and experimental system studies of ...   \n932   Monolithic Two-Dimensional Photonic Crystal Re...   \n1049  Rooftop PV system. Final technical progress re...   \n1155  Transparent building-integrated PV modules. Ph...   \n1456  A Holistic Strategy for Successful Photovoltai...   \n1564  Combined building integrated photovoltaic-ther...   \n1578  Variable versus Constant Flow Performance Inve...   \n1599  Performance of Variable Flow Rates for Photovo...   \n1636  Variable versus Constant Flow Performance Inve...   \n1734  A sensor-less LED dimming system based on dayl...   \n1812  Building America Industrialized Housing Partne...   \n1922  Novel Designs of Photovoltaic Thermal (PV/T) S...   \n1949  Thermal enhancement of a building integrated p...   \n1950  Highly Efficient Bifacial Dye-Sensitized Solar...   \n2035  System performance studies on a photovoltaic/t...   \n2059     Energy efficient residential house wall system   \n2134  Experimental study on the operating characteri...   \n2315  Experimental Study of Electrical and Thermal E...   \n2590  Optimal allocation of central storage in segme...   \n2622  Combined building integrated photovoltaic-ther...   \n2782  Efficient Photovoltaic Module Intergrated with...   \n2785  Solar timber kilns: State of the art and fores...   \n2806  Numerical Simulation Modelling of Building-Int...   \n3172                                       Front-matter   \n3313  Numerical Simulation of Energy Systems to Cont...   \n3460  Energy-Efficient Buildings, a step towards Sus...   \n3502  Investigating the Effect of Changing Ratios an...   \n3518  Measurements of the Electrical Incidence Angle...   \n3623  PVT -- A photovoltaic/thermal concentrator tot...   \n3723  Minimisation of the cost of generated electric...   \n3767  Calculation of Energy Flow and Carbon Credit E...   \n3775  DOE Solar Energy Technologies Program FY 2006 ...   \n3828  Multi-objective design optimization of a micro...   \n3925                                               none   \n4415  A Prototype Of Propane Refrigerant Based ASHP ...   \n4485   Photovoltaic systems concept study. Final report   \n4527  Nanofluid-based optical filter optimization fo...   \n4655  Detailed Modeling of  a Novel Photovoltaic The...   \n4899  Exergetic performance of building attached pho...   \n4917  Low Cost Thin Film Building-Integrated Photovo...   \n5119  Impact Of Building Integrated Photovoltaics (B...   \n5471  Advantages and Basic Areas of Application of S...   \n5474  Projected Benefits of Federal Energy Efficienc...   \n5600  Upconversion-Assisted Dual-Band Luminescent So...   \n5751  Comparison of oil and aluminum-based heat stor...   \n5771  Review on Energy and Exergy Analysis of Air an...   \n5851  Effect of Transformational Leadership and Brea...   \n6223              2008 Solar Technologies Market Report   \n6242  Impact Of Building Integrated Photovoltaics (B...   \n6304  Energy Communities Design Optimization in the ...   \n6380  The Influence of Convection on the Behaviour o...   \n6531  A Prototype Of Propane Refrigerant Based ASHP ...   \n6611  Performance of Variable Flow Rates for Photovo...   \n6732  Rooftop PV system. PV:BONUS Phase 3B, final te...   \n6805  Detailed Modeling of  a Novel Photovoltaic The...   \n\n                                               abstract affiliation  pub_year  \\\n235   <jats:p>In connection with the large-scale dev...        none      2021   \n467   <jats:p>Photovoltaic thermal and/or evacuated ...        none      2021   \n890   <jats:p>Enhancements of a building integrated ...        none      2021   \n927   Progress in the photovoltaic/thermal (PV/T) re...        none      1981   \n932   The\\ntransparent characteristic of dye-sensiti...        none      2020   \n1049  Under this four-year PV:BONUS Program, ECD and...        none      1995   \n1155  This Comprehensive Report encompasses the acti...        none      1998   \n1456  <jats:p>Based on the findings from a recent st...        none      2021   \n1564  <jats:p>A TRNSYS model was developed to conduc...        none      2021   \n1578  <jats:p>A quasi-steady-state model has been de...        none      2021   \n1599  <jats:p>A quasi-steady state model has been de...        none      2021   \n1636  <jats:p>A quasi-steady-state model has been de...        none      2021   \n1734  Artificial lighting in office buildings typica...        none      2014   \n1812  This final report summarizes the work conducte...        none      2006   \n1922  <jats:p>Advanced concepts of hybrid photovolta...        none      2019   \n1949  <jats:p>Enhancements of a building integrated ...        none      2021   \n1950  Dye-sensitized\\nsolar cells (DSCs) are promisi...        none      2020   \n2035  A computer simulation model is presented for t...        none      1999   \n2059  The energy consumption and greenhouse gas emis...        none      2013   \n2134  2011-2012 > Academic research: refereed > Publ...        none      2011   \n2315  <jats:p>Investigating the thermal and electric...        none      2021   \n2590  In this research work a novel approach is esta...        none      2018   \n2622  <jats:p>A TRNSYS model was developed to conduc...        none      2021   \n2782  <jats:p>Solar photovoltaic-thermal (PVT) is an...        none      2019   \n2785  Analysis of the evolution in solar heated dryi...        none      2009   \n2806  <jats:p>Building-integrated photovoltaic (BIPV...        none      2021   \n3172  System modelling forms a key part of the photo...        none      2018   \n3313  The aim of the present work is the development...        none      2016   \n3460  <jats:p>With every passing year, energy consum...        none      2019   \n3502  <jats:p>Photovoltaic thermal and/or evacuated ...        none      2021   \n3518  Reflector edges, sharp acceptance angles and b...        none      2013   \n3623  United Solar completed its Phase 1 report and ...        none      1998   \n3723  Arrays of thin-film solar cells based on dye-s...        none      2005   \n3767  <jats:p>In the current paper, analysis has bee...        none      2019   \n3775  The DOE Solar Energy Technologies Program FY 2...        none      2007   \n3828  An optimization methodology for a microchannel...        none      2013   \n3925  <p>ILEs from <i>Passalora brachycarpa</i> inse...        none      2018   \n4415  <jats:p>In recent years, an increased focus ha...        none      2021   \n4485  The following appendices are included: economi...        none      1977   \n4527  Optical filters are essential in a wide range ...        none      2012   \n4655  <jats:p>A domestic water heating system that c...        none      2021   \n4899  ###EgeUn###It is known that solar energy is am...        none      2019   \n4917  The goal of the program is to develop 'LOW COS...        none      2012   \n5119  <jats:p>Solar heat gains, heating, cooling and...        none      2021   \n5471  <jats:p>In connection with the large-scale dev...        none      2021   \n5474  This document summarizes the results of the be...        none      2007   \n5600  A luminescent solar concentrator\\n(LSC)-based ...        none      2020   \n5751  <p>The main objective of this thesis is to des...        none      2013   \n5771  <jats:p>&lt;p class=\"AEuroAbstract\"&gt;In phot...        none      2018   \n5851  Purpose: The article investigates the impact o...        none      2020   \n6223  This report focuses on the U.S. solar electric...        none      2010   \n6242  <jats:p>Solar heat gains, heating, cooling and...        none      2021   \n6304  <jats:p>Energy communities (EC) are expected t...        none      2021   \n6380                                   status: publishe        none      2020   \n6531  <jats:p>In recent years, an increased focus ha...        none      2021   \n6611  <jats:p>A quasi-steady state model has been de...        none      2021   \n6732  Under the PV:BONUS Program, ECD and United Sol...        none      1998   \n6805  <jats:p>A domestic water heating system that c...        none      2021   \n\n     keywords  keywords_count language  \n235      none               4       en  \n467      none               4       en  \n890      none               4       en  \n927      none               4       en  \n932      none               4       en  \n1049     none               4       en  \n1155     none               4       en  \n1456     none               4       en  \n1564     none               4       en  \n1578     none               4       en  \n1599     none               4       en  \n1636     none               4       en  \n1734     none               4       en  \n1812     none               4       en  \n1922     none               4       en  \n1949     none               4       en  \n1950     none               4       en  \n2035     none               4       en  \n2059     none               4       en  \n2134     none               4       en  \n2315     none               4       en  \n2590     none               4       en  \n2622     none               4       en  \n2782     none               4       en  \n2785     none               4       en  \n2806     none               4       en  \n3172     none               4       en  \n3313     none               4       en  \n3460     none               4       en  \n3502     none               4       en  \n3518     none               4       en  \n3623     none               4       en  \n3723     none               4       en  \n3767     none               4       en  \n3775     none               4       en  \n3828     none               4       en  \n3925     none               4       en  \n4415     none               4       en  \n4485     none               4       en  \n4527     none               4       en  \n4655     none               4       en  \n4899     none               4       en  \n4917     none               4       en  \n5119     none               4       en  \n5471     none               4       en  \n5474     none               4       en  \n5600     none               4       en  \n5751     none               4       en  \n5771     none               4       en  \n5851     none               4       en  \n6223     none               4       en  \n6242     none               4       en  \n6304     none               4       en  \n6380     none               4       en  \n6531     none               4       en  \n6611     none               4       en  \n6732     none               4       en  \n6805     none               4       en  ",
            "text/html": "<div>\n<style scoped>\n    .dataframe tbody tr th:only-of-type {\n        vertical-align: middle;\n    }\n\n    .dataframe tbody tr th {\n        vertical-align: top;\n    }\n\n    .dataframe thead th {\n        text-align: right;\n    }\n</style>\n<table border=\"1\" class=\"dataframe\">\n  <thead>\n    <tr style=\"text-align: right;\">\n      <th></th>\n      <th>lens_id</th>\n      <th>document_type</th>\n      <th>title</th>\n      <th>abstract</th>\n      <th>affiliation</th>\n      <th>pub_year</th>\n      <th>keywords</th>\n      <th>keywords_count</th>\n      <th>language</th>\n    </tr>\n  </thead>\n  <tbody>\n    <tr>\n      <th>235</th>\n      <td>030-130-577-956-87X</td>\n      <td>book chapter</td>\n      <td>Opportunities and Prospects for the Implementa...</td>\n      <td>&lt;jats:p&gt;In connection with the large-scale dev...</td>\n      <td>none</td>\n      <td>2021</td>\n      <td>none</td>\n      <td>4</td>\n      <td>en</td>\n    </tr>\n    <tr>\n      <th>467</th>\n      <td>064-687-042-614-824</td>\n      <td>dissertation</td>\n      <td>Investigating the Effect of Changing Ratios an...</td>\n      <td>&lt;jats:p&gt;Photovoltaic thermal and/or evacuated ...</td>\n      <td>none</td>\n      <td>2021</td>\n      <td>none</td>\n      <td>4</td>\n      <td>en</td>\n    </tr>\n    <tr>\n      <th>890</th>\n      <td>152-205-995-900-462</td>\n      <td>dissertation</td>\n      <td>Thermal enhancement of a building integrated p...</td>\n      <td>&lt;jats:p&gt;Enhancements of a building integrated ...</td>\n      <td>none</td>\n      <td>2021</td>\n      <td>none</td>\n      <td>4</td>\n      <td>en</td>\n    </tr>\n    <tr>\n      <th>927</th>\n      <td>163-266-029-888-322</td>\n      <td>report</td>\n      <td>Analytical and experimental system studies of ...</td>\n      <td>Progress in the photovoltaic/thermal (PV/T) re...</td>\n      <td>none</td>\n      <td>1981</td>\n      <td>none</td>\n      <td>4</td>\n      <td>en</td>\n    </tr>\n    <tr>\n      <th>932</th>\n      <td>164-216-232-750-055</td>\n      <td>component</td>\n      <td>Monolithic Two-Dimensional Photonic Crystal Re...</td>\n      <td>The\\ntransparent characteristic of dye-sensiti...</td>\n      <td>none</td>\n      <td>2020</td>\n      <td>none</td>\n      <td>4</td>\n      <td>en</td>\n    </tr>\n    <tr>\n      <th>1049</th>\n      <td>004-771-450-975-085</td>\n      <td>report</td>\n      <td>Rooftop PV system. Final technical progress re...</td>\n      <td>Under this four-year PV:BONUS Program, ECD and...</td>\n      <td>none</td>\n      <td>1995</td>\n      <td>none</td>\n      <td>4</td>\n      <td>en</td>\n    </tr>\n    <tr>\n      <th>1155</th>\n      <td>020-721-705-825-244</td>\n      <td>report</td>\n      <td>Transparent building-integrated PV modules. Ph...</td>\n      <td>This Comprehensive Report encompasses the acti...</td>\n      <td>none</td>\n      <td>1998</td>\n      <td>none</td>\n      <td>4</td>\n      <td>en</td>\n    </tr>\n    <tr>\n      <th>1456</th>\n      <td>063-135-016-468-50X</td>\n      <td>journal article</td>\n      <td>A Holistic Strategy for Successful Photovoltai...</td>\n      <td>&lt;jats:p&gt;Based on the findings from a recent st...</td>\n      <td>none</td>\n      <td>2021</td>\n      <td>none</td>\n      <td>4</td>\n      <td>en</td>\n    </tr>\n    <tr>\n      <th>1564</th>\n      <td>079-652-659-404-290</td>\n      <td>dissertation</td>\n      <td>Combined building integrated photovoltaic-ther...</td>\n      <td>&lt;jats:p&gt;A TRNSYS model was developed to conduc...</td>\n      <td>none</td>\n      <td>2021</td>\n      <td>none</td>\n      <td>4</td>\n      <td>en</td>\n    </tr>\n    <tr>\n      <th>1578</th>\n      <td>082-186-303-632-80X</td>\n      <td>dissertation</td>\n      <td>Variable versus Constant Flow Performance Inve...</td>\n      <td>&lt;jats:p&gt;A quasi-steady-state model has been de...</td>\n      <td>none</td>\n      <td>2021</td>\n      <td>none</td>\n      <td>4</td>\n      <td>en</td>\n    </tr>\n    <tr>\n      <th>1599</th>\n      <td>084-388-761-030-310</td>\n      <td>other</td>\n      <td>Performance of Variable Flow Rates for Photovo...</td>\n      <td>&lt;jats:p&gt;A quasi-steady state model has been de...</td>\n      <td>none</td>\n      <td>2021</td>\n      <td>none</td>\n      <td>4</td>\n      <td>en</td>\n    </tr>\n    <tr>\n      <th>1636</th>\n      <td>092-826-677-804-704</td>\n      <td>dissertation</td>\n      <td>Variable versus Constant Flow Performance Inve...</td>\n      <td>&lt;jats:p&gt;A quasi-steady-state model has been de...</td>\n      <td>none</td>\n      <td>2021</td>\n      <td>none</td>\n      <td>4</td>\n      <td>en</td>\n    </tr>\n    <tr>\n      <th>1734</th>\n      <td>114-765-015-990-050</td>\n      <td>journal article</td>\n      <td>A sensor-less LED dimming system based on dayl...</td>\n      <td>Artificial lighting in office buildings typica...</td>\n      <td>none</td>\n      <td>2014</td>\n      <td>none</td>\n      <td>4</td>\n      <td>en</td>\n    </tr>\n    <tr>\n      <th>1812</th>\n      <td>133-793-387-779-819</td>\n      <td>report</td>\n      <td>Building America Industrialized Housing Partne...</td>\n      <td>This final report summarizes the work conducte...</td>\n      <td>none</td>\n      <td>2006</td>\n      <td>none</td>\n      <td>4</td>\n      <td>en</td>\n    </tr>\n    <tr>\n      <th>1922</th>\n      <td>167-492-456-423-264</td>\n      <td>journal article</td>\n      <td>Novel Designs of Photovoltaic Thermal (PV/T) S...</td>\n      <td>&lt;jats:p&gt;Advanced concepts of hybrid photovolta...</td>\n      <td>none</td>\n      <td>2019</td>\n      <td>none</td>\n      <td>4</td>\n      <td>en</td>\n    </tr>\n    <tr>\n      <th>1949</th>\n      <td>177-083-270-926-248</td>\n      <td>dissertation</td>\n      <td>Thermal enhancement of a building integrated p...</td>\n      <td>&lt;jats:p&gt;Enhancements of a building integrated ...</td>\n      <td>none</td>\n      <td>2021</td>\n      <td>none</td>\n      <td>4</td>\n      <td>en</td>\n    </tr>\n    <tr>\n      <th>1950</th>\n      <td>178-044-828-083-951</td>\n      <td>component</td>\n      <td>Highly Efficient Bifacial Dye-Sensitized Solar...</td>\n      <td>Dye-sensitized\\nsolar cells (DSCs) are promisi...</td>\n      <td>none</td>\n      <td>2020</td>\n      <td>none</td>\n      <td>4</td>\n      <td>en</td>\n    </tr>\n    <tr>\n      <th>2035</th>\n      <td>004-008-668-058-272</td>\n      <td>journal article</td>\n      <td>System performance studies on a photovoltaic/t...</td>\n      <td>A computer simulation model is presented for t...</td>\n      <td>none</td>\n      <td>1999</td>\n      <td>none</td>\n      <td>4</td>\n      <td>en</td>\n    </tr>\n    <tr>\n      <th>2059</th>\n      <td>007-309-048-277-165</td>\n      <td>journal article</td>\n      <td>Energy efficient residential house wall system</td>\n      <td>The energy consumption and greenhouse gas emis...</td>\n      <td>none</td>\n      <td>2013</td>\n      <td>none</td>\n      <td>4</td>\n      <td>en</td>\n    </tr>\n    <tr>\n      <th>2134</th>\n      <td>016-172-928-740-682</td>\n      <td>journal article</td>\n      <td>Experimental study on the operating characteri...</td>\n      <td>2011-2012 &gt; Academic research: refereed &gt; Publ...</td>\n      <td>none</td>\n      <td>2011</td>\n      <td>none</td>\n      <td>4</td>\n      <td>en</td>\n    </tr>\n    <tr>\n      <th>2315</th>\n      <td>038-711-978-531-668</td>\n      <td>journal article</td>\n      <td>Experimental Study of Electrical and Thermal E...</td>\n      <td>&lt;jats:p&gt;Investigating the thermal and electric...</td>\n      <td>none</td>\n      <td>2021</td>\n      <td>none</td>\n      <td>4</td>\n      <td>en</td>\n    </tr>\n    <tr>\n      <th>2590</th>\n      <td>079-299-021-327-391</td>\n      <td>dissertation</td>\n      <td>Optimal allocation of central storage in segme...</td>\n      <td>In this research work a novel approach is esta...</td>\n      <td>none</td>\n      <td>2018</td>\n      <td>none</td>\n      <td>4</td>\n      <td>en</td>\n    </tr>\n    <tr>\n      <th>2622</th>\n      <td>085-612-708-468-815</td>\n      <td>dissertation</td>\n      <td>Combined building integrated photovoltaic-ther...</td>\n      <td>&lt;jats:p&gt;A TRNSYS model was developed to conduc...</td>\n      <td>none</td>\n      <td>2021</td>\n      <td>none</td>\n      <td>4</td>\n      <td>en</td>\n    </tr>\n    <tr>\n      <th>2782</th>\n      <td>121-790-265-198-590</td>\n      <td>journal article</td>\n      <td>Efficient Photovoltaic Module Intergrated with...</td>\n      <td>&lt;jats:p&gt;Solar photovoltaic-thermal (PVT) is an...</td>\n      <td>none</td>\n      <td>2019</td>\n      <td>none</td>\n      <td>4</td>\n      <td>en</td>\n    </tr>\n    <tr>\n      <th>2785</th>\n      <td>123-569-546-389-860</td>\n      <td>journal article</td>\n      <td>Solar timber kilns: State of the art and fores...</td>\n      <td>Analysis of the evolution in solar heated dryi...</td>\n      <td>none</td>\n      <td>2009</td>\n      <td>none</td>\n      <td>4</td>\n      <td>en</td>\n    </tr>\n    <tr>\n      <th>2806</th>\n      <td>127-791-268-090-350</td>\n      <td>book chapter</td>\n      <td>Numerical Simulation Modelling of Building-Int...</td>\n      <td>&lt;jats:p&gt;Building-integrated photovoltaic (BIPV...</td>\n      <td>none</td>\n      <td>2021</td>\n      <td>none</td>\n      <td>4</td>\n      <td>en</td>\n    </tr>\n    <tr>\n      <th>3172</th>\n      <td>021-904-820-547-567</td>\n      <td>book chapter</td>\n      <td>Front-matter</td>\n      <td>System modelling forms a key part of the photo...</td>\n      <td>none</td>\n      <td>2018</td>\n      <td>none</td>\n      <td>4</td>\n      <td>en</td>\n    </tr>\n    <tr>\n      <th>3313</th>\n      <td>041-530-416-018-69X</td>\n      <td>journal article</td>\n      <td>Numerical Simulation of Energy Systems to Cont...</td>\n      <td>The aim of the present work is the development...</td>\n      <td>none</td>\n      <td>2016</td>\n      <td>none</td>\n      <td>4</td>\n      <td>en</td>\n    </tr>\n    <tr>\n      <th>3460</th>\n      <td>061-248-433-168-40X</td>\n      <td>journal article</td>\n      <td>Energy-Efficient Buildings, a step towards Sus...</td>\n      <td>&lt;jats:p&gt;With every passing year, energy consum...</td>\n      <td>none</td>\n      <td>2019</td>\n      <td>none</td>\n      <td>4</td>\n      <td>en</td>\n    </tr>\n    <tr>\n      <th>3502</th>\n      <td>068-937-429-883-37X</td>\n      <td>dissertation</td>\n      <td>Investigating the Effect of Changing Ratios an...</td>\n      <td>&lt;jats:p&gt;Photovoltaic thermal and/or evacuated ...</td>\n      <td>none</td>\n      <td>2021</td>\n      <td>none</td>\n      <td>4</td>\n      <td>en</td>\n    </tr>\n    <tr>\n      <th>3518</th>\n      <td>070-599-494-045-64X</td>\n      <td>journal article</td>\n      <td>Measurements of the Electrical Incidence Angle...</td>\n      <td>Reflector edges, sharp acceptance angles and b...</td>\n      <td>none</td>\n      <td>2013</td>\n      <td>none</td>\n      <td>4</td>\n      <td>en</td>\n    </tr>\n    <tr>\n      <th>3623</th>\n      <td>088-661-577-038-646</td>\n      <td>report</td>\n      <td>PVT -- A photovoltaic/thermal concentrator tot...</td>\n      <td>United Solar completed its Phase 1 report and ...</td>\n      <td>none</td>\n      <td>1998</td>\n      <td>none</td>\n      <td>4</td>\n      <td>en</td>\n    </tr>\n    <tr>\n      <th>3723</th>\n      <td>111-864-894-650-371</td>\n      <td>journal article</td>\n      <td>Minimisation of the cost of generated electric...</td>\n      <td>Arrays of thin-film solar cells based on dye-s...</td>\n      <td>none</td>\n      <td>2005</td>\n      <td>none</td>\n      <td>4</td>\n      <td>en</td>\n    </tr>\n    <tr>\n      <th>3767</th>\n      <td>121-107-511-070-455</td>\n      <td>journal article</td>\n      <td>Calculation of Energy Flow and Carbon Credit E...</td>\n      <td>&lt;jats:p&gt;In the current paper, analysis has bee...</td>\n      <td>none</td>\n      <td>2019</td>\n      <td>none</td>\n      <td>4</td>\n      <td>en</td>\n    </tr>\n    <tr>\n      <th>3775</th>\n      <td>124-013-933-902-778</td>\n      <td>report</td>\n      <td>DOE Solar Energy Technologies Program FY 2006 ...</td>\n      <td>The DOE Solar Energy Technologies Program FY 2...</td>\n      <td>none</td>\n      <td>2007</td>\n      <td>none</td>\n      <td>4</td>\n      <td>en</td>\n    </tr>\n    <tr>\n      <th>3828</th>\n      <td>137-900-730-769-455</td>\n      <td>journal article</td>\n      <td>Multi-objective design optimization of a micro...</td>\n      <td>An optimization methodology for a microchannel...</td>\n      <td>none</td>\n      <td>2013</td>\n      <td>none</td>\n      <td>4</td>\n      <td>en</td>\n    </tr>\n    <tr>\n      <th>3925</th>\n      <td>169-894-027-599-522</td>\n      <td>component</td>\n      <td>none</td>\n      <td>&lt;p&gt;ILEs from &lt;i&gt;Passalora brachycarpa&lt;/i&gt; inse...</td>\n      <td>none</td>\n      <td>2018</td>\n      <td>none</td>\n      <td>4</td>\n      <td>en</td>\n    </tr>\n    <tr>\n      <th>4415</th>\n      <td>053-938-645-273-795</td>\n      <td>dissertation</td>\n      <td>A Prototype Of Propane Refrigerant Based ASHP ...</td>\n      <td>&lt;jats:p&gt;In recent years, an increased focus ha...</td>\n      <td>none</td>\n      <td>2021</td>\n      <td>none</td>\n      <td>4</td>\n      <td>en</td>\n    </tr>\n    <tr>\n      <th>4485</th>\n      <td>064-498-816-409-160</td>\n      <td>report</td>\n      <td>Photovoltaic systems concept study. Final report</td>\n      <td>The following appendices are included: economi...</td>\n      <td>none</td>\n      <td>1977</td>\n      <td>none</td>\n      <td>4</td>\n      <td>en</td>\n    </tr>\n    <tr>\n      <th>4527</th>\n      <td>070-310-294-386-642</td>\n      <td>journal article</td>\n      <td>Nanofluid-based optical filter optimization fo...</td>\n      <td>Optical filters are essential in a wide range ...</td>\n      <td>none</td>\n      <td>2012</td>\n      <td>none</td>\n      <td>4</td>\n      <td>en</td>\n    </tr>\n    <tr>\n      <th>4655</th>\n      <td>094-210-552-324-210</td>\n      <td>other</td>\n      <td>Detailed Modeling of  a Novel Photovoltaic The...</td>\n      <td>&lt;jats:p&gt;A domestic water heating system that c...</td>\n      <td>none</td>\n      <td>2021</td>\n      <td>none</td>\n      <td>4</td>\n      <td>en</td>\n    </tr>\n    <tr>\n      <th>4899</th>\n      <td>151-795-423-955-421</td>\n      <td>journal article</td>\n      <td>Exergetic performance of building attached pho...</td>\n      <td>###EgeUn###It is known that solar energy is am...</td>\n      <td>none</td>\n      <td>2019</td>\n      <td>none</td>\n      <td>4</td>\n      <td>en</td>\n    </tr>\n    <tr>\n      <th>4917</th>\n      <td>160-266-942-963-653</td>\n      <td>report</td>\n      <td>Low Cost Thin Film Building-Integrated Photovo...</td>\n      <td>The goal of the program is to develop 'LOW COS...</td>\n      <td>none</td>\n      <td>2012</td>\n      <td>none</td>\n      <td>4</td>\n      <td>en</td>\n    </tr>\n    <tr>\n      <th>5119</th>\n      <td>016-227-523-803-580</td>\n      <td>dissertation</td>\n      <td>Impact Of Building Integrated Photovoltaics (B...</td>\n      <td>&lt;jats:p&gt;Solar heat gains, heating, cooling and...</td>\n      <td>none</td>\n      <td>2021</td>\n      <td>none</td>\n      <td>4</td>\n      <td>en</td>\n    </tr>\n    <tr>\n      <th>5471</th>\n      <td>066-784-019-743-270</td>\n      <td>book chapter</td>\n      <td>Advantages and Basic Areas of Application of S...</td>\n      <td>&lt;jats:p&gt;In connection with the large-scale dev...</td>\n      <td>none</td>\n      <td>2021</td>\n      <td>none</td>\n      <td>4</td>\n      <td>en</td>\n    </tr>\n    <tr>\n      <th>5474</th>\n      <td>067-036-274-968-621</td>\n      <td>report</td>\n      <td>Projected Benefits of Federal Energy Efficienc...</td>\n      <td>This document summarizes the results of the be...</td>\n      <td>none</td>\n      <td>2007</td>\n      <td>none</td>\n      <td>4</td>\n      <td>en</td>\n    </tr>\n    <tr>\n      <th>5600</th>\n      <td>091-936-106-586-310</td>\n      <td>component</td>\n      <td>Upconversion-Assisted Dual-Band Luminescent So...</td>\n      <td>A luminescent solar concentrator\\n(LSC)-based ...</td>\n      <td>none</td>\n      <td>2020</td>\n      <td>none</td>\n      <td>4</td>\n      <td>en</td>\n    </tr>\n    <tr>\n      <th>5751</th>\n      <td>118-370-823-895-667</td>\n      <td>journal article</td>\n      <td>Comparison of oil and aluminum-based heat stor...</td>\n      <td>&lt;p&gt;The main objective of this thesis is to des...</td>\n      <td>none</td>\n      <td>2013</td>\n      <td>none</td>\n      <td>4</td>\n      <td>en</td>\n    </tr>\n    <tr>\n      <th>5771</th>\n      <td>121-416-810-719-882</td>\n      <td>journal article</td>\n      <td>Review on Energy and Exergy Analysis of Air an...</td>\n      <td>&lt;jats:p&gt;&amp;lt;p class=\"AEuroAbstract\"&amp;gt;In phot...</td>\n      <td>none</td>\n      <td>2018</td>\n      <td>none</td>\n      <td>4</td>\n      <td>en</td>\n    </tr>\n    <tr>\n      <th>5851</th>\n      <td>141-225-773-692-302</td>\n      <td>journal article</td>\n      <td>Effect of Transformational Leadership and Brea...</td>\n      <td>Purpose: The article investigates the impact o...</td>\n      <td>none</td>\n      <td>2020</td>\n      <td>none</td>\n      <td>4</td>\n      <td>en</td>\n    </tr>\n    <tr>\n      <th>6223</th>\n      <td>025-537-710-189-221</td>\n      <td>report</td>\n      <td>2008 Solar Technologies Market Report</td>\n      <td>This report focuses on the U.S. solar electric...</td>\n      <td>none</td>\n      <td>2010</td>\n      <td>none</td>\n      <td>4</td>\n      <td>en</td>\n    </tr>\n    <tr>\n      <th>6242</th>\n      <td>029-658-921-019-86X</td>\n      <td>dissertation</td>\n      <td>Impact Of Building Integrated Photovoltaics (B...</td>\n      <td>&lt;jats:p&gt;Solar heat gains, heating, cooling and...</td>\n      <td>none</td>\n      <td>2021</td>\n      <td>none</td>\n      <td>4</td>\n      <td>en</td>\n    </tr>\n    <tr>\n      <th>6304</th>\n      <td>039-048-615-569-809</td>\n      <td>journal article</td>\n      <td>Energy Communities Design Optimization in the ...</td>\n      <td>&lt;jats:p&gt;Energy communities (EC) are expected t...</td>\n      <td>none</td>\n      <td>2021</td>\n      <td>none</td>\n      <td>4</td>\n      <td>en</td>\n    </tr>\n    <tr>\n      <th>6380</th>\n      <td>049-960-827-242-769</td>\n      <td>conference proceedings article</td>\n      <td>The Influence of Convection on the Behaviour o...</td>\n      <td>status: publishe</td>\n      <td>none</td>\n      <td>2020</td>\n      <td>none</td>\n      <td>4</td>\n      <td>en</td>\n    </tr>\n    <tr>\n      <th>6531</th>\n      <td>074-414-721-845-033</td>\n      <td>dissertation</td>\n      <td>A Prototype Of Propane Refrigerant Based ASHP ...</td>\n      <td>&lt;jats:p&gt;In recent years, an increased focus ha...</td>\n      <td>none</td>\n      <td>2021</td>\n      <td>none</td>\n      <td>4</td>\n      <td>en</td>\n    </tr>\n    <tr>\n      <th>6611</th>\n      <td>091-315-484-428-537</td>\n      <td>other</td>\n      <td>Performance of Variable Flow Rates for Photovo...</td>\n      <td>&lt;jats:p&gt;A quasi-steady state model has been de...</td>\n      <td>none</td>\n      <td>2021</td>\n      <td>none</td>\n      <td>4</td>\n      <td>en</td>\n    </tr>\n    <tr>\n      <th>6732</th>\n      <td>119-632-988-688-870</td>\n      <td>report</td>\n      <td>Rooftop PV system. PV:BONUS Phase 3B, final te...</td>\n      <td>Under the PV:BONUS Program, ECD and United Sol...</td>\n      <td>none</td>\n      <td>1998</td>\n      <td>none</td>\n      <td>4</td>\n      <td>en</td>\n    </tr>\n    <tr>\n      <th>6805</th>\n      <td>136-008-750-908-439</td>\n      <td>other</td>\n      <td>Detailed Modeling of  a Novel Photovoltaic The...</td>\n      <td>&lt;jats:p&gt;A domestic water heating system that c...</td>\n      <td>none</td>\n      <td>2021</td>\n      <td>none</td>\n      <td>4</td>\n      <td>en</td>\n    </tr>\n  </tbody>\n</table>\n</div>"
          },
          "metadata": {}
        }
      ],
      "execution_count": 16,
      "metadata": {
        "collapsed": true,
        "jupyter": {
          "source_hidden": false,
          "outputs_hidden": false
        },
        "nteract": {
          "transient": {
            "deleting": false
          }
        },
        "execution": {
          "iopub.status.busy": "2021-07-18T15:59:03.401Z",
          "iopub.execute_input": "2021-07-18T15:59:03.407Z",
          "iopub.status.idle": "2021-07-18T15:59:03.475Z",
          "shell.execute_reply": "2021-07-18T15:59:03.480Z"
        }
      }
    },
    {
      "cell_type": "code",
      "source": [
        "df_en_ab_aff = df_en_ab['affiliation'].str.split('_',n=1,expand=True)\n",
        "\n",
        "# df_aff[df_aff[0]=='none']\n",
        "# df_aff.groupby(0).nunique()\n",
        "df_en_ab_aff['lens_id'] = df_en_ab_aff.index\n",
        "\n",
        "df_en_ab_aff[0].unique()\n"
      ],
      "outputs": [
        {
          "output_type": "execute_result",
          "execution_count": 18,
          "data": {
            "text/plain": "          0                                                  1  lens_id\n0       org      Visvesvaraya National Institute of Technology        0\n1       org                                   Hohai University        1\n2     magid                                         2967022221        2\n3       org  National Institute of Advanced Industrial Scie...        3\n4     magid                                         3016982341        4\n...     ...                                                ...      ...\n6944    org  Center of Science and Technology of Constructi...     6944\n6947  magid                                         2351658823     6947\n6949    org                    Dalian University of Technology     6949\n6950    org  Faculty of Technology, University of Msila, M'...     6950\n6952  magid                                         2630082286     6952\n\n[5155 rows x 3 columns]",
            "text/html": "<div>\n<style scoped>\n    .dataframe tbody tr th:only-of-type {\n        vertical-align: middle;\n    }\n\n    .dataframe tbody tr th {\n        vertical-align: top;\n    }\n\n    .dataframe thead th {\n        text-align: right;\n    }\n</style>\n<table border=\"1\" class=\"dataframe\">\n  <thead>\n    <tr style=\"text-align: right;\">\n      <th></th>\n      <th>0</th>\n      <th>1</th>\n      <th>lens_id</th>\n    </tr>\n  </thead>\n  <tbody>\n    <tr>\n      <th>0</th>\n      <td>org</td>\n      <td>Visvesvaraya National Institute of Technology</td>\n      <td>0</td>\n    </tr>\n    <tr>\n      <th>1</th>\n      <td>org</td>\n      <td>Hohai University</td>\n      <td>1</td>\n    </tr>\n    <tr>\n      <th>2</th>\n      <td>magid</td>\n      <td>2967022221</td>\n      <td>2</td>\n    </tr>\n    <tr>\n      <th>3</th>\n      <td>org</td>\n      <td>National Institute of Advanced Industrial Scie...</td>\n      <td>3</td>\n    </tr>\n    <tr>\n      <th>4</th>\n      <td>magid</td>\n      <td>3016982341</td>\n      <td>4</td>\n    </tr>\n    <tr>\n      <th>...</th>\n      <td>...</td>\n      <td>...</td>\n      <td>...</td>\n    </tr>\n    <tr>\n      <th>6944</th>\n      <td>org</td>\n      <td>Center of Science and Technology of Constructi...</td>\n      <td>6944</td>\n    </tr>\n    <tr>\n      <th>6947</th>\n      <td>magid</td>\n      <td>2351658823</td>\n      <td>6947</td>\n    </tr>\n    <tr>\n      <th>6949</th>\n      <td>org</td>\n      <td>Dalian University of Technology</td>\n      <td>6949</td>\n    </tr>\n    <tr>\n      <th>6950</th>\n      <td>org</td>\n      <td>Faculty of Technology, University of Msila, M'...</td>\n      <td>6950</td>\n    </tr>\n    <tr>\n      <th>6952</th>\n      <td>magid</td>\n      <td>2630082286</td>\n      <td>6952</td>\n    </tr>\n  </tbody>\n</table>\n<p>5155 rows × 3 columns</p>\n</div>"
          },
          "metadata": {}
        }
      ],
      "execution_count": 18,
      "metadata": {
        "collapsed": true,
        "jupyter": {
          "source_hidden": false,
          "outputs_hidden": false
        },
        "nteract": {
          "transient": {
            "deleting": false
          }
        },
        "execution": {
          "iopub.status.busy": "2021-07-18T15:59:31.620Z",
          "iopub.execute_input": "2021-07-18T15:59:31.629Z",
          "iopub.status.idle": "2021-07-18T15:59:31.677Z",
          "shell.execute_reply": "2021-07-18T15:59:31.688Z"
        }
      }
    },
    {
      "cell_type": "code",
      "source": [
        "def lookup_id(lensid, id_type, number):\n",
        "    print(f'{id_type} for {number} at {lensid}')\n",
        "    # time.sleep(0.5)\n",
        "    if id_type=='org':\n",
        "        return number\n",
        "    elif id_type=='none':\n",
        "        return number\n",
        "    else:\n",
        "        id_query = {\n",
        "            \n",
        "            \"query\": {\n",
        "                \"terms\":{\n",
        "                        \"author.{}\".format(id_type): [number]\n",
        "                }\n",
        "            }\n",
        "        }\n",
        "\n",
        "        headers = {'Authorization': token, 'Content-Type': 'application/json'}\n",
        "        response = requests.post(base_url, json=id_query, headers=headers)\n",
        "        if response.status_code == requests.codes.too_many_requests:\n",
        "            time.sleep(6)\n",
        "            print('Slowdown')\n",
        "            response = requests.post(base_url, json=id_query, headers=headers)\n",
        "            json_data = json.loads(response.text)\n",
        "        elif response.status_code != requests.codes.ok:\n",
        "            print(response.status_code)\n",
        "            pass\n",
        "        else:\n",
        "            json_data = json.loads(response.text)\n",
        "            # print(len(json_data['data']))\n",
        "\n",
        "        affil_list = []\n",
        "        \n",
        "        for entries, item in enumerate(json_data['data']):\n",
        "            for authors in json_data['data'][entries]['authors']:\n",
        "                if 'affiliations' in json_data['data'][entries]['authors'][0].keys():\n",
        "                    for author in json_data['data'][entries]['authors']:\n",
        "                        if 'ids' in author.keys():\n",
        "                            for id_num in author['ids']:\n",
        "                                if number in id_num['value']:\n",
        "                                    try:\n",
        "                                        affil = author['affiliations'][0]['name']\n",
        "                                        affil_list.append(affil)\n",
        "                                    except KeyError:\n",
        "                                        pass\n",
        "                else:\n",
        "                    affil_list.append('null')\n",
        "        if len(list(set(affil_list))) <= 1:\n",
        "            if len(affil_list)==0:\n",
        "                print('empty')\n",
        "                return 'null'\n",
        "            elif affil_list[0]=='null':\n",
        "                print('null')\n",
        "                return 'null'\n",
        "            else:\n",
        "                return affil_list[0]\n",
        "        else:\n",
        "            for item in list(set(affil_list)):\n",
        "                if item=='null':\n",
        "                    pass\n",
        "                else:\n",
        "                    print(item)\n",
        "                    return item"
      ],
      "outputs": [],
      "execution_count": 62,
      "metadata": {
        "collapsed": true,
        "jupyter": {
          "source_hidden": false,
          "outputs_hidden": false
        },
        "nteract": {
          "transient": {
            "deleting": false
          }
        },
        "execution": {
          "iopub.status.busy": "2021-07-07T12:13:45.962Z",
          "iopub.execute_input": "2021-07-07T12:13:45.975Z",
          "iopub.status.idle": "2021-07-07T12:13:45.988Z",
          "shell.execute_reply": "2021-07-07T12:13:45.994Z"
        }
      }
    },
    {
      "cell_type": "code",
      "source": [
        "lens_id = '175-607-973-713-996'\n",
        "id_type = 'orcid'\n",
        "number = '0000-0002-5467-3695'\n",
        "\n",
        "\n",
        "lookup_id(lens_id, id_type, number)"
      ],
      "outputs": [
        {
          "output_type": "stream",
          "name": "stdout",
          "text": [
            "orcid for 0000-0002-5467-3695 at 175-607-973-713-996\n",
            "Department of Management Sciences, Tamkang University, No. 151, Yingzhuan Rd., Danshui Dist. New Taipei City 25137, Taiwan, R.O.C.\n"
          ]
        },
        {
          "output_type": "execute_result",
          "execution_count": 63,
          "data": {
            "text/plain": "'Department of Management Sciences, Tamkang University, No. 151, Yingzhuan Rd., Danshui Dist. New Taipei City 25137, Taiwan, R.O.C.'"
          },
          "metadata": {}
        }
      ],
      "execution_count": 63,
      "metadata": {
        "collapsed": true,
        "jupyter": {
          "source_hidden": false,
          "outputs_hidden": false
        },
        "nteract": {
          "transient": {
            "deleting": false
          }
        },
        "execution": {
          "iopub.status.busy": "2021-07-07T12:13:55.534Z",
          "iopub.execute_input": "2021-07-07T12:13:55.543Z",
          "iopub.status.idle": "2021-07-07T12:13:56.757Z",
          "shell.execute_reply": "2021-07-07T12:13:56.778Z"
        }
      }
    },
    {
      "cell_type": "code",
      "source": [
        "# this takes awhile\n",
        "df_en_ab_aff['new'] = df_en_ab_aff.apply(lambda x: lookup_id(x['lens_id'], x[0], x[1]),axis=1)\n",
        "df_en_ab_aff"
      ],
      "outputs": [],
      "execution_count": null,
      "metadata": {
        "collapsed": true,
        "jupyter": {
          "source_hidden": false,
          "outputs_hidden": false
        },
        "nteract": {
          "transient": {
            "deleting": false
          }
        },
        "execution": {
          "iopub.status.busy": "2021-07-07T12:14:00.086Z",
          "iopub.execute_input": "2021-07-07T12:14:00.093Z",
          "iopub.status.idle": "2021-07-07T13:06:44.480Z",
          "shell.execute_reply": "2021-07-07T13:06:44.487Z"
        }
      }
    },
    {
      "cell_type": "code",
      "source": [
        "#save a temp copy just in case \n",
        "df_en_ab_aff_lite.to_csv('/Users/jmccarty/Desktop/lit_rev_affil.csv')"
      ],
      "outputs": [
        {
          "output_type": "execute_result",
          "execution_count": 106,
          "data": {
            "text/plain": "                              document_type  \\\nlens_id                                       \n000-057-840-270-546         journal article   \n000-147-571-289-722         journal article   \n000-161-854-690-277         journal article   \n000-214-866-666-676         journal article   \n000-408-566-376-234         journal article   \n...                                     ...   \n188-331-389-341-174         journal article   \n193-933-367-485-686         journal article   \n195-551-080-364-069         journal article   \n195-609-116-329-396  conference proceedings   \n197-071-818-948-205  conference proceedings   \n\n                                                                 title  \\\nlens_id                                                                  \n000-057-840-270-546  Photovoltaic -Thermal systems (PVT): Technolog...   \n000-147-571-289-722  The multi-objective capacity optimization of w...   \n000-161-854-690-277  Coloured BIPV Technologies: Methodological and...   \n000-214-866-666-676  Solar Tri-Generation: New Concept of Solar Ene...   \n000-408-566-376-234  Status of BIPV and BAPV System for Less Energy...   \n...                                                                ...   \n188-331-389-341-174  Numerical Investigation of the Air Flow in a N...   \n193-933-367-485-686  Discuss on related issues of Buiding Integrate...   \n195-551-080-364-069  Experimental Study of Photovoltaic/Thermal Sol...   \n195-609-116-329-396  SSD - A method for evaluating shading losses i...   \n197-071-818-948-205  Comparison of theory and experiment for photov...   \n\n                                                              abstract  \\\nlens_id                                                                  \n000-057-840-270-546  Abstract Combined solar photovoltaic-thermal s...   \n000-147-571-289-722  Abstract This paper proposes a wind-photovolta...   \n000-161-854-690-277  Energy flexibility in buildings is gaining mom...   \n000-214-866-666-676  It is general that each of the heat and electr...   \n000-408-566-376-234  <jats:p>The photovoltaic (PV) system is one of...   \n...                                                                ...   \n188-331-389-341-174  The natural ventilation in a novel built-in ph...   \n193-933-367-485-686  In recent years,the Buiding Integrated PV(BIPV...   \n195-551-080-364-069  A new type of photovoltaic/thermal(PV/T) was d...   \n195-609-116-329-396  This paper presents a simplified method for ev...   \n197-071-818-948-205  Detailed performance testing of an air and a l...   \n\n                                                           affiliation  \\\nlens_id                                                                  \n000-057-840-270-546  org_Visvesvaraya National Institute of Technology   \n000-147-571-289-722                               org_Hohai University   \n000-161-854-690-277                                   magid_2967022221   \n000-214-866-666-676  org_National Institute of Advanced Industrial ...   \n000-408-566-376-234                                   magid_3016982341   \n...                                                                ...   \n188-331-389-341-174                             org_Donghua University   \n193-933-367-485-686  org_Center of Science and Technology of Constr...   \n195-551-080-364-069                org_Dalian University of Technology   \n195-609-116-329-396  org_Faculty of Technology, University of Msila...   \n197-071-818-948-205                                   magid_2630082286   \n\n                     pub_year  \\\nlens_id                         \n000-057-840-270-546      2018   \n000-147-571-289-722      2020   \n000-161-854-690-277      2020   \n000-214-866-666-676      2003   \n000-408-566-376-234      2020   \n...                       ...   \n188-331-389-341-174      2014   \n193-933-367-485-686      2011   \n195-551-080-364-069      2012   \n195-609-116-329-396      2012   \n197-071-818-948-205      1980   \n\n                                                              keywords  \\\nlens_id                                                                  \n000-057-840-270-546  ['Engineering', 'Work (electrical)', 'Systems ...   \n000-147-571-289-722  ['Automotive engineering', 'Thermal energy sto...   \n000-161-854-690-277  ['Building-integrated photovoltaics', 'Environ...   \n000-214-866-666-676  ['Engineering', 'Solar air conditioning', 'Gri...   \n000-408-566-376-234  ['Building-integrated photovoltaics', 'Archite...   \n...                                                                ...   \n188-331-389-341-174  ['Airflow', 'Meteorology', 'Volumetric flow ra...   \n193-933-367-485-686  ['Building-integrated photovoltaics', 'Enginee...   \n195-551-080-364-069  ['Nuclear engineering', 'Engineering', 'Experi...   \n195-609-116-329-396  ['Building-integrated photovoltaics', 'Enginee...   \n197-071-818-948-205  ['Maximum power principle', 'Nuclear engineeri...   \n\n                     keywords_count language  \nlens_id                                       \n000-057-840-270-546               8       en  \n000-147-571-289-722              10       en  \n000-161-854-690-277              11       en  \n000-214-866-666-676              11       en  \n000-408-566-376-234               4       en  \n...                             ...      ...  \n188-331-389-341-174              11       en  \n193-933-367-485-686               8       en  \n195-551-080-364-069              11       en  \n195-609-116-329-396              10       en  \n197-071-818-948-205              11       en  \n\n[4256 rows x 8 columns]",
            "text/html": "<div>\n<style scoped>\n    .dataframe tbody tr th:only-of-type {\n        vertical-align: middle;\n    }\n\n    .dataframe tbody tr th {\n        vertical-align: top;\n    }\n\n    .dataframe thead th {\n        text-align: right;\n    }\n</style>\n<table border=\"1\" class=\"dataframe\">\n  <thead>\n    <tr style=\"text-align: right;\">\n      <th></th>\n      <th>document_type</th>\n      <th>title</th>\n      <th>abstract</th>\n      <th>affiliation</th>\n      <th>pub_year</th>\n      <th>keywords</th>\n      <th>keywords_count</th>\n      <th>language</th>\n    </tr>\n    <tr>\n      <th>lens_id</th>\n      <th></th>\n      <th></th>\n      <th></th>\n      <th></th>\n      <th></th>\n      <th></th>\n      <th></th>\n      <th></th>\n    </tr>\n  </thead>\n  <tbody>\n    <tr>\n      <th>000-057-840-270-546</th>\n      <td>journal article</td>\n      <td>Photovoltaic -Thermal systems (PVT): Technolog...</td>\n      <td>Abstract Combined solar photovoltaic-thermal s...</td>\n      <td>org_Visvesvaraya National Institute of Technology</td>\n      <td>2018</td>\n      <td>['Engineering', 'Work (electrical)', 'Systems ...</td>\n      <td>8</td>\n      <td>en</td>\n    </tr>\n    <tr>\n      <th>000-147-571-289-722</th>\n      <td>journal article</td>\n      <td>The multi-objective capacity optimization of w...</td>\n      <td>Abstract This paper proposes a wind-photovolta...</td>\n      <td>org_Hohai University</td>\n      <td>2020</td>\n      <td>['Automotive engineering', 'Thermal energy sto...</td>\n      <td>10</td>\n      <td>en</td>\n    </tr>\n    <tr>\n      <th>000-161-854-690-277</th>\n      <td>journal article</td>\n      <td>Coloured BIPV Technologies: Methodological and...</td>\n      <td>Energy flexibility in buildings is gaining mom...</td>\n      <td>magid_2967022221</td>\n      <td>2020</td>\n      <td>['Building-integrated photovoltaics', 'Environ...</td>\n      <td>11</td>\n      <td>en</td>\n    </tr>\n    <tr>\n      <th>000-214-866-666-676</th>\n      <td>journal article</td>\n      <td>Solar Tri-Generation: New Concept of Solar Ene...</td>\n      <td>It is general that each of the heat and electr...</td>\n      <td>org_National Institute of Advanced Industrial ...</td>\n      <td>2003</td>\n      <td>['Engineering', 'Solar air conditioning', 'Gri...</td>\n      <td>11</td>\n      <td>en</td>\n    </tr>\n    <tr>\n      <th>000-408-566-376-234</th>\n      <td>journal article</td>\n      <td>Status of BIPV and BAPV System for Less Energy...</td>\n      <td>&lt;jats:p&gt;The photovoltaic (PV) system is one of...</td>\n      <td>magid_3016982341</td>\n      <td>2020</td>\n      <td>['Building-integrated photovoltaics', 'Archite...</td>\n      <td>4</td>\n      <td>en</td>\n    </tr>\n    <tr>\n      <th>...</th>\n      <td>...</td>\n      <td>...</td>\n      <td>...</td>\n      <td>...</td>\n      <td>...</td>\n      <td>...</td>\n      <td>...</td>\n      <td>...</td>\n    </tr>\n    <tr>\n      <th>188-331-389-341-174</th>\n      <td>journal article</td>\n      <td>Numerical Investigation of the Air Flow in a N...</td>\n      <td>The natural ventilation in a novel built-in ph...</td>\n      <td>org_Donghua University</td>\n      <td>2014</td>\n      <td>['Airflow', 'Meteorology', 'Volumetric flow ra...</td>\n      <td>11</td>\n      <td>en</td>\n    </tr>\n    <tr>\n      <th>193-933-367-485-686</th>\n      <td>journal article</td>\n      <td>Discuss on related issues of Buiding Integrate...</td>\n      <td>In recent years,the Buiding Integrated PV(BIPV...</td>\n      <td>org_Center of Science and Technology of Constr...</td>\n      <td>2011</td>\n      <td>['Building-integrated photovoltaics', 'Enginee...</td>\n      <td>8</td>\n      <td>en</td>\n    </tr>\n    <tr>\n      <th>195-551-080-364-069</th>\n      <td>journal article</td>\n      <td>Experimental Study of Photovoltaic/Thermal Sol...</td>\n      <td>A new type of photovoltaic/thermal(PV/T) was d...</td>\n      <td>org_Dalian University of Technology</td>\n      <td>2012</td>\n      <td>['Nuclear engineering', 'Engineering', 'Experi...</td>\n      <td>11</td>\n      <td>en</td>\n    </tr>\n    <tr>\n      <th>195-609-116-329-396</th>\n      <td>conference proceedings</td>\n      <td>SSD - A method for evaluating shading losses i...</td>\n      <td>This paper presents a simplified method for ev...</td>\n      <td>org_Faculty of Technology, University of Msila...</td>\n      <td>2012</td>\n      <td>['Building-integrated photovoltaics', 'Enginee...</td>\n      <td>10</td>\n      <td>en</td>\n    </tr>\n    <tr>\n      <th>197-071-818-948-205</th>\n      <td>conference proceedings</td>\n      <td>Comparison of theory and experiment for photov...</td>\n      <td>Detailed performance testing of an air and a l...</td>\n      <td>magid_2630082286</td>\n      <td>1980</td>\n      <td>['Maximum power principle', 'Nuclear engineeri...</td>\n      <td>11</td>\n      <td>en</td>\n    </tr>\n  </tbody>\n</table>\n<p>4256 rows × 8 columns</p>\n</div>"
          },
          "metadata": {}
        }
      ],
      "execution_count": 106,
      "metadata": {
        "collapsed": true,
        "jupyter": {
          "source_hidden": false,
          "outputs_hidden": false
        },
        "nteract": {
          "transient": {
            "deleting": false
          }
        },
        "execution": {
          "iopub.status.busy": "2021-07-07T15:20:01.321Z",
          "iopub.execute_input": "2021-07-07T15:20:01.328Z",
          "iopub.status.idle": "2021-07-07T15:20:01.366Z",
          "shell.execute_reply": "2021-07-07T15:20:01.372Z"
        }
      }
    },
    {
      "cell_type": "code",
      "source": [
        "\n",
        "# df_aff_lite\n",
        "def create_affiliation_col(affil,new_affil):\n",
        "    if 'org_' in affil:\n",
        "        affiliation = affil.split('_',maxsplit=1)[1]\n",
        "        return affiliation\n",
        "    elif 'none' in affil:\n",
        "        return 'null'\n",
        "    else:\n",
        "        return new_affil\n",
        "    \n",
        "df_en_ab_aff['affiliation2'] = df_en_ab_aff.apply(lambda x: create_affiliation_col(x['affiliation'],x['new']),axis=1)\n",
        "df_en_ab_aff.sample(5)\n"
      ],
      "outputs": [
        {
          "output_type": "execute_result",
          "execution_count": 181,
          "data": {
            "text/plain": "                       document_type  \\\nlens_id                                \n027-264-431-719-973  journal article   \n019-345-868-881-206  journal article   \n002-020-135-983-456  journal article   \n028-603-238-273-420  journal article   \n078-153-924-061-135  journal article   \n\n                                                                 title  \\\nlens_id                                                                  \n027-264-431-719-973  Modeling and simulation of a photovoltaic/ther...   \n019-345-868-881-206  An Experimental Comparison of two Solar Photov...   \n002-020-135-983-456  Solar radiation transfer and performance analy...   \n028-603-238-273-420  Investigation on a spectral splitting photovol...   \n078-153-924-061-135  Near-neutral-colored semitransparent perovskit...   \n\n                                                              abstract  \\\nlens_id                                                                  \n027-264-431-719-973  Abstract Integration of photovoltaic/thermal a...   \n019-345-868-881-206  Two solar photovoltaic-thermal (PVT) energy co...   \n002-020-135-983-456  In this study, we investigated a concentrating...   \n028-603-238-273-420  The present work developed a spectral splittin...   \n078-153-924-061-135  Organo-lead-halide perovskite based solar cell...   \n\n                                             affiliation  pub_year  \\\nlens_id                                                              \n027-264-431-719-973   org_Concordia University Wisconsin      2017   \n019-345-868-881-206                     magid_1999290893      2012   \n002-020-135-983-456  org_Dalian University of Technology      2015   \n028-603-238-273-420                org_Tongji University      2016   \n078-153-924-061-135              org_Tsinghua University      2017   \n\n                                                              keywords  \\\nlens_id                                                                  \n027-264-431-719-973  ['Engineering', 'Heating element', 'Modeling a...   \n019-345-868-881-206  ['Solar mirror', 'Nuclear engineering', 'Solar...   \n002-020-135-983-456  ['Solar mirror', 'Solar air conditioning', 'Na...   \n028-603-238-273-420  ['Thermal energy', 'Work (thermodynamics)', 'M...   \n078-153-924-061-135  ['Etching (microfabrication)', 'Plasma etching...   \n\n                     keywords_count language      0           1  \\\nlens_id                                                           \n027-264-431-719-973              11       en    NaN         NaN   \n019-345-868-881-206              11       en  magid  1999290893   \n002-020-135-983-456              10       en    NaN         NaN   \n028-603-238-273-420              11       en    NaN         NaN   \n078-153-924-061-135              10       en    NaN         NaN   \n\n                                 lens_id                new  \\\nlens_id                                                       \n027-264-431-719-973                  NaN                NaN   \n019-345-868-881-206  019-345-868-881-206  Ulster University   \n002-020-135-983-456                  NaN                NaN   \n028-603-238-273-420                  NaN                NaN   \n078-153-924-061-135                  NaN                NaN   \n\n                                                        External URL  \\\nlens_id                                                                \n027-264-431-719-973  http://dx.doi.org/10.1016/j.enbuild.2017.05.045   \n019-345-868-881-206       http://dx.doi.org/10.5923/j.ep.20120204.01   \n002-020-135-983-456               http://dx.doi.org/10.1002/ep.12196   \n028-603-238-273-420   http://dx.doi.org/10.1016/j.renene.2015.08.080   \n078-153-924-061-135   http://dx.doi.org/10.1016/j.solmat.2016.10.035   \n\n                                        affiliation2  \nlens_id                                               \n027-264-431-719-973   Concordia University Wisconsin  \n019-345-868-881-206                Ulster University  \n002-020-135-983-456  Dalian University of Technology  \n028-603-238-273-420                Tongji University  \n078-153-924-061-135              Tsinghua University  ",
            "text/html": "<div>\n<style scoped>\n    .dataframe tbody tr th:only-of-type {\n        vertical-align: middle;\n    }\n\n    .dataframe tbody tr th {\n        vertical-align: top;\n    }\n\n    .dataframe thead th {\n        text-align: right;\n    }\n</style>\n<table border=\"1\" class=\"dataframe\">\n  <thead>\n    <tr style=\"text-align: right;\">\n      <th></th>\n      <th>document_type</th>\n      <th>title</th>\n      <th>abstract</th>\n      <th>affiliation</th>\n      <th>pub_year</th>\n      <th>keywords</th>\n      <th>keywords_count</th>\n      <th>language</th>\n      <th>0</th>\n      <th>1</th>\n      <th>lens_id</th>\n      <th>new</th>\n      <th>External URL</th>\n      <th>affiliation2</th>\n    </tr>\n    <tr>\n      <th>lens_id</th>\n      <th></th>\n      <th></th>\n      <th></th>\n      <th></th>\n      <th></th>\n      <th></th>\n      <th></th>\n      <th></th>\n      <th></th>\n      <th></th>\n      <th></th>\n      <th></th>\n      <th></th>\n      <th></th>\n    </tr>\n  </thead>\n  <tbody>\n    <tr>\n      <th>027-264-431-719-973</th>\n      <td>journal article</td>\n      <td>Modeling and simulation of a photovoltaic/ther...</td>\n      <td>Abstract Integration of photovoltaic/thermal a...</td>\n      <td>org_Concordia University Wisconsin</td>\n      <td>2017</td>\n      <td>['Engineering', 'Heating element', 'Modeling a...</td>\n      <td>11</td>\n      <td>en</td>\n      <td>NaN</td>\n      <td>NaN</td>\n      <td>NaN</td>\n      <td>NaN</td>\n      <td>http://dx.doi.org/10.1016/j.enbuild.2017.05.045</td>\n      <td>Concordia University Wisconsin</td>\n    </tr>\n    <tr>\n      <th>019-345-868-881-206</th>\n      <td>journal article</td>\n      <td>An Experimental Comparison of two Solar Photov...</td>\n      <td>Two solar photovoltaic-thermal (PVT) energy co...</td>\n      <td>magid_1999290893</td>\n      <td>2012</td>\n      <td>['Solar mirror', 'Nuclear engineering', 'Solar...</td>\n      <td>11</td>\n      <td>en</td>\n      <td>magid</td>\n      <td>1999290893</td>\n      <td>019-345-868-881-206</td>\n      <td>Ulster University</td>\n      <td>http://dx.doi.org/10.5923/j.ep.20120204.01</td>\n      <td>Ulster University</td>\n    </tr>\n    <tr>\n      <th>002-020-135-983-456</th>\n      <td>journal article</td>\n      <td>Solar radiation transfer and performance analy...</td>\n      <td>In this study, we investigated a concentrating...</td>\n      <td>org_Dalian University of Technology</td>\n      <td>2015</td>\n      <td>['Solar mirror', 'Solar air conditioning', 'Na...</td>\n      <td>10</td>\n      <td>en</td>\n      <td>NaN</td>\n      <td>NaN</td>\n      <td>NaN</td>\n      <td>NaN</td>\n      <td>http://dx.doi.org/10.1002/ep.12196</td>\n      <td>Dalian University of Technology</td>\n    </tr>\n    <tr>\n      <th>028-603-238-273-420</th>\n      <td>journal article</td>\n      <td>Investigation on a spectral splitting photovol...</td>\n      <td>The present work developed a spectral splittin...</td>\n      <td>org_Tongji University</td>\n      <td>2016</td>\n      <td>['Thermal energy', 'Work (thermodynamics)', 'M...</td>\n      <td>11</td>\n      <td>en</td>\n      <td>NaN</td>\n      <td>NaN</td>\n      <td>NaN</td>\n      <td>NaN</td>\n      <td>http://dx.doi.org/10.1016/j.renene.2015.08.080</td>\n      <td>Tongji University</td>\n    </tr>\n    <tr>\n      <th>078-153-924-061-135</th>\n      <td>journal article</td>\n      <td>Near-neutral-colored semitransparent perovskit...</td>\n      <td>Organo-lead-halide perovskite based solar cell...</td>\n      <td>org_Tsinghua University</td>\n      <td>2017</td>\n      <td>['Etching (microfabrication)', 'Plasma etching...</td>\n      <td>10</td>\n      <td>en</td>\n      <td>NaN</td>\n      <td>NaN</td>\n      <td>NaN</td>\n      <td>NaN</td>\n      <td>http://dx.doi.org/10.1016/j.solmat.2016.10.035</td>\n      <td>Tsinghua University</td>\n    </tr>\n  </tbody>\n</table>\n</div>"
          },
          "metadata": {}
        }
      ],
      "execution_count": 181,
      "metadata": {
        "collapsed": true,
        "jupyter": {
          "source_hidden": false,
          "outputs_hidden": false
        },
        "nteract": {
          "transient": {
            "deleting": false
          }
        },
        "execution": {
          "iopub.status.busy": "2021-07-07T16:41:44.912Z",
          "iopub.execute_input": "2021-07-07T16:41:44.920Z",
          "iopub.status.idle": "2021-07-07T16:41:44.958Z",
          "shell.execute_reply": "2021-07-07T16:41:44.973Z"
        }
      }
    },
    {
      "cell_type": "markdown",
      "source": [
        "### Export Final File\n",
        " - cleanup naming\n",
        " - save to csv"
      ],
      "metadata": {
        "nteract": {
          "transient": {
            "deleting": false
          }
        }
      }
    },
    {
      "cell_type": "code",
      "source": [
        "columns = ['document_type',\n",
        "            'title',\n",
        "            'abstract',\n",
        "            'affiliation2',\n",
        "            'pub_year',\n",
        "            'keywords',\n",
        "            'External URL']\n",
        "final_df = new_df[columns].copy()\n",
        "final_df = final_df.rename(columns={'affiliation2':'affiliation',\n",
        "                                    'pub_year':'year',\n",
        "                                    'document_type':'type',\n",
        "                                    'External URL':'source'})\n",
        "\n",
        "# some abstract had either the word Abstract or an html tag <jats:p> in them\n",
        "final_df['abstract'] = final_df['abstract'].str.replace('Abstract', '')\n",
        "final_df['abstract'] = final_df['abstract'].str.replace('<jats:p>', '')\n",
        "final_df\n",
        "\n"
      ],
      "outputs": [
        {
          "output_type": "execute_result",
          "execution_count": 186,
          "data": {
            "text/plain": "                                       type  \\\nlens_id                                       \n000-057-840-270-546         journal article   \n000-147-571-289-722         journal article   \n000-161-854-690-277         journal article   \n000-214-866-666-676         journal article   \n000-408-566-376-234         journal article   \n...                                     ...   \n188-331-389-341-174         journal article   \n193-933-367-485-686         journal article   \n195-551-080-364-069         journal article   \n195-609-116-329-396  conference proceedings   \n197-071-818-948-205  conference proceedings   \n\n                                                                 title  \\\nlens_id                                                                  \n000-057-840-270-546  Photovoltaic -Thermal systems (PVT): Technolog...   \n000-147-571-289-722  The multi-objective capacity optimization of w...   \n000-161-854-690-277  Coloured BIPV Technologies: Methodological and...   \n000-214-866-666-676  Solar Tri-Generation: New Concept of Solar Ene...   \n000-408-566-376-234  Status of BIPV and BAPV System for Less Energy...   \n...                                                                ...   \n188-331-389-341-174  Numerical Investigation of the Air Flow in a N...   \n193-933-367-485-686  Discuss on related issues of Buiding Integrate...   \n195-551-080-364-069  Experimental Study of Photovoltaic/Thermal Sol...   \n195-609-116-329-396  SSD - A method for evaluating shading losses i...   \n197-071-818-948-205  Comparison of theory and experiment for photov...   \n\n                                                              abstract  \\\nlens_id                                                                  \n000-057-840-270-546   Combined solar photovoltaic-thermal systems (...   \n000-147-571-289-722   This paper proposes a wind-photovoltaic-therm...   \n000-161-854-690-277  Energy flexibility in buildings is gaining mom...   \n000-214-866-666-676  It is general that each of the heat and electr...   \n000-408-566-376-234  The photovoltaic (PV) system is one of the mos...   \n...                                                                ...   \n188-331-389-341-174  The natural ventilation in a novel built-in ph...   \n193-933-367-485-686  In recent years,the Buiding Integrated PV(BIPV...   \n195-551-080-364-069  A new type of photovoltaic/thermal(PV/T) was d...   \n195-609-116-329-396  This paper presents a simplified method for ev...   \n197-071-818-948-205  Detailed performance testing of an air and a l...   \n\n                                                           affiliation  year  \\\nlens_id                                                                        \n000-057-840-270-546      Visvesvaraya National Institute of Technology  2018   \n000-147-571-289-722                                   Hohai University  2020   \n000-161-854-690-277                    Polytechnic University of Milan  2020   \n000-214-866-666-676  National Institute of Advanced Industrial Scie...  2003   \n000-408-566-376-234                                               null  2020   \n...                                                                ...   ...   \n188-331-389-341-174                                 Donghua University  2014   \n193-933-367-485-686  Center of Science and Technology of Constructi...  2011   \n195-551-080-364-069                    Dalian University of Technology  2012   \n195-609-116-329-396  Faculty of Technology, University of Msila, M'...  2012   \n197-071-818-948-205                                               null  1980   \n\n                                                              keywords  \\\nlens_id                                                                  \n000-057-840-270-546  ['Engineering', 'Work (electrical)', 'Systems ...   \n000-147-571-289-722  ['Automotive engineering', 'Thermal energy sto...   \n000-161-854-690-277  ['Building-integrated photovoltaics', 'Environ...   \n000-214-866-666-676  ['Engineering', 'Solar air conditioning', 'Gri...   \n000-408-566-376-234  ['Building-integrated photovoltaics', 'Archite...   \n...                                                                ...   \n188-331-389-341-174  ['Airflow', 'Meteorology', 'Volumetric flow ra...   \n193-933-367-485-686  ['Building-integrated photovoltaics', 'Enginee...   \n195-551-080-364-069  ['Nuclear engineering', 'Engineering', 'Experi...   \n195-609-116-329-396  ['Building-integrated photovoltaics', 'Enginee...   \n197-071-818-948-205  ['Maximum power principle', 'Nuclear engineeri...   \n\n                                                                source  \nlens_id                                                                 \n000-057-840-270-546       http://dx.doi.org/10.1016/j.rser.2018.04.067  \n000-147-571-289-722    http://dx.doi.org/10.1016/j.solener.2019.11.063  \n000-161-854-690-277               http://dx.doi.org/10.3390/en13174506  \n000-214-866-666-676           http://dx.doi.org/10.1115/isec2003-44218  \n000-408-566-376-234              http://dx.doi.org/10.3390/app10072337  \n...                                                                ...  \n188-331-389-341-174                                                NaN  \n193-933-367-485-686  https://en.cnki.com.cn/Article_en/CJFDTOTAL-NC...  \n195-551-080-364-069  https://en.cnki.com.cn/Article_en/CJFDTOTAL-JZ...  \n195-609-116-329-396         http://dx.doi.org/10.1109/ssd.2012.6198070  \n197-071-818-948-205  http://www.osti.gov/scitech/biblio/5666552-com...  \n\n[4256 rows x 7 columns]",
            "text/html": "<div>\n<style scoped>\n    .dataframe tbody tr th:only-of-type {\n        vertical-align: middle;\n    }\n\n    .dataframe tbody tr th {\n        vertical-align: top;\n    }\n\n    .dataframe thead th {\n        text-align: right;\n    }\n</style>\n<table border=\"1\" class=\"dataframe\">\n  <thead>\n    <tr style=\"text-align: right;\">\n      <th></th>\n      <th>type</th>\n      <th>title</th>\n      <th>abstract</th>\n      <th>affiliation</th>\n      <th>year</th>\n      <th>keywords</th>\n      <th>source</th>\n    </tr>\n    <tr>\n      <th>lens_id</th>\n      <th></th>\n      <th></th>\n      <th></th>\n      <th></th>\n      <th></th>\n      <th></th>\n      <th></th>\n    </tr>\n  </thead>\n  <tbody>\n    <tr>\n      <th>000-057-840-270-546</th>\n      <td>journal article</td>\n      <td>Photovoltaic -Thermal systems (PVT): Technolog...</td>\n      <td>Combined solar photovoltaic-thermal systems (...</td>\n      <td>Visvesvaraya National Institute of Technology</td>\n      <td>2018</td>\n      <td>['Engineering', 'Work (electrical)', 'Systems ...</td>\n      <td>http://dx.doi.org/10.1016/j.rser.2018.04.067</td>\n    </tr>\n    <tr>\n      <th>000-147-571-289-722</th>\n      <td>journal article</td>\n      <td>The multi-objective capacity optimization of w...</td>\n      <td>This paper proposes a wind-photovoltaic-therm...</td>\n      <td>Hohai University</td>\n      <td>2020</td>\n      <td>['Automotive engineering', 'Thermal energy sto...</td>\n      <td>http://dx.doi.org/10.1016/j.solener.2019.11.063</td>\n    </tr>\n    <tr>\n      <th>000-161-854-690-277</th>\n      <td>journal article</td>\n      <td>Coloured BIPV Technologies: Methodological and...</td>\n      <td>Energy flexibility in buildings is gaining mom...</td>\n      <td>Polytechnic University of Milan</td>\n      <td>2020</td>\n      <td>['Building-integrated photovoltaics', 'Environ...</td>\n      <td>http://dx.doi.org/10.3390/en13174506</td>\n    </tr>\n    <tr>\n      <th>000-214-866-666-676</th>\n      <td>journal article</td>\n      <td>Solar Tri-Generation: New Concept of Solar Ene...</td>\n      <td>It is general that each of the heat and electr...</td>\n      <td>National Institute of Advanced Industrial Scie...</td>\n      <td>2003</td>\n      <td>['Engineering', 'Solar air conditioning', 'Gri...</td>\n      <td>http://dx.doi.org/10.1115/isec2003-44218</td>\n    </tr>\n    <tr>\n      <th>000-408-566-376-234</th>\n      <td>journal article</td>\n      <td>Status of BIPV and BAPV System for Less Energy...</td>\n      <td>The photovoltaic (PV) system is one of the mos...</td>\n      <td>null</td>\n      <td>2020</td>\n      <td>['Building-integrated photovoltaics', 'Archite...</td>\n      <td>http://dx.doi.org/10.3390/app10072337</td>\n    </tr>\n    <tr>\n      <th>...</th>\n      <td>...</td>\n      <td>...</td>\n      <td>...</td>\n      <td>...</td>\n      <td>...</td>\n      <td>...</td>\n      <td>...</td>\n    </tr>\n    <tr>\n      <th>188-331-389-341-174</th>\n      <td>journal article</td>\n      <td>Numerical Investigation of the Air Flow in a N...</td>\n      <td>The natural ventilation in a novel built-in ph...</td>\n      <td>Donghua University</td>\n      <td>2014</td>\n      <td>['Airflow', 'Meteorology', 'Volumetric flow ra...</td>\n      <td>NaN</td>\n    </tr>\n    <tr>\n      <th>193-933-367-485-686</th>\n      <td>journal article</td>\n      <td>Discuss on related issues of Buiding Integrate...</td>\n      <td>In recent years,the Buiding Integrated PV(BIPV...</td>\n      <td>Center of Science and Technology of Constructi...</td>\n      <td>2011</td>\n      <td>['Building-integrated photovoltaics', 'Enginee...</td>\n      <td>https://en.cnki.com.cn/Article_en/CJFDTOTAL-NC...</td>\n    </tr>\n    <tr>\n      <th>195-551-080-364-069</th>\n      <td>journal article</td>\n      <td>Experimental Study of Photovoltaic/Thermal Sol...</td>\n      <td>A new type of photovoltaic/thermal(PV/T) was d...</td>\n      <td>Dalian University of Technology</td>\n      <td>2012</td>\n      <td>['Nuclear engineering', 'Engineering', 'Experi...</td>\n      <td>https://en.cnki.com.cn/Article_en/CJFDTOTAL-JZ...</td>\n    </tr>\n    <tr>\n      <th>195-609-116-329-396</th>\n      <td>conference proceedings</td>\n      <td>SSD - A method for evaluating shading losses i...</td>\n      <td>This paper presents a simplified method for ev...</td>\n      <td>Faculty of Technology, University of Msila, M'...</td>\n      <td>2012</td>\n      <td>['Building-integrated photovoltaics', 'Enginee...</td>\n      <td>http://dx.doi.org/10.1109/ssd.2012.6198070</td>\n    </tr>\n    <tr>\n      <th>197-071-818-948-205</th>\n      <td>conference proceedings</td>\n      <td>Comparison of theory and experiment for photov...</td>\n      <td>Detailed performance testing of an air and a l...</td>\n      <td>null</td>\n      <td>1980</td>\n      <td>['Maximum power principle', 'Nuclear engineeri...</td>\n      <td>http://www.osti.gov/scitech/biblio/5666552-com...</td>\n    </tr>\n  </tbody>\n</table>\n<p>4256 rows × 7 columns</p>\n</div>"
          },
          "metadata": {}
        }
      ],
      "execution_count": 186,
      "metadata": {
        "collapsed": true,
        "jupyter": {
          "source_hidden": false,
          "outputs_hidden": false
        },
        "nteract": {
          "transient": {
            "deleting": false
          }
        },
        "execution": {
          "iopub.status.busy": "2021-07-07T16:49:36.718Z",
          "iopub.execute_input": "2021-07-07T16:49:36.725Z",
          "iopub.status.idle": "2021-07-07T16:49:36.874Z",
          "shell.execute_reply": "2021-07-07T16:49:36.879Z"
        }
      }
    },
    {
      "cell_type": "code",
      "source": [
        "# save dataset to file\n",
        "final_df.to_csv('/Users/jmccarty/GitHub/urban_bipv_annotated_bib/data/lit_dataset_clean.csv')"
      ],
      "outputs": [],
      "execution_count": 187,
      "metadata": {
        "collapsed": true,
        "jupyter": {
          "source_hidden": false,
          "outputs_hidden": false
        },
        "nteract": {
          "transient": {
            "deleting": false
          }
        },
        "execution": {
          "iopub.status.busy": "2021-07-07T16:50:05.362Z",
          "iopub.execute_input": "2021-07-07T16:50:05.371Z",
          "iopub.status.idle": "2021-07-07T16:50:05.430Z",
          "shell.execute_reply": "2021-07-07T16:50:05.441Z"
        }
      }
    }
  ],
  "metadata": {
    "kernel_info": {
      "name": "nteract"
    },
    "language_info": {
      "name": "python",
      "version": "3.9.5",
      "mimetype": "text/x-python",
      "codemirror_mode": {
        "name": "ipython",
        "version": 3
      },
      "pygments_lexer": "ipython3",
      "nbconvert_exporter": "python",
      "file_extension": ".py"
    },
    "kernelspec": {
      "argv": [
        "/opt/homebrew/Caskroom/miniforge/base/envs/nteract/bin/python",
        "-m",
        "ipykernel_launcher",
        "-f",
        "{connection_file}"
      ],
      "display_name": "nteract",
      "language": "python",
      "name": "nteract"
    },
    "nteract": {
      "version": "0.28.0"
    }
  },
  "nbformat": 4,
  "nbformat_minor": 0
}