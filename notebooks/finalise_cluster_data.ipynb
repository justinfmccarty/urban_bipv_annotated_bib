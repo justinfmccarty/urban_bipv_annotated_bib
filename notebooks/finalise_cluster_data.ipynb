{
 "cells": [
  {
   "cell_type": "code",
   "execution_count": null,
   "id": "e94d1c19-78a9-4039-899c-39a23d7ab442",
   "metadata": {},
   "outputs": [],
   "source": [
    "# waiting for the lens API so will use the old data and manually clean what is being added to it"
   ]
  },
  {
   "cell_type": "code",
   "execution_count": 269,
   "id": "32a7887b-5445-4a4b-be2d-f0c03125a793",
   "metadata": {},
   "outputs": [],
   "source": [
    "import pandas as pd\n",
    "from tqdm import tqdm\n",
    "tqdm.pandas()\n",
    "import requests\n",
    "import os \n",
    "import numpy as np\n",
    "os.chdir('/Users/jmccarty/GitHub/urban_bipv_annotated_bib')\n"
   ]
  },
  {
   "cell_type": "code",
   "execution_count": 208,
   "id": "86fc229f-6e37-4a48-95c6-286d215ff18c",
   "metadata": {},
   "outputs": [],
   "source": [
    "# original data from lens query with the remove columns\n",
    "orig_data = pd.read_csv('/Users/jmccarty/GitHub/urban_bipv_annotated_bib/data/raw_query_manual_clean.csv',index_col=0)\n",
    "orig_data['Remove'] = orig_data['Remove'].fillna(False)\n",
    "orig_data['data_source'] = 'Long'\n",
    "\n",
    "\n",
    "# original data from lens query without the removed column but with language data\n",
    "orig_data_lang = pd.read_csv('/Users/jmccarty/GitHub/urban_bipv_annotated_bib/data/archive/lit_dataset_all.csv',index_col=0)\n",
    "\n",
    "# orig data from lens query with affiliation and has been filtered but no language\n",
    "orig_data_filt = pd.read_csv('/Users/jmccarty/GitHub/urban_bipv_annotated_bib/data/clean_affiliated_filtered.csv',index_col=0)\n",
    "id_keep_list = orig_data_filt.index.tolist()\n",
    "\n",
    "# the list of IDs that I want to keep after removing thermal from the query\n",
    "short_query = pd.read_csv('/Users/jmccarty/GitHub/urban_bipv_annotated_bib/data/raw_query_short.csv',index_col=0)\n",
    "new_id_keep_list = short_query.index.tolist()\n",
    "\n",
    "\n",
    "# data = orig_data_lang[orig_data_lang.index.isin(id_keep_list)==True]\n",
    "# orig_data_filt['language'] = data['language']\n",
    "\n",
    "\n",
    "\n"
   ]
  },
  {
   "cell_type": "code",
   "execution_count": null,
   "id": "93620a81-9633-47b0-97e5-4057d79739a7",
   "metadata": {},
   "outputs": [],
   "source": [
    "# first filter the original query for the items we want from the short query\n",
    "df = orig_data[orig_data.index.isin(new_id_keep_list)==True].copy()\n",
    "\n",
    "df['Publication Type'] = df['Publication Type'].fillna('None')\n",
    "df.shape"
   ]
  },
  {
   "cell_type": "code",
   "execution_count": null,
   "id": "01e74af6-3e3f-42ec-bb8a-922eb613cdd7",
   "metadata": {},
   "outputs": [],
   "source": [
    "# next add the missing items; the new items in the short query back in\n",
    "# there are some in the shortlist that are not in the long list but should be kept...\n",
    "# print titles to review whether they are relevant or not like I did in the manual cleaning step\n",
    "data_missing = short_query[short_query.index.isin(orig_data.index.tolist())==False].copy()\n",
    "\n",
    "# for title in data_missing.Title.tolist():\n",
    "#     print(f'--> {title}')\n",
    "# for idx in data_missing.index.tolist():\n",
    "#     print(f'--> {idx}')\n",
    "for ii in list(range(0,len(data_missing))):\n",
    "    print(f'--> LensID: {data_missing.iloc[ii].name}')\n",
    "    print(data_missing.iloc[ii].Title)"
   ]
  },
  {
   "cell_type": "code",
   "execution_count": null,
   "id": "bed95cfa-8c74-4eef-a737-c73f055ecc83",
   "metadata": {},
   "outputs": [],
   "source": [
    "# check the print out to see if you want to remove any of those based on general relevance\n",
    "data_missing = data_missing.drop(index='105-717-334-856-892')\n",
    "\n",
    "# add a remove and data_source field to match the shape of the full df\n",
    "data_missing['Remove'] = False\n",
    "data_missing['data_source'] = 'Short'\n",
    "\n",
    "# combine them\n",
    "df_short = pd.concat([df,data_missing])"
   ]
  },
  {
   "cell_type": "code",
   "execution_count": null,
   "id": "67ecc16f-f5e4-4287-a5ea-b62ad27860da",
   "metadata": {},
   "outputs": [],
   "source": [
    "# now we need to grab the language field that was created and add it to the dataset\n",
    "corpus_items = df.index.tolist()\n",
    "lang_df = orig_data_lang[orig_data_lang.index.isin(corpus_items)==True]['language']\n",
    "df_short = df_short.join(lang_df)\n"
   ]
  },
  {
   "cell_type": "code",
   "execution_count": null,
   "id": "57363fa0-0c38-4aec-9630-1497e217dab0",
   "metadata": {},
   "outputs": [],
   "source": [
    "# save it out to add language to the newly added items\n",
    "# be sure to skip the items from the Long dataset\n",
    "df_short.to_csv(os.path.join(os.getcwd(),'data','manual_edits','cluster_data_missingLang.csv'))"
   ]
  },
  {
   "cell_type": "code",
   "execution_count": null,
   "id": "d18490ef-83db-4634-894f-54cd87e036ce",
   "metadata": {},
   "outputs": [],
   "source": [
    "# after adding the languages bring it back\n",
    "df_short_lang = pd.read_csv(os.path.join(os.getcwd(),'data','manual_edits','cluster_data_addedLang.csv'))\n",
    "df_short_lang.head()"
   ]
  },
  {
   "cell_type": "code",
   "execution_count": null,
   "id": "2d5ae0f0-c33a-4088-ad4e-bb9b29046222",
   "metadata": {},
   "outputs": [],
   "source": [
    "# now we move the filtering\n",
    "# RELEVANCE\n",
    "\n",
    "df_short_lang_rel = df_short_lang[df_short_lang['Remove']==False]\n",
    "\n",
    "\n",
    "print(f'Original shape was {df_short_lang.shape}')\n",
    "print(f'New shape is {df_short_lang_rel.shape}')\n",
    "\n",
    "irrel = len(df_short_lang) - len(df_short_lang_rel)\n",
    "print(f'Total irrelevant items in corpus: {irrel}')\n"
   ]
  },
  {
   "cell_type": "code",
   "execution_count": null,
   "id": "b2bdbdd0-d814-4fdc-8ba9-17ef0eeb4c55",
   "metadata": {},
   "outputs": [],
   "source": [
    "# LANGUAGE\n",
    "\n",
    "pd.value_counts(df_short_lang_rel['language']).plot.bar()\n",
    "\n",
    "df_short_lang_rel_en = df_short_lang_rel[df_short_lang_rel['language']=='en']\n",
    "\n",
    "non_en = len(df_short_lang_rel) - len(df_short_lang_rel_en)\n",
    "print(f'Total nonenglish items in corpus: {non_en}')\n",
    "print(df_short_lang_rel.groupby('language')['Lens ID'].nunique().sort_values())\n",
    "\n"
   ]
  },
  {
   "cell_type": "code",
   "execution_count": null,
   "id": "ed671b9e-0024-4553-931c-cb4aa1ad4758",
   "metadata": {},
   "outputs": [],
   "source": [
    "# ABSTRACT\n",
    "\n",
    "df_short_lang_rel_en_ab = df_short_lang_rel_en[~df_short_lang_rel_en['Abstract'].isnull()]\n",
    "\n",
    "no_ab = len(df_short_lang_rel_en) - len(df_short_lang_rel_en_ab)\n",
    "print(f'Total no abstract items in corpus: {no_ab}')\n"
   ]
  },
  {
   "cell_type": "code",
   "execution_count": null,
   "id": "5eb08a42-da6d-470d-afec-b0e86848cb78",
   "metadata": {},
   "outputs": [],
   "source": [
    "# TITLES\n",
    "\n",
    "df_short_lang_rel_en_ab_ti = df_short_lang_rel_en_ab[~df_short_lang_rel_en_ab['Title'].isnull()]\n",
    "\n",
    "no_ti = len(df_short_lang_rel_en_ab) - len(df_short_lang_rel_en_ab_ti)\n",
    "print(f'Total no abstract items in corpus: {no_ti}')\n",
    "\n"
   ]
  },
  {
   "cell_type": "code",
   "execution_count": null,
   "id": "4354322b-64f5-4cb8-a411-48689d20ba4f",
   "metadata": {},
   "outputs": [],
   "source": [
    "# EXTERNAL URL\n",
    "\n",
    "df_short_lang_rel_en_ab_ti_url = df_short_lang_rel_en_ab_ti[~df_short_lang_rel_en_ab_ti['External URL'].isnull()].copy()\n",
    "\n",
    "no_url = len(df_short_lang_rel_en_ab_ti) - len(df_short_lang_rel_en_ab_ti_url)\n",
    "print(f'Total no URL items in corpus: {no_url}')\n",
    "\n",
    "\n"
   ]
  },
  {
   "cell_type": "code",
   "execution_count": null,
   "id": "e0d1f190-f914-4660-a329-82d055b07864",
   "metadata": {},
   "outputs": [],
   "source": [
    "df_short_lang_rel_en_ab_ti_url['Publication Type'].unique()"
   ]
  },
  {
   "cell_type": "code",
   "execution_count": null,
   "id": "916d4596-641d-4495-b9f4-a92860280675",
   "metadata": {},
   "outputs": [],
   "source": [
    "# EXTERNAL URL BAD\n",
    "# This takes awhile to run\n",
    "def check_url(url,pub_type):\n",
    "    if pub_type=='None':\n",
    "        try:\n",
    "            req = requests.get(url, stream=True).status_code\n",
    "        except:\n",
    "            req = 'Fail' \n",
    "        return req\n",
    "    else:\n",
    "        return 'Pass'\n",
    "\n",
    "df_short_lang_rel_en_ab_ti_url['status'] = df_short_lang_rel_en_ab_ti_url.apply(lambda x: check_url(x['External URL'],\n",
    "                                                                                                   x['Publication Type']),axis=1)"
   ]
  },
  {
   "cell_type": "code",
   "execution_count": null,
   "id": "67afb8a9-2a31-4064-8f33-637e5c29b36a",
   "metadata": {},
   "outputs": [],
   "source": [
    "# TITLE DUPLICATES\n",
    "# keep last (maybe a correction occured)\n",
    "\n",
    "\n",
    "df_short_lang_rel_en_ab_ti_url_dup = df_short_lang_rel_en_ab_ti_url[~df_short_lang_rel_en_ab_ti_url['Title'].str.lower().duplicated(keep='last')].copy()\n",
    "\n",
    "no_dup = len(df_short_lang_rel_en_ab_ti_url) - len(df_short_lang_rel_en_ab_ti_url_dup)\n",
    "print(f'Total duplicated items removed from corpus: {no_dup}')\n",
    "\n",
    "df_short_lang_rel_en_ab_ti_url_dup['Publication Type'].unique()"
   ]
  },
  {
   "cell_type": "code",
   "execution_count": null,
   "id": "64d478ed-e99c-4843-985f-c7fb881c6db5",
   "metadata": {},
   "outputs": [],
   "source": [
    "# FILL PUBLICATION TYPES\n",
    "# grabbed the missing items and found them with Zotero \n",
    "# using the Zotero JS client I was able to download the majority of them from External URL and get missing fields\n",
    "# now load those datasets and add them to the df\n",
    "\n",
    "df_zotero = pd.read_csv(os.path.join(os.getcwd(),'data','manual_edits','zotero_links.csv'))\n",
    "\n",
    "zot_title_list = df_zotero['Title'].values.tolist()\n",
    "zot_title_list_lower = df_zotero['Title'].str.lower().values.tolist()\n",
    "\n",
    "\n",
    "def matchinlist(name,orig_type,zot_list_lower,df_zot):\n",
    "    if orig_type=='None':\n",
    "        if name.lower() in zot_list_lower:\n",
    "            entry = df_zot[df_zot['Title']==name]['Item Type'].values.tolist()\n",
    "            if len(entry)==0:\n",
    "                pass\n",
    "            else:\n",
    "                return correctzotnames(entry[0])\n",
    "        else:\n",
    "            pass\n",
    "    else:\n",
    "        return orig_type\n",
    "        \n",
    "def correctzotnames(types):\n",
    "    if types=='conferencePaper':\n",
    "        return 'conference proceedings'\n",
    "    elif types=='journalArticle':\n",
    "        return 'journal article'\n",
    "    elif types=='report':\n",
    "        return 'report'\n",
    "    elif types=='webpage':\n",
    "        return 'webpage'\n",
    "    elif types=='book':\n",
    "        return 'book'\n",
    "    elif types=='bookSection':\n",
    "        return 'book chapter'\n",
    "    elif types=='presentation':\n",
    "        return 'presentation'\n",
    "    elif types=='thesis':\n",
    "        return 'dissertation'\n",
    "    elif types=='document':\n",
    "        return 'document'\n",
    "    else:\n",
    "        return types\n",
    "        \n",
    "pub_types = df_short_lang_rel_en_ab_ti_url_dup.apply(lambda x: matchinlist(x['Title'],\n",
    "                                                                          x['Publication Type'],\n",
    "                                                                          zot_title_list_lower,\n",
    "                                                                          df_zotero),axis=1)\n",
    "df_short_lang_rel_en_ab_ti_url_dup['publication_type'] = pub_types"
   ]
  },
  {
   "cell_type": "code",
   "execution_count": null,
   "id": "25abf811-3314-46f5-aa06-a809a85857be",
   "metadata": {},
   "outputs": [],
   "source": [
    "df_short_lang_rel_en_ab_ti_url_dup.head()"
   ]
  },
  {
   "cell_type": "code",
   "execution_count": null,
   "id": "a48a05f1-1bc7-492f-ba96-9f3b54294050",
   "metadata": {},
   "outputs": [],
   "source": [
    "# save it out to add publication types the missing fields\n",
    "df_short_lang_rel_en_ab_ti_url_dup.to_csv(os.path.join(os.getcwd(),'data','manual_edits','cluster_data_missingPubs.csv'))"
   ]
  },
  {
   "cell_type": "code",
   "execution_count": 212,
   "id": "d972217c-22ff-4970-a147-8b0105cff235",
   "metadata": {},
   "outputs": [],
   "source": [
    "# after fixing blank years, languages, publication types bring it back\n",
    "dataframe = pd.read_csv(os.path.join(os.getcwd(),'data','manual_edits','cluster_data_addedPubs.csv'),index_col='Lens ID')\n"
   ]
  },
  {
   "cell_type": "code",
   "execution_count": 218,
   "id": "d688c00f-547e-4a1c-bb25-44cde6240fe1",
   "metadata": {},
   "outputs": [],
   "source": [
    "dataframe = dataframe.join(orig_data_filt['affiliation'])"
   ]
  },
  {
   "cell_type": "code",
   "execution_count": 227,
   "id": "92784838-a8f9-4498-be26-317acf9ec6b3",
   "metadata": {},
   "outputs": [],
   "source": [
    "dataframe = dataframe.replace({'publication_type': 'conference proceedings'}, 'conference article')\n",
    "dataframe = dataframe.replace({'publication_type': 'conference proceedings article'}, 'conference article')"
   ]
  },
  {
   "cell_type": "code",
   "execution_count": 229,
   "id": "595dd8da-c9f2-4a73-9cd4-7fec135d1a3c",
   "metadata": {},
   "outputs": [
    {
     "name": "stdout",
     "output_type": "stream",
     "text": [
      "Total non peer reviwed items removed from corpus: 263\n"
     ]
    },
    {
     "data": {
      "image/png": "[encoded data removed]",
      "text/plain": [
       "<Figure size 432x288 with 1 Axes>"
      ]
     },
     "metadata": {
      "needs_background": "light"
     },
     "output_type": "display_data"
    }
   ],
   "source": [
    "# PUBLICATION TYPE\n",
    "# remove the non peer reviewed documents\n",
    "\n",
    "pd.value_counts(dataframe['publication_type']).plot.bar()\n",
    "\n",
    "dataframe_peer = dataframe[(dataframe['publication_type']=='journal article') | \\\n",
    "                           (dataframe['publication_type']=='conference article')]\n",
    "  \n",
    "peer = len(dataframe) - len(dataframe_peer)\n",
    "print(f'Total non peer reviwed items removed from corpus: {peer}')"
   ]
  },
  {
   "cell_type": "code",
   "execution_count": 244,
   "id": "cb7c1896-1469-4cfe-8091-3614831c39da",
   "metadata": {},
   "outputs": [],
   "source": [
    "cols = ['Title',\n",
    "        'Publication Year',\n",
    "        'Abstract',\n",
    "        'Fields of Study',\n",
    "        'External URL',\n",
    "        'publication_type',\n",
    "        'affiliation']\n",
    "cluster_df =  dataframe_peer[cols].rename(columns={'Title':'title',\n",
    "                                                   'Publication Year':'publication_year',\n",
    "                                                   'Abstract':'abstract',\n",
    "                                                   'Fields of Study':'tags',\n",
    "                                                   'External URL':'url'})\n",
    "cluster_df = cluster_df.astype({'title':'string',\n",
    "                               'publication_year':'int',\n",
    "                               'abstract':'string',\n",
    "                               'tags':'string',\n",
    "                               'url':'string',\n",
    "                               'publication_type':'string',\n",
    "                               'affiliation':'string',})"
   ]
  },
  {
   "cell_type": "markdown",
   "id": "6cf9f402-48de-45b8-b3e5-c502ddf96b23",
   "metadata": {},
   "source": [
    "### Looking At Final Dataset"
   ]
  },
  {
   "cell_type": "code",
   "execution_count": 255,
   "id": "9eaa1f1f-e300-41c3-a1fc-fff3b1c6748b",
   "metadata": {},
   "outputs": [
    {
     "data": {
      "text/plain": [
       "<AxesSubplot:>"
      ]
     },
     "execution_count": 255,
     "metadata": {},
     "output_type": "execute_result"
    },
    {
     "data": {
      "image/png": "[encoded data removed]",
      "text/plain": [
       "<Figure size 432x288 with 1 Axes>"
      ]
     },
     "metadata": {
      "needs_background": "light"
     },
     "output_type": "display_data"
    }
   ],
   "source": [
    "cluster_df.publication_year.value_counts().sort_index().plot.bar()"
   ]
  },
  {
   "cell_type": "code",
   "execution_count": 262,
   "id": "38392fe7-e90b-466f-94d4-991b919b0edb",
   "metadata": {},
   "outputs": [],
   "source": [
    "from geopy.geocoders import Nominatim\n",
    "geolocator = Nominatim(user_agent=\"my_user_agent\")"
   ]
  },
  {
   "cell_type": "code",
   "execution_count": 263,
   "id": "142b55d0-c0aa-4705-9b5a-b2c86b0b8eb5",
   "metadata": {},
   "outputs": [],
   "source": [
    "def retrieve_country_code(search_term):\n",
    "  loc = geolocator.geocode(search_term, exactly_one=False)\n",
    "  try:\n",
    "    code = geolocator.reverse([loc[0].latitude, loc[0].longitude]).raw['address']['country_code']\n",
    "  except TypeError:\n",
    "    code = 'error'\n",
    "  return code"
   ]
  },
  {
   "cell_type": "code",
   "execution_count": 266,
   "id": "eeb5e018-1ac2-4b15-8275-438ce9907be8",
   "metadata": {},
   "outputs": [
    {
     "name": "stdout",
     "output_type": "stream",
     "text": [
      "cn\n",
      "error\n",
      "bd\n",
      "gb\n"
     ]
    }
   ],
   "source": [
    "test_affil = cluster_df['affiliation'].tolist()[0:4]\n",
    "\n",
    "for ii in test_affil:\n",
    "    code = retrieve_country_code(ii)\n",
    "    print(code)\n",
    "    \n",
    "    "
   ]
  },
  {
   "cell_type": "code",
   "execution_count": 270,
   "id": "3a50824e-3467-4b91-a628-5ad6e17c69af",
   "metadata": {},
   "outputs": [
    {
     "name": "stderr",
     "output_type": "stream",
     "text": [
      "100%|███████████████████████████████████████| 1994/1994 [29:28<00:00,  1.13it/s]\n"
     ]
    }
   ],
   "source": [
    "#code in the country of origin for the paper\n",
    "cluster_df['country_code'] = cluster_df.progress_apply(lambda x: retrieve_country_code(x['affiliation']),axis=1)"
   ]
  },
  {
   "cell_type": "code",
   "execution_count": 277,
   "id": "664dd67d-7b95-4a5f-97a7-abaecc79cc8d",
   "metadata": {},
   "outputs": [],
   "source": [
    "len(cluster_df[cluster_df['country_code']=='error'])\n",
    "# roughly 500 errors\n",
    "# save out and complete by hand\n",
    "cluster_df.to_csv(os.path.join(os.getcwd(),'data','manual_edits','cluster_data_missingCountry.csv'))"
   ]
  },
  {
   "cell_type": "code",
   "execution_count": null,
   "id": "0833de0d-85e1-4537-be80-dcb1d92679c2",
   "metadata": {},
   "outputs": [],
   "source": [
    "# now bring the csv back and recode the country names\n",
    "cluster_df_countries = pd.read_csv(os.path.join(os.getcwd(),'data','manual_edits','cluster_data_addedCountry.csv'))\n",
    "\n",
    "def retrieve_country_code2(search_term):\n",
    "    if len(search_term)==2:\n",
    "        return search_term\n",
    "    else:\n",
    "      loc = geolocator.geocode(search_term, exactly_one=False)\n",
    "      try:\n",
    "        code = geolocator.reverse([loc[0].latitude, loc[0].longitude]).raw['address']['country_code']\n",
    "      except TypeError:\n",
    "        code = 'error'\n",
    "      return code\n",
    "\n",
    "cluster_df_countries['code2'] = cluster_df_countries.progress_apply(lambda x: retrieve_country_code2(x['country_code']),axis=1)\n",
    "cluster_df_countries['country_code'] = cluster_df_countries['code2']\n",
    "del cluster_df_countries['code2']"
   ]
  },
  {
   "cell_type": "code",
   "execution_count": 294,
   "id": "074b8a30-3550-4e29-be02-69706d0e055e",
   "metadata": {},
   "outputs": [],
   "source": [
    "# save out the dataset to be used for clustering\n",
    "# 300 or so are still missing country codes because I have no affiliation data\n",
    "# these will need to be done manually - search url - before using the country data\n",
    "cluster_df_countries.to_csv(os.path.join(os.getcwd(),'data','input_cluster_data.csv'))"
   ]
  }
 ],
 "metadata": {
  "kernelspec": {
   "display_name": "Python 3 (ipykernel)",
   "language": "python",
   "name": "python3"
  },
  "language_info": {
   "codemirror_mode": {
    "name": "ipython",
    "version": 3
   },
   "file_extension": ".py",
   "mimetype": "text/x-python",
   "name": "python",
   "nbconvert_exporter": "python",
   "pygments_lexer": "ipython3",
   "version": "3.9.5"
  }
 },
 "nbformat": 4,
 "nbformat_minor": 5
}
