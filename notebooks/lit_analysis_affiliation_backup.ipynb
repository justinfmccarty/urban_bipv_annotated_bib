{
  "cells": [
    {
      "cell_type": "code",
      "source": [
        "import numpy as np\n",
        "import requests\n",
        "import pandas as pd\n",
        "import json\n",
        "import os\n",
        "import glob\n",
        "import matplotlib.pyplot as plt\n",
        "import time\n",
        "import requests\n",
        "import time\n",
        "\n",
        "token = 'm3lB5Q8zHn7wis2frICKXcmPb7yERygZnPypvcjuKPcye4IKkwdY'\n",
        "base_url = 'https://api.lens.org/scholarly/search'\n"
      ],
      "outputs": [],
      "execution_count": 2,
      "metadata": {
        "collapsed": true,
        "jupyter": {
          "source_hidden": false,
          "outputs_hidden": false
        },
        "nteract": {
          "transient": {
            "deleting": false
          }
        },
        "execution": {
          "iopub.status.busy": "2021-07-18T10:35:47.140Z",
          "iopub.execute_input": "2021-07-18T10:35:47.152Z",
          "iopub.status.idle": "2021-07-18T10:35:47.531Z",
          "shell.execute_reply": "2021-07-18T10:35:47.539Z"
        }
      }
    },
    {
      "cell_type": "code",
      "source": [
        "lens_id_query_art = {\n",
        " \"query\": {\n",
        "   \"bool\": {\n",
        "     \"must\": [{\n",
        "       \"terms\": {\n",
        "         \"lens_id\": lens_id_list\n",
        "       }},\n",
        "       {\"bool\": {\n",
        "         \"must\": [\n",
        "           {\"term\": {\"publication_type\": \"journal article\"}},\n",
        "         ]\n",
        "       }\n",
        "       }\n",
        "     ]\n",
        "   }\n",
        " }\n",
        "}\n",
        "\n",
        "lens_id_query_conf = {\n",
        " \"query\": {\n",
        "   \"bool\": {\n",
        "     \"must\": [{\n",
        "       \"terms\": {\n",
        "         \"lens_id\": lens_id_list\n",
        "       }},\n",
        "       {\"bool\": {\n",
        "         \"must\": [\n",
        "           {\"term\": {\"publication_type\": \"conference proceedings\"}},\n",
        "         ]\n",
        "       }\n",
        "       }\n",
        "     ]\n",
        "   }\n",
        " }\n",
        "}"
      ],
      "outputs": [],
      "execution_count": null,
      "metadata": {
        "collapsed": true,
        "jupyter": {
          "source_hidden": false,
          "outputs_hidden": false
        },
        "nteract": {
          "transient": {
            "deleting": false
          }
        },
        "execution": {
          "iopub.status.busy": "2021-07-01T12:03:46.899Z",
          "iopub.execute_input": "2021-07-01T12:03:46.902Z",
          "iopub.status.idle": "2021-07-01T12:03:46.904Z",
          "shell.execute_reply": "2021-07-01T12:03:46.866Z"
        }
      }
    },
    {
      "cell_type": "code",
      "source": [
        "lens_id_query2 = {\n",
        "           \"terms\":{\n",
        "                \"lens_id\": lens_id_list\n",
        "           }\n",
        "     }"
      ],
      "outputs": [],
      "execution_count": null,
      "metadata": {
        "collapsed": true,
        "jupyter": {
          "source_hidden": false,
          "outputs_hidden": false
        },
        "nteract": {
          "transient": {
            "deleting": false
          }
        },
        "execution": {
          "iopub.status.busy": "2021-07-01T12:03:46.918Z",
          "iopub.execute_input": "2021-07-01T12:03:46.924Z",
          "iopub.status.idle": "2021-07-01T12:03:46.927Z",
          "shell.execute_reply": "2021-07-01T12:03:46.870Z"
        }
      }
    },
    {
      "cell_type": "code",
      "source": [
        "headers = {'Authorization': token, 'Content-Type': 'application/json'}\n",
        "response = requests.post(base_url, json=lens_id_query, headers=headers)\n",
        "if response.status_code != requests.codes.ok:\n",
        "    print(response.status_code)\n",
        "else:\n",
        "    json_data = json.loads(response.text)\n",
        "    print(len(json_data['data']))\n",
        "json_data['data'][2]"
      ],
      "outputs": [],
      "execution_count": null,
      "metadata": {
        "collapsed": false,
        "jupyter": {
          "source_hidden": false,
          "outputs_hidden": false
        },
        "nteract": {
          "transient": {
            "deleting": false
          }
        },
        "execution": {
          "iopub.status.busy": "2021-07-01T12:03:46.932Z",
          "iopub.execute_input": "2021-07-01T12:03:46.935Z",
          "iopub.status.idle": "2021-07-01T12:03:49.239Z",
          "shell.execute_reply": "2021-07-01T12:03:49.278Z"
        }
      }
    },
    {
      "cell_type": "markdown",
      "source": [
        "### Start Here With Filtering Out Irrelevant Items"
      ],
      "metadata": {
        "nteract": {
          "transient": {
            "deleting": false
          }
        }
      }
    },
    {
      "cell_type": "code",
      "source": [
        "orig_data = pd.read_csv('/Users/jmccarty/GitHub/urban_bipv_annotated_bib/data/raw_query_manual_clean.csv',index_col=0)\n",
        "rel_data = pd.read_csv('/Users/jmccarty/GitHub/urban_bipv_annotated_bib/data/raw_query_short.csv',index_col=0)\n",
        "id_keep_list = rel_data.index.tolist()\n",
        "\n",
        "data = orig_data[orig_data.index.isin(id_keep_list)==True]\n"
      ],
      "outputs": [],
      "execution_count": 3,
      "metadata": {
        "collapsed": true,
        "jupyter": {
          "source_hidden": false,
          "outputs_hidden": false
        },
        "nteract": {
          "transient": {
            "deleting": false
          }
        },
        "execution": {
          "iopub.status.busy": "2021-07-18T10:35:51.446Z",
          "iopub.execute_input": "2021-07-18T10:35:51.456Z",
          "iopub.status.idle": "2021-07-18T10:35:51.637Z",
          "shell.execute_reply": "2021-07-18T10:35:51.700Z"
        }
      }
    },
    {
      "cell_type": "code",
      "source": [
        "\n",
        "# there are some in the shortlist that are not in the long list but should be kept...\n",
        "# print titles to review whether they are relevant or not like I did in the manual cleaning step\n",
        "data_missing = rel_data[rel_data.index.isin(data.index.tolist())==False]\n",
        "\n",
        "for title in data_missing.Title.tolist():\n",
        "    print(f'--> {title}')\n",
        "\n"
      ],
      "outputs": [
        {
          "output_type": "stream",
          "name": "stdout",
          "text": [
            "--> Effect of electrochromic windows on energy consumption of high-rise office buildings in different climate regions of Iran\n",
            "--> Dataset for the Solar Incident Radiation and Electricity Production BIPV/BAPV System on the Northern/Southern Façade in Dense Urban Areas\n",
            "--> Parameter evaluation and performance analysis of a BIPVT system for the different climates of India: A comprehensive study\n",
            "--> Metal halide perovskite-based flexible tandem solar cells: next-generation flexible photovoltaic technology\n",
            "--> Comparison of Solar Glazing Performance of Semi-transparent Amorphous-Silicon (a-Si) and Crystalline-Silicon (c-Si) Photovoltaic Panels: A Case Study for Typical Office Building in Hong Kong\n",
            "--> Comportamiento en operación real de la tecnología PV de capa fina (a-Si) en aplicaciones para la edificación (BIPV)\n",
            "--> Comparison Between an Interleaved Boost Converter Using Si MOSFETs Versus GaN HEMTs\n",
            "--> 스마트 조명과 BIPV시스템을 이용한 조명에너지 절감효과 연구\n",
            "--> A review on developments and researches of building integrated photovoltaic (BIPV) windows and shading blinds\n",
            "--> Impact of BIPV windows on building energy consumption in street canyons: Model development and validation\n",
            "--> A Quantitative Investigation on Awareness of Renewable Energy Building Technology in the United Arab Emirates\n",
            "--> Operation and grid interaction modeling of a house with a building integrated photovoltaic thermal (BIPV/T) system coupled to an air-source heat pump\n",
            "--> Dye sensitised solar power generating window: towards environmentally sustainable energy efficiency in ICT\n",
            "--> Analysing the role of roof mounted BIPV system optimization on decreasing the effect of duck curve in Perth, Western Australia: An experimental case study\n",
            "--> Comparison assessment of semi-transparent solar cell for BIPV windows\n",
            "--> Optimal design and photoelectric performance study of micro-lens light trapping structure for CIGS thin film solar cell in BIPV\n"
          ]
        }
      ],
      "execution_count": 4,
      "metadata": {
        "collapsed": true,
        "jupyter": {
          "source_hidden": false,
          "outputs_hidden": false
        },
        "nteract": {
          "transient": {
            "deleting": false
          }
        },
        "execution": {
          "iopub.status.busy": "2021-07-18T10:35:54.761Z",
          "iopub.execute_input": "2021-07-18T10:35:54.771Z",
          "iopub.status.idle": "2021-07-18T10:35:54.802Z",
          "shell.execute_reply": "2021-07-18T10:35:54.814Z"
        }
      }
    },
    {
      "cell_type": "code",
      "source": [
        "\n",
        "all_data = pd.concat([data,data_missing])\n",
        "all_data.columns\n"
      ],
      "outputs": [
        {
          "output_type": "execute_result",
          "execution_count": 7,
          "data": {
            "text/plain": "Index(['Remove', 'Title', 'Date Published', 'Publication Year',\n       'Publication Type', 'Source Title', 'ISSNs', 'Publisher',\n       'Source Country', 'Author/s', 'Abstract', 'Volume', 'Issue Number',\n       'Start Page', 'End Page', 'Fields of Study', 'Keywords', 'MeSH Terms',\n       'Chemicals', 'Funding', 'Source URLs', 'External URL', 'PMID', 'DOI',\n       'Microsoft Academic ID', 'PMCID', 'Citing Patents Count', 'References',\n       'Citing Works Count'],\n      dtype='object')"
          },
          "metadata": {}
        }
      ],
      "execution_count": 7,
      "metadata": {
        "collapsed": true,
        "jupyter": {
          "source_hidden": false,
          "outputs_hidden": false
        },
        "nteract": {
          "transient": {
            "deleting": false
          }
        },
        "execution": {
          "iopub.status.busy": "2021-07-18T10:36:10.094Z",
          "iopub.execute_input": "2021-07-18T10:36:10.105Z",
          "iopub.status.idle": "2021-07-18T10:36:10.132Z",
          "shell.execute_reply": "2021-07-18T10:36:10.142Z"
        }
      }
    },
    {
      "cell_type": "code",
      "source": [
        "\n",
        "# create the query based on the id list from the relevant data\n",
        "lens_id_list = all_data.index.tolist()\n",
        "lens_id_query = {\n",
        "           \"terms\":{\n",
        "                \"lens_id\": lens_id_list\n",
        "           }\n",
        "     }\n",
        "\n",
        "len(lens_id_list)"
      ],
      "outputs": [
        {
          "output_type": "execute_result",
          "execution_count": 9,
          "data": {
            "text/plain": "3544"
          },
          "metadata": {}
        }
      ],
      "execution_count": 9,
      "metadata": {
        "collapsed": true,
        "jupyter": {
          "source_hidden": false,
          "outputs_hidden": false
        },
        "nteract": {
          "transient": {
            "deleting": false
          }
        },
        "execution": {
          "iopub.status.busy": "2021-07-18T10:36:45.278Z",
          "iopub.execute_input": "2021-07-18T10:36:45.292Z",
          "iopub.status.idle": "2021-07-18T10:36:45.315Z",
          "shell.execute_reply": "2021-07-18T10:36:45.324Z"
        }
      }
    },
    {
      "cell_type": "code",
      "source": [
        "# request body with scroll time of 1 minute\n",
        "request_body = {\n",
        "     \"query\": lens_id_query,\n",
        "     \"size\": 1000,\n",
        "     \"scroll\":\"1m\",\n",
        "}\n",
        "headers = {'Authorization': token, 'Content-Type': 'application/json'}\n",
        "\n",
        "# Recursive function to scroll through paginated results\n",
        "def scroll(scroll_id):\n",
        "    # Change the request_body to prepare for next scroll api call\n",
        "    # Make sure to append the include fields to make faster response\n",
        "    if scroll_id is not None:\n",
        "        global request_body\n",
        "        request_body = {\"scroll_id\": scroll_id}\n",
        "\n",
        "    # make api request\n",
        "    response = requests.post(url, json=request_body, headers=headers) \n",
        "\n",
        "    # If rate-limited, wait for n seconds and proceed the same scroll id\n",
        "    # Since scroll time is 1 minutes, it will give sufficient time to wait and proceed\n",
        "    if response.status_code == requests.codes.too_many_requests:\n",
        "        time.sleep(8)\n",
        "        scroll(scroll_id)\n",
        "    # If the response is not ok here, better to stop here and debug it\n",
        "    elif response.status_code != requests.codes.ok:\n",
        "        print(response.json())\n",
        "    # If the response is ok, do something with the response, take the new scroll id and iterate\n",
        "    else:\n",
        "        json_data = response.json()\n",
        "        scroll_id = json_data['scroll_id'] # Extract the new scroll id from response\n",
        "\n",
        "        print('Saving')\n",
        "        idnumber = json_data['data'][0]['lens_id']\n",
        "        json.dump(json_data,open(f'/Users/jmccarty/GitHub/urban_bipv_annotated_bib/data/dump_{idnumber}.json','w'))\n",
        "\n",
        "        scroll(scroll_id)\n",
        "\n",
        "# start recursive scrolling\n",
        "scrolled = scroll(scroll_id=None)\n"
      ],
      "outputs": [],
      "execution_count": null,
      "metadata": {
        "collapsed": true,
        "jupyter": {
          "source_hidden": false,
          "outputs_hidden": false
        },
        "nteract": {
          "transient": {
            "deleting": false
          }
        },
        "execution": {
          "iopub.status.busy": "2021-07-01T12:33:54.276Z",
          "iopub.execute_input": "2021-07-01T12:33:54.281Z",
          "iopub.status.idle": "2021-07-01T11:11:11.509Z",
          "shell.execute_reply": "2021-07-01T11:11:11.514Z"
        }
      }
    },
    {
      "cell_type": "markdown",
      "source": [
        "## Move to Compiling and Cleaning"
      ],
      "metadata": {
        "nteract": {
          "transient": {
            "deleting": false
          }
        }
      }
    },
    {
      "cell_type": "code",
      "source": [
        "# write function to grab data from a single entry\n",
        "\n",
        "def get_data(data,field):\n",
        "    try:\n",
        "        if field=='authors':\n",
        "            try:\n",
        "                value = 'org_' + str(data[field][0]['affiliations'][0]['name'])\n",
        "            except KeyError:\n",
        "                id_type = data[field][0]['ids'][0]['type']\n",
        "                id_value = data[field][0]['ids'][0]['value']\n",
        "                value = str(id_type) + '_' + str(id_value)\n",
        "        elif field=='year_published':\n",
        "            try:\n",
        "                value = data[field]\n",
        "            except KeyError:\n",
        "                try:\n",
        "                    value = data['date_published_parts'][0]\n",
        "                except KeyError:\n",
        "                    try:\n",
        "                        value = data['created'].split('-')[0]\n",
        "                    except KeyError:\n",
        "                        value = 'none'\n",
        "        else:\n",
        "            try:\n",
        "                value = data[field]\n",
        "            except KeyError:\n",
        "                value = 'none'\n",
        "    except KeyError:\n",
        "        value = 'none'\n",
        "    \n",
        "    return value\n",
        "\n",
        "\n",
        "\n",
        "\n",
        "def extract_fields(data):\n",
        "    data_dict = dict()\n",
        "    data_dict['lens_id'] = get_data(data,'lens_id')\n",
        "    data_dict['document_type'] = get_data(data,'publication_type')\n",
        "    data_dict['title'] = get_data(data,'title')\n",
        "    data_dict['abstract'] = get_data(data,'abstract')\n",
        "    data_dict['affiliation'] = get_data(data,'authors')\n",
        "    data_dict['pub_year'] = get_data(data,'year_published')\n",
        "    data_dict['keywords'] = get_data(data,'fields_of_study')\n",
        "    data_dict['keywords_count'] = len(get_data(data,'fields_of_study'))\n",
        "    data_dict['language'] = get_data(data,'languages')[0]\n",
        "    return data_dict"
      ],
      "outputs": [],
      "execution_count": 228,
      "metadata": {
        "collapsed": true,
        "jupyter": {
          "source_hidden": false,
          "outputs_hidden": false
        },
        "nteract": {
          "transient": {
            "deleting": false
          }
        },
        "execution": {
          "iopub.status.busy": "2021-07-01T13:41:32.165Z",
          "iopub.execute_input": "2021-07-01T13:41:32.171Z",
          "iopub.status.idle": "2021-07-01T13:41:32.184Z",
          "shell.execute_reply": "2021-07-01T13:41:32.191Z"
        }
      }
    },
    {
      "cell_type": "code",
      "source": [
        "# create file list \n",
        "files = glob.glob(\"/Users/jmccarty/GitHub/urban_bipv_annotated_bib/data/*.json\")\n",
        "\n",
        "# write function to create dataframe for each file\n",
        "def parsejsons(current_file):\n",
        "    with open(current_file) as jsonFile:\n",
        "        json_str = jsonFile.read()\n",
        "        json_data = json.loads(json_str)\n",
        "        data_list = []\n",
        "        # get_data(data,'abstract')\n",
        "        for i in list(range(0,len(json_data['data']))):\n",
        "            data_list.append(extract_fields(json_data['data'][i]))\n",
        "\n",
        "        return pd.DataFrame(data_list)\n",
        "\n"
      ],
      "outputs": [],
      "execution_count": 229,
      "metadata": {
        "collapsed": true,
        "jupyter": {
          "source_hidden": false,
          "outputs_hidden": false
        },
        "nteract": {
          "transient": {
            "deleting": false
          }
        },
        "execution": {
          "iopub.status.busy": "2021-07-01T13:41:34.406Z",
          "iopub.execute_input": "2021-07-01T13:41:34.411Z",
          "iopub.status.idle": "2021-07-01T13:41:34.416Z",
          "shell.execute_reply": "2021-07-01T13:41:34.421Z"
        }
      }
    },
    {
      "cell_type": "code",
      "source": [
        "#extract and concat all data into one frame\n",
        "df_list = []\n",
        "\n",
        "for i in files:\n",
        "    df_list.append(parsejsons(i))\n",
        "\n",
        "all_data = pd.concat(df_list)\n",
        "print(len(all_data))"
      ],
      "outputs": [
        {
          "output_type": "stream",
          "name": "stdout",
          "text": [
            "6958\n"
          ]
        }
      ],
      "execution_count": 230,
      "metadata": {
        "collapsed": true,
        "jupyter": {
          "source_hidden": false,
          "outputs_hidden": false
        },
        "nteract": {
          "transient": {
            "deleting": false
          }
        },
        "execution": {
          "iopub.status.busy": "2021-07-01T13:41:36.559Z",
          "iopub.execute_input": "2021-07-01T13:41:36.566Z",
          "iopub.status.idle": "2021-07-01T13:41:36.756Z",
          "shell.execute_reply": "2021-07-01T13:41:36.764Z"
        }
      }
    },
    {
      "cell_type": "code",
      "source": [
        "all_data.to_csv('/Users/jmccarty/GitHub/urban_bipv_annotated_bib/data/lit_dataset_all.csv',index=False)"
      ],
      "outputs": [],
      "execution_count": 231,
      "metadata": {
        "collapsed": true,
        "jupyter": {
          "source_hidden": false,
          "outputs_hidden": false
        },
        "nteract": {
          "transient": {
            "deleting": false
          }
        },
        "execution": {
          "iopub.status.busy": "2021-07-01T13:41:38.562Z",
          "iopub.execute_input": "2021-07-01T13:41:38.571Z",
          "iopub.status.idle": "2021-07-01T13:41:38.690Z",
          "shell.execute_reply": "2021-07-01T13:41:38.693Z"
        }
      }
    },
    {
      "cell_type": "markdown",
      "source": [
        "## Filter Down Dataframe"
      ],
      "metadata": {
        "nteract": {
          "transient": {
            "deleting": false
          }
        }
      }
    },
    {
      "cell_type": "code",
      "source": [
        "# print the length difference in the original dataframe and the shorter query\n",
        "\n",
        "\n",
        "print(f'Original shape was {orig_data.shape}')\n",
        "print(f'New shape is {rel_data.shape}')"
      ],
      "outputs": [
        {
          "output_type": "execute_result",
          "execution_count": 8,
          "data": {
            "text/plain": "Index(['document_type', 'title', 'abstract', 'affiliation', 'pub_year',\n       'keywords', 'keywords_count', 'language'],\n      dtype='object')"
          },
          "metadata": {}
        }
      ],
      "execution_count": 8,
      "metadata": {
        "collapsed": true,
        "jupyter": {
          "source_hidden": false,
          "outputs_hidden": false
        },
        "nteract": {
          "transient": {
            "deleting": false
          }
        },
        "execution": {
          "iopub.status.busy": "2021-07-07T09:50:05.338Z",
          "iopub.execute_input": "2021-07-07T09:50:05.345Z",
          "iopub.status.idle": "2021-07-07T09:50:05.404Z",
          "shell.execute_reply": "2021-07-07T09:50:05.419Z"
        }
      }
    },
    {
      "cell_type": "code",
      "source": [
        "\n",
        "# there are some in the shortlist that are not in the long list but should be kept...\n",
        "# print titles to review whether they are relevant or not like I did in the manual cleaning step\n",
        "data_missing = raw_short_data[raw_short_data.index.isin(data.index.tolist())==False]\n",
        "\n",
        "for title in data_missing.Title.tolist():\n",
        "    print(f'--> {title}')\n",
        "\n"
      ],
      "outputs": [],
      "execution_count": null,
      "metadata": {
        "collapsed": true,
        "jupyter": {
          "source_hidden": false,
          "outputs_hidden": false
        },
        "nteract": {
          "transient": {
            "deleting": false
          }
        }
      }
    },
    {
      "cell_type": "code",
      "source": [
        "\n",
        "all_data = pd.concat([data,data_missing])\n",
        "all_data.columns\n"
      ],
      "outputs": [],
      "execution_count": null,
      "metadata": {
        "collapsed": true,
        "jupyter": {
          "source_hidden": false,
          "outputs_hidden": false
        },
        "nteract": {
          "transient": {
            "deleting": false
          }
        }
      }
    },
    {
      "cell_type": "code",
      "source": [
        "# UNRELATED\n",
        "# remove the irrelevant items\n",
        "\n",
        "not_relevant = all_data[all_data['Remove']==True].index.tolist()\n",
        "\n",
        "all_data_rel = all_data[all_data.index.isin(not_relevant)==False]\n",
        "\n",
        "print(f'Original shape was {all_data.shape}')\n",
        "print(f'New shape is {all_data_rel.shape}')"
      ],
      "outputs": [
        {
          "output_type": "stream",
          "name": "stdout",
          "text": [
            "4892\n"
          ]
        },
        {
          "output_type": "display_data",
          "data": {
            "text/plain": "<Figure size 432x288 with 1 Axes>",
            "image/png": "[encoded data removed]"
          },
          "metadata": {
            "needs_background": "light"
          }
        }
      ],
      "execution_count": 9,
      "metadata": {
        "collapsed": true,
        "jupyter": {
          "source_hidden": false,
          "outputs_hidden": false
        },
        "nteract": {
          "transient": {
            "deleting": false
          }
        },
        "execution": {
          "iopub.status.busy": "2021-07-07T09:50:06.676Z",
          "iopub.execute_input": "2021-07-07T09:50:06.685Z",
          "iopub.status.idle": "2021-07-07T09:50:06.766Z",
          "shell.execute_reply": "2021-07-07T09:50:06.778Z"
        }
      }
    },
    {
      "cell_type": "code",
      "source": [
        "# PUBLICATION TYPE\n",
        "# remove the non peer reviewed documents\n",
        "\n",
        "pd.value_counts(all_data_rel['Publication Type']).plot.bar()\n",
        "\n",
        "all_data_peer = all_data_rel[(all_data_rel['Publication Type']=='journal article') | \\\n",
        " (all_data_rel['Publication Type']=='conference proceedings article') | \\\n",
        "  (all_data_rel['Publication Type']=='conference proceedings')]\n",
        "  \n",
        "\n",
        "print(f'Original shape was {all_data_rel.shape}')\n",
        "print(f'New shape is {all_data_peer.shape}')"
      ],
      "outputs": [],
      "execution_count": null,
      "metadata": {
        "collapsed": true,
        "jupyter": {
          "source_hidden": false,
          "outputs_hidden": false
        },
        "nteract": {
          "transient": {
            "deleting": false
          }
        }
      }
    },
    {
      "cell_type": "code",
      "source": [
        "# LANGUAGE\n",
        "# remove the non english documents\n",
        "\n",
        "pd.value_counts(all_data_peer['language']).plot.bar()\n",
        "\n",
        "all_data_peer_en = all_data_peer[all_data_peer['language']=='en']\n",
        "\n",
        "print(len(all_data_peer_en))"
      ],
      "outputs": [
        {
          "output_type": "stream",
          "name": "stdout",
          "text": [
            "4662\n"
          ]
        },
        {
          "output_type": "display_data",
          "data": {
            "text/plain": "<Figure size 432x288 with 1 Axes>",
            "image/png": "[encoded data removed]"
          },
          "metadata": {
            "needs_background": "light"
          }
        }
      ],
      "execution_count": 10,
      "metadata": {
        "collapsed": true,
        "jupyter": {
          "source_hidden": false,
          "outputs_hidden": false
        },
        "nteract": {
          "transient": {
            "deleting": false
          }
        },
        "execution": {
          "iopub.status.busy": "2021-07-07T09:50:08.532Z",
          "iopub.execute_input": "2021-07-07T09:50:08.538Z",
          "iopub.status.idle": "2021-07-07T09:50:08.587Z",
          "shell.execute_reply": "2021-07-07T09:50:08.602Z"
        }
      }
    },
    {
      "cell_type": "code",
      "source": [
        "# ABSTRACT\n",
        "# remove the items with not abstract\n",
        "\n",
        "# pd.value_counts(all_data_peer['language']).plot.bar()\n",
        "\n",
        "\n",
        "all_data_peer_en_ab = all_data_peer_en[all_data_peer_en['abstract']!='none']\n",
        "print(len(all_data_peer_en_ab))"
      ],
      "outputs": [
        {
          "output_type": "stream",
          "name": "stdout",
          "text": [
            "4256\n"
          ]
        }
      ],
      "execution_count": 11,
      "metadata": {
        "collapsed": true,
        "jupyter": {
          "source_hidden": false,
          "outputs_hidden": false
        },
        "nteract": {
          "transient": {
            "deleting": false
          }
        },
        "execution": {
          "iopub.status.busy": "2021-07-07T09:50:09.996Z",
          "iopub.execute_input": "2021-07-07T09:50:10.004Z",
          "iopub.status.idle": "2021-07-07T09:50:10.024Z",
          "shell.execute_reply": "2021-07-07T09:50:10.031Z"
        }
      }
    },
    {
      "cell_type": "code",
      "source": [
        "pd.value_counts(all_data_peer_en_ab['pub_year']).plot.bar()\n",
        "\n"
      ],
      "outputs": [
        {
          "output_type": "execute_result",
          "execution_count": 12,
          "data": {
            "text/plain": "<AxesSubplot:>"
          },
          "metadata": {}
        },
        {
          "output_type": "display_data",
          "data": {
            "text/plain": "<Figure size 432x288 with 1 Axes>",
            "image/png": "[encoded data removed]"
          },
          "metadata": {
            "needs_background": "light"
          }
        }
      ],
      "execution_count": 12,
      "metadata": {
        "collapsed": true,
        "jupyter": {
          "source_hidden": false,
          "outputs_hidden": false
        },
        "nteract": {
          "transient": {
            "deleting": false
          }
        },
        "execution": {
          "iopub.status.busy": "2021-07-07T09:50:11.289Z",
          "iopub.execute_input": "2021-07-07T09:50:11.300Z",
          "iopub.status.idle": "2021-07-07T09:50:11.422Z",
          "shell.execute_reply": "2021-07-07T09:50:11.446Z"
        }
      }
    },
    {
      "cell_type": "code",
      "source": [
        "# create dataframe to feed into sankey generator"
      ],
      "outputs": [],
      "execution_count": null,
      "metadata": {
        "collapsed": true,
        "jupyter": {
          "source_hidden": false,
          "outputs_hidden": false
        },
        "nteract": {
          "transient": {
            "deleting": false
          }
        }
      }
    },
    {
      "cell_type": "code",
      "source": [
        "# export filtered df to use in fixing the affiliations"
      ],
      "outputs": [],
      "execution_count": null,
      "metadata": {
        "collapsed": true,
        "jupyter": {
          "source_hidden": false,
          "outputs_hidden": false
        },
        "nteract": {
          "transient": {
            "deleting": false
          }
        }
      }
    },
    {
      "cell_type": "markdown",
      "source": [
        "## Fix Affiliation\n"
      ],
      "metadata": {
        "nteract": {
          "transient": {
            "deleting": false
          }
        }
      }
    },
    {
      "cell_type": "code",
      "source": [
        "all_data_peer_en_ab[all_data_peer_en_ab['affiliation']=='none']\n"
      ],
      "outputs": [
        {
          "output_type": "execute_result",
          "execution_count": 31,
          "data": {
            "text/plain": "                                      document_type  \\\nlens_id                                               \n063-135-016-468-50X                 journal article   \n114-765-015-990-050                 journal article   \n167-492-456-423-264                 journal article   \n004-008-668-058-272                 journal article   \n007-309-048-277-165                 journal article   \n016-172-928-740-682                 journal article   \n038-711-978-531-668                 journal article   \n121-790-265-198-590                 journal article   \n123-569-546-389-860                 journal article   \n041-530-416-018-69X                 journal article   \n061-248-433-168-40X                 journal article   \n070-599-494-045-64X                 journal article   \n111-864-894-650-371                 journal article   \n121-107-511-070-455                 journal article   \n137-900-730-769-455                 journal article   \n070-310-294-386-642                 journal article   \n151-795-423-955-421                 journal article   \n118-370-823-895-667                 journal article   \n121-416-810-719-882                 journal article   \n141-225-773-692-302                 journal article   \n039-048-615-569-809                 journal article   \n049-960-827-242-769  conference proceedings article   \n\n                                                                 title  \\\nlens_id                                                                  \n063-135-016-468-50X  A Holistic Strategy for Successful Photovoltai...   \n114-765-015-990-050  A sensor-less LED dimming system based on dayl...   \n167-492-456-423-264  Novel Designs of Photovoltaic Thermal (PV/T) S...   \n004-008-668-058-272  System performance studies on a photovoltaic/t...   \n007-309-048-277-165     Energy efficient residential house wall system   \n016-172-928-740-682  Experimental study on the operating characteri...   \n038-711-978-531-668  Experimental Study of Electrical and Thermal E...   \n121-790-265-198-590  Efficient Photovoltaic Module Intergrated with...   \n123-569-546-389-860  Solar timber kilns: State of the art and fores...   \n041-530-416-018-69X  Numerical Simulation of Energy Systems to Cont...   \n061-248-433-168-40X  Energy-Efficient Buildings, a step towards Sus...   \n070-599-494-045-64X  Measurements of the Electrical Incidence Angle...   \n111-864-894-650-371  Minimisation of the cost of generated electric...   \n121-107-511-070-455  Calculation of Energy Flow and Carbon Credit E...   \n137-900-730-769-455  Multi-objective design optimization of a micro...   \n070-310-294-386-642  Nanofluid-based optical filter optimization fo...   \n151-795-423-955-421  Exergetic performance of building attached pho...   \n118-370-823-895-667  Comparison of oil and aluminum-based heat stor...   \n121-416-810-719-882  Review on Energy and Exergy Analysis of Air an...   \n141-225-773-692-302  Effect of Transformational Leadership and Brea...   \n039-048-615-569-809  Energy Communities Design Optimization in the ...   \n049-960-827-242-769  The Influence of Convection on the Behaviour o...   \n\n                                                              abstract  \\\nlens_id                                                                  \n063-135-016-468-50X  <jats:p>Based on the findings from a recent st...   \n114-765-015-990-050  Artificial lighting in office buildings typica...   \n167-492-456-423-264  <jats:p>Advanced concepts of hybrid photovolta...   \n004-008-668-058-272  A computer simulation model is presented for t...   \n007-309-048-277-165  The energy consumption and greenhouse gas emis...   \n016-172-928-740-682  2011-2012 > Academic research: refereed > Publ...   \n038-711-978-531-668  <jats:p>Investigating the thermal and electric...   \n121-790-265-198-590  <jats:p>Solar photovoltaic-thermal (PVT) is an...   \n123-569-546-389-860  Analysis of the evolution in solar heated dryi...   \n041-530-416-018-69X  The aim of the present work is the development...   \n061-248-433-168-40X  <jats:p>With every passing year, energy consum...   \n070-599-494-045-64X  Reflector edges, sharp acceptance angles and b...   \n111-864-894-650-371  Arrays of thin-film solar cells based on dye-s...   \n121-107-511-070-455  <jats:p>In the current paper, analysis has bee...   \n137-900-730-769-455  An optimization methodology for a microchannel...   \n070-310-294-386-642  Optical filters are essential in a wide range ...   \n151-795-423-955-421  ###EgeUn###It is known that solar energy is am...   \n118-370-823-895-667  <p>The main objective of this thesis is to des...   \n121-416-810-719-882  <jats:p>&lt;p class=\"AEuroAbstract\"&gt;In phot...   \n141-225-773-692-302  Purpose: The article investigates the impact o...   \n039-048-615-569-809  <jats:p>Energy communities (EC) are expected t...   \n049-960-827-242-769                                   status: publishe   \n\n                    affiliation  pub_year keywords  keywords_count language  \nlens_id                                                                      \n063-135-016-468-50X        none      2021     none               4       en  \n114-765-015-990-050        none      2014     none               4       en  \n167-492-456-423-264        none      2019     none               4       en  \n004-008-668-058-272        none      1999     none               4       en  \n007-309-048-277-165        none      2013     none               4       en  \n016-172-928-740-682        none      2011     none               4       en  \n038-711-978-531-668        none      2021     none               4       en  \n121-790-265-198-590        none      2019     none               4       en  \n123-569-546-389-860        none      2009     none               4       en  \n041-530-416-018-69X        none      2016     none               4       en  \n061-248-433-168-40X        none      2019     none               4       en  \n070-599-494-045-64X        none      2013     none               4       en  \n111-864-894-650-371        none      2005     none               4       en  \n121-107-511-070-455        none      2019     none               4       en  \n137-900-730-769-455        none      2013     none               4       en  \n070-310-294-386-642        none      2012     none               4       en  \n151-795-423-955-421        none      2019     none               4       en  \n118-370-823-895-667        none      2013     none               4       en  \n121-416-810-719-882        none      2018     none               4       en  \n141-225-773-692-302        none      2020     none               4       en  \n039-048-615-569-809        none      2021     none               4       en  \n049-960-827-242-769        none      2020     none               4       en  ",
            "text/html": "<div>\n<style scoped>\n    .dataframe tbody tr th:only-of-type {\n        vertical-align: middle;\n    }\n\n    .dataframe tbody tr th {\n        vertical-align: top;\n    }\n\n    .dataframe thead th {\n        text-align: right;\n    }\n</style>\n<table border=\"1\" class=\"dataframe\">\n  <thead>\n    <tr style=\"text-align: right;\">\n      <th></th>\n      <th>document_type</th>\n      <th>title</th>\n      <th>abstract</th>\n      <th>affiliation</th>\n      <th>pub_year</th>\n      <th>keywords</th>\n      <th>keywords_count</th>\n      <th>language</th>\n    </tr>\n    <tr>\n      <th>lens_id</th>\n      <th></th>\n      <th></th>\n      <th></th>\n      <th></th>\n      <th></th>\n      <th></th>\n      <th></th>\n      <th></th>\n    </tr>\n  </thead>\n  <tbody>\n    <tr>\n      <th>063-135-016-468-50X</th>\n      <td>journal article</td>\n      <td>A Holistic Strategy for Successful Photovoltai...</td>\n      <td>&lt;jats:p&gt;Based on the findings from a recent st...</td>\n      <td>none</td>\n      <td>2021</td>\n      <td>none</td>\n      <td>4</td>\n      <td>en</td>\n    </tr>\n    <tr>\n      <th>114-765-015-990-050</th>\n      <td>journal article</td>\n      <td>A sensor-less LED dimming system based on dayl...</td>\n      <td>Artificial lighting in office buildings typica...</td>\n      <td>none</td>\n      <td>2014</td>\n      <td>none</td>\n      <td>4</td>\n      <td>en</td>\n    </tr>\n    <tr>\n      <th>167-492-456-423-264</th>\n      <td>journal article</td>\n      <td>Novel Designs of Photovoltaic Thermal (PV/T) S...</td>\n      <td>&lt;jats:p&gt;Advanced concepts of hybrid photovolta...</td>\n      <td>none</td>\n      <td>2019</td>\n      <td>none</td>\n      <td>4</td>\n      <td>en</td>\n    </tr>\n    <tr>\n      <th>004-008-668-058-272</th>\n      <td>journal article</td>\n      <td>System performance studies on a photovoltaic/t...</td>\n      <td>A computer simulation model is presented for t...</td>\n      <td>none</td>\n      <td>1999</td>\n      <td>none</td>\n      <td>4</td>\n      <td>en</td>\n    </tr>\n    <tr>\n      <th>007-309-048-277-165</th>\n      <td>journal article</td>\n      <td>Energy efficient residential house wall system</td>\n      <td>The energy consumption and greenhouse gas emis...</td>\n      <td>none</td>\n      <td>2013</td>\n      <td>none</td>\n      <td>4</td>\n      <td>en</td>\n    </tr>\n    <tr>\n      <th>016-172-928-740-682</th>\n      <td>journal article</td>\n      <td>Experimental study on the operating characteri...</td>\n      <td>2011-2012 &gt; Academic research: refereed &gt; Publ...</td>\n      <td>none</td>\n      <td>2011</td>\n      <td>none</td>\n      <td>4</td>\n      <td>en</td>\n    </tr>\n    <tr>\n      <th>038-711-978-531-668</th>\n      <td>journal article</td>\n      <td>Experimental Study of Electrical and Thermal E...</td>\n      <td>&lt;jats:p&gt;Investigating the thermal and electric...</td>\n      <td>none</td>\n      <td>2021</td>\n      <td>none</td>\n      <td>4</td>\n      <td>en</td>\n    </tr>\n    <tr>\n      <th>121-790-265-198-590</th>\n      <td>journal article</td>\n      <td>Efficient Photovoltaic Module Intergrated with...</td>\n      <td>&lt;jats:p&gt;Solar photovoltaic-thermal (PVT) is an...</td>\n      <td>none</td>\n      <td>2019</td>\n      <td>none</td>\n      <td>4</td>\n      <td>en</td>\n    </tr>\n    <tr>\n      <th>123-569-546-389-860</th>\n      <td>journal article</td>\n      <td>Solar timber kilns: State of the art and fores...</td>\n      <td>Analysis of the evolution in solar heated dryi...</td>\n      <td>none</td>\n      <td>2009</td>\n      <td>none</td>\n      <td>4</td>\n      <td>en</td>\n    </tr>\n    <tr>\n      <th>041-530-416-018-69X</th>\n      <td>journal article</td>\n      <td>Numerical Simulation of Energy Systems to Cont...</td>\n      <td>The aim of the present work is the development...</td>\n      <td>none</td>\n      <td>2016</td>\n      <td>none</td>\n      <td>4</td>\n      <td>en</td>\n    </tr>\n    <tr>\n      <th>061-248-433-168-40X</th>\n      <td>journal article</td>\n      <td>Energy-Efficient Buildings, a step towards Sus...</td>\n      <td>&lt;jats:p&gt;With every passing year, energy consum...</td>\n      <td>none</td>\n      <td>2019</td>\n      <td>none</td>\n      <td>4</td>\n      <td>en</td>\n    </tr>\n    <tr>\n      <th>070-599-494-045-64X</th>\n      <td>journal article</td>\n      <td>Measurements of the Electrical Incidence Angle...</td>\n      <td>Reflector edges, sharp acceptance angles and b...</td>\n      <td>none</td>\n      <td>2013</td>\n      <td>none</td>\n      <td>4</td>\n      <td>en</td>\n    </tr>\n    <tr>\n      <th>111-864-894-650-371</th>\n      <td>journal article</td>\n      <td>Minimisation of the cost of generated electric...</td>\n      <td>Arrays of thin-film solar cells based on dye-s...</td>\n      <td>none</td>\n      <td>2005</td>\n      <td>none</td>\n      <td>4</td>\n      <td>en</td>\n    </tr>\n    <tr>\n      <th>121-107-511-070-455</th>\n      <td>journal article</td>\n      <td>Calculation of Energy Flow and Carbon Credit E...</td>\n      <td>&lt;jats:p&gt;In the current paper, analysis has bee...</td>\n      <td>none</td>\n      <td>2019</td>\n      <td>none</td>\n      <td>4</td>\n      <td>en</td>\n    </tr>\n    <tr>\n      <th>137-900-730-769-455</th>\n      <td>journal article</td>\n      <td>Multi-objective design optimization of a micro...</td>\n      <td>An optimization methodology for a microchannel...</td>\n      <td>none</td>\n      <td>2013</td>\n      <td>none</td>\n      <td>4</td>\n      <td>en</td>\n    </tr>\n    <tr>\n      <th>070-310-294-386-642</th>\n      <td>journal article</td>\n      <td>Nanofluid-based optical filter optimization fo...</td>\n      <td>Optical filters are essential in a wide range ...</td>\n      <td>none</td>\n      <td>2012</td>\n      <td>none</td>\n      <td>4</td>\n      <td>en</td>\n    </tr>\n    <tr>\n      <th>151-795-423-955-421</th>\n      <td>journal article</td>\n      <td>Exergetic performance of building attached pho...</td>\n      <td>###EgeUn###It is known that solar energy is am...</td>\n      <td>none</td>\n      <td>2019</td>\n      <td>none</td>\n      <td>4</td>\n      <td>en</td>\n    </tr>\n    <tr>\n      <th>118-370-823-895-667</th>\n      <td>journal article</td>\n      <td>Comparison of oil and aluminum-based heat stor...</td>\n      <td>&lt;p&gt;The main objective of this thesis is to des...</td>\n      <td>none</td>\n      <td>2013</td>\n      <td>none</td>\n      <td>4</td>\n      <td>en</td>\n    </tr>\n    <tr>\n      <th>121-416-810-719-882</th>\n      <td>journal article</td>\n      <td>Review on Energy and Exergy Analysis of Air an...</td>\n      <td>&lt;jats:p&gt;&amp;lt;p class=\"AEuroAbstract\"&amp;gt;In phot...</td>\n      <td>none</td>\n      <td>2018</td>\n      <td>none</td>\n      <td>4</td>\n      <td>en</td>\n    </tr>\n    <tr>\n      <th>141-225-773-692-302</th>\n      <td>journal article</td>\n      <td>Effect of Transformational Leadership and Brea...</td>\n      <td>Purpose: The article investigates the impact o...</td>\n      <td>none</td>\n      <td>2020</td>\n      <td>none</td>\n      <td>4</td>\n      <td>en</td>\n    </tr>\n    <tr>\n      <th>039-048-615-569-809</th>\n      <td>journal article</td>\n      <td>Energy Communities Design Optimization in the ...</td>\n      <td>&lt;jats:p&gt;Energy communities (EC) are expected t...</td>\n      <td>none</td>\n      <td>2021</td>\n      <td>none</td>\n      <td>4</td>\n      <td>en</td>\n    </tr>\n    <tr>\n      <th>049-960-827-242-769</th>\n      <td>conference proceedings article</td>\n      <td>The Influence of Convection on the Behaviour o...</td>\n      <td>status: publishe</td>\n      <td>none</td>\n      <td>2020</td>\n      <td>none</td>\n      <td>4</td>\n      <td>en</td>\n    </tr>\n  </tbody>\n</table>\n</div>"
          },
          "metadata": {}
        }
      ],
      "execution_count": 31,
      "metadata": {
        "collapsed": true,
        "jupyter": {
          "source_hidden": false,
          "outputs_hidden": false
        },
        "nteract": {
          "transient": {
            "deleting": false
          }
        },
        "execution": {
          "iopub.status.busy": "2021-07-07T10:29:11.655Z",
          "iopub.execute_input": "2021-07-07T10:29:11.674Z",
          "iopub.status.idle": "2021-07-07T10:29:11.723Z",
          "shell.execute_reply": "2021-07-07T10:29:11.728Z"
        }
      }
    },
    {
      "cell_type": "code",
      "source": [
        "df_aff = all_data_peer_en_ab['affiliation'].str.split('_',n=1,expand=True)\n",
        "\n",
        "# df_aff[df_aff[0]=='none']\n",
        "# df_aff.groupby(0).nunique()\n",
        "df_aff['lens_id'] = df_aff.index\n",
        "\n",
        "df_aff[0].unique()\n",
        "# df_aff[df_aff[0]=='orcid']\n",
        "df_aff_lite = df_aff[df_aff[0]!='org']\n",
        "df_aff_lite"
      ],
      "outputs": [
        {
          "output_type": "execute_result",
          "execution_count": 44,
          "data": {
            "text/plain": "                         0                    1              lens_id\nlens_id                                                             \n000-161-854-690-277  magid           2967022221  000-161-854-690-277\n000-408-566-376-234  magid           3016982341  000-408-566-376-234\n003-172-096-379-051  orcid  0000-0001-7457-4208  003-172-096-379-051\n006-388-157-210-308  magid           2231777972  006-388-157-210-308\n006-571-344-800-667  magid           2791207872  006-571-344-800-667\n...                    ...                  ...                  ...\n153-906-503-422-90X  magid           2314839839  153-906-503-422-90X\n163-776-305-976-717  magid           3150020972  163-776-305-976-717\n176-807-166-457-888  magid           2650691927  176-807-166-457-888\n182-046-396-360-444  magid           1900490266  182-046-396-360-444\n197-071-818-948-205  magid           2630082286  197-071-818-948-205\n\n[535 rows x 3 columns]",
            "text/html": "<div>\n<style scoped>\n    .dataframe tbody tr th:only-of-type {\n        vertical-align: middle;\n    }\n\n    .dataframe tbody tr th {\n        vertical-align: top;\n    }\n\n    .dataframe thead th {\n        text-align: right;\n    }\n</style>\n<table border=\"1\" class=\"dataframe\">\n  <thead>\n    <tr style=\"text-align: right;\">\n      <th></th>\n      <th>0</th>\n      <th>1</th>\n      <th>lens_id</th>\n    </tr>\n    <tr>\n      <th>lens_id</th>\n      <th></th>\n      <th></th>\n      <th></th>\n    </tr>\n  </thead>\n  <tbody>\n    <tr>\n      <th>000-161-854-690-277</th>\n      <td>magid</td>\n      <td>2967022221</td>\n      <td>000-161-854-690-277</td>\n    </tr>\n    <tr>\n      <th>000-408-566-376-234</th>\n      <td>magid</td>\n      <td>3016982341</td>\n      <td>000-408-566-376-234</td>\n    </tr>\n    <tr>\n      <th>003-172-096-379-051</th>\n      <td>orcid</td>\n      <td>0000-0001-7457-4208</td>\n      <td>003-172-096-379-051</td>\n    </tr>\n    <tr>\n      <th>006-388-157-210-308</th>\n      <td>magid</td>\n      <td>2231777972</td>\n      <td>006-388-157-210-308</td>\n    </tr>\n    <tr>\n      <th>006-571-344-800-667</th>\n      <td>magid</td>\n      <td>2791207872</td>\n      <td>006-571-344-800-667</td>\n    </tr>\n    <tr>\n      <th>...</th>\n      <td>...</td>\n      <td>...</td>\n      <td>...</td>\n    </tr>\n    <tr>\n      <th>153-906-503-422-90X</th>\n      <td>magid</td>\n      <td>2314839839</td>\n      <td>153-906-503-422-90X</td>\n    </tr>\n    <tr>\n      <th>163-776-305-976-717</th>\n      <td>magid</td>\n      <td>3150020972</td>\n      <td>163-776-305-976-717</td>\n    </tr>\n    <tr>\n      <th>176-807-166-457-888</th>\n      <td>magid</td>\n      <td>2650691927</td>\n      <td>176-807-166-457-888</td>\n    </tr>\n    <tr>\n      <th>182-046-396-360-444</th>\n      <td>magid</td>\n      <td>1900490266</td>\n      <td>182-046-396-360-444</td>\n    </tr>\n    <tr>\n      <th>197-071-818-948-205</th>\n      <td>magid</td>\n      <td>2630082286</td>\n      <td>197-071-818-948-205</td>\n    </tr>\n  </tbody>\n</table>\n<p>535 rows × 3 columns</p>\n</div>"
          },
          "metadata": {}
        }
      ],
      "execution_count": 44,
      "metadata": {
        "collapsed": true,
        "jupyter": {
          "source_hidden": false,
          "outputs_hidden": false
        },
        "nteract": {
          "transient": {
            "deleting": false
          }
        },
        "execution": {
          "iopub.status.busy": "2021-07-07T10:43:14.777Z",
          "iopub.execute_input": "2021-07-07T10:43:14.786Z",
          "iopub.status.idle": "2021-07-07T10:43:14.815Z",
          "shell.execute_reply": "2021-07-07T10:43:14.821Z"
        }
      }
    },
    {
      "cell_type": "code",
      "source": [
        "def lookup_id(lensid, id_type, number):\n",
        "    print(f'{id_type} for {number} at {lensid}')\n",
        "    # time.sleep(0.5)\n",
        "    if id_type=='org':\n",
        "        return number\n",
        "    elif id_type=='none':\n",
        "        return number\n",
        "    else:\n",
        "        id_query = {\n",
        "            \n",
        "            \"query\": {\n",
        "                \"terms\":{\n",
        "                        \"author.{}\".format(id_type): [number]\n",
        "                }\n",
        "            }\n",
        "        }\n",
        "\n",
        "        headers = {'Authorization': token, 'Content-Type': 'application/json'}\n",
        "        response = requests.post(base_url, json=id_query, headers=headers)\n",
        "        if response.status_code == requests.codes.too_many_requests:\n",
        "            time.sleep(6)\n",
        "            print('Slowdown')\n",
        "            response = requests.post(base_url, json=id_query, headers=headers)\n",
        "            json_data = json.loads(response.text)\n",
        "        elif response.status_code != requests.codes.ok:\n",
        "            print(response.status_code)\n",
        "            pass\n",
        "        else:\n",
        "            json_data = json.loads(response.text)\n",
        "            # print(len(json_data['data']))\n",
        "\n",
        "        affil_list = []\n",
        "        \n",
        "        for entries, item in enumerate(json_data['data']):\n",
        "            for authors in json_data['data'][entries]['authors']:\n",
        "                if 'affiliations' in json_data['data'][entries]['authors'][0].keys():\n",
        "                    for author in json_data['data'][entries]['authors']:\n",
        "                        if 'ids' in author.keys():\n",
        "                            for id_num in author['ids']:\n",
        "                                if number in id_num['value']:\n",
        "                                    try:\n",
        "                                        affil = author['affiliations'][0]['name']\n",
        "                                        affil_list.append(affil)\n",
        "                                    except KeyError:\n",
        "                                        pass\n",
        "                else:\n",
        "                    affil_list.append('null')\n",
        "        if len(list(set(affil_list))) <= 1:\n",
        "            if len(affil_list)==0:\n",
        "                print('empty')\n",
        "                return 'null'\n",
        "            elif affil_list[0]=='null':\n",
        "                print('null')\n",
        "                return 'null'\n",
        "            else:\n",
        "                return affil_list[0]\n",
        "        else:\n",
        "            for item in list(set(affil_list)):\n",
        "                if item=='null':\n",
        "                    pass\n",
        "                else:\n",
        "                    print(item)\n",
        "                    return item"
      ],
      "outputs": [],
      "execution_count": 62,
      "metadata": {
        "collapsed": true,
        "jupyter": {
          "source_hidden": false,
          "outputs_hidden": false
        },
        "nteract": {
          "transient": {
            "deleting": false
          }
        },
        "execution": {
          "iopub.status.busy": "2021-07-07T12:13:45.962Z",
          "iopub.execute_input": "2021-07-07T12:13:45.975Z",
          "iopub.status.idle": "2021-07-07T12:13:45.988Z",
          "shell.execute_reply": "2021-07-07T12:13:45.994Z"
        }
      }
    },
    {
      "cell_type": "code",
      "source": [
        "lens_id = '175-607-973-713-996'\n",
        "id_type = 'orcid'\n",
        "number = '0000-0002-5467-3695'\n",
        "\n",
        "\n",
        "lookup_id(lens_id, id_type, number)"
      ],
      "outputs": [
        {
          "output_type": "stream",
          "name": "stdout",
          "text": [
            "orcid for 0000-0002-5467-3695 at 175-607-973-713-996\n",
            "Department of Management Sciences, Tamkang University, No. 151, Yingzhuan Rd., Danshui Dist. New Taipei City 25137, Taiwan, R.O.C.\n"
          ]
        },
        {
          "output_type": "execute_result",
          "execution_count": 63,
          "data": {
            "text/plain": "'Department of Management Sciences, Tamkang University, No. 151, Yingzhuan Rd., Danshui Dist. New Taipei City 25137, Taiwan, R.O.C.'"
          },
          "metadata": {}
        }
      ],
      "execution_count": 63,
      "metadata": {
        "collapsed": true,
        "jupyter": {
          "source_hidden": false,
          "outputs_hidden": false
        },
        "nteract": {
          "transient": {
            "deleting": false
          }
        },
        "execution": {
          "iopub.status.busy": "2021-07-07T12:13:55.534Z",
          "iopub.execute_input": "2021-07-07T12:13:55.543Z",
          "iopub.status.idle": "2021-07-07T12:13:56.757Z",
          "shell.execute_reply": "2021-07-07T12:13:56.778Z"
        }
      }
    },
    {
      "cell_type": "code",
      "source": [
        "# this takes awhile\n",
        "df_aff_lite['new'] = df_aff_lite.apply(lambda x: lookup_id(x['lens_id'], x[0], x[1]),axis=1)\n",
        "df_aff_lite"
      ],
      "outputs": [],
      "execution_count": null,
      "metadata": {
        "collapsed": true,
        "jupyter": {
          "source_hidden": false,
          "outputs_hidden": false
        },
        "nteract": {
          "transient": {
            "deleting": false
          }
        },
        "execution": {
          "iopub.status.busy": "2021-07-07T12:14:00.086Z",
          "iopub.execute_input": "2021-07-07T12:14:00.093Z",
          "iopub.status.idle": "2021-07-07T13:06:44.480Z",
          "shell.execute_reply": "2021-07-07T13:06:44.487Z"
        }
      }
    },
    {
      "cell_type": "code",
      "source": [
        "#save a temp copy just in case \n",
        "df_aff_lite.to_csv('/Users/jmccarty/Desktop/lit_rev_affil.csv')"
      ],
      "outputs": [
        {
          "output_type": "execute_result",
          "execution_count": 106,
          "data": {
            "text/plain": "                              document_type  \\\nlens_id                                       \n000-057-840-270-546         journal article   \n000-147-571-289-722         journal article   \n000-161-854-690-277         journal article   \n000-214-866-666-676         journal article   \n000-408-566-376-234         journal article   \n...                                     ...   \n188-331-389-341-174         journal article   \n193-933-367-485-686         journal article   \n195-551-080-364-069         journal article   \n195-609-116-329-396  conference proceedings   \n197-071-818-948-205  conference proceedings   \n\n                                                                 title  \\\nlens_id                                                                  \n000-057-840-270-546  Photovoltaic -Thermal systems (PVT): Technolog...   \n000-147-571-289-722  The multi-objective capacity optimization of w...   \n000-161-854-690-277  Coloured BIPV Technologies: Methodological and...   \n000-214-866-666-676  Solar Tri-Generation: New Concept of Solar Ene...   \n000-408-566-376-234  Status of BIPV and BAPV System for Less Energy...   \n...                                                                ...   \n188-331-389-341-174  Numerical Investigation of the Air Flow in a N...   \n193-933-367-485-686  Discuss on related issues of Buiding Integrate...   \n195-551-080-364-069  Experimental Study of Photovoltaic/Thermal Sol...   \n195-609-116-329-396  SSD - A method for evaluating shading losses i...   \n197-071-818-948-205  Comparison of theory and experiment for photov...   \n\n                                                              abstract  \\\nlens_id                                                                  \n000-057-840-270-546  Abstract Combined solar photovoltaic-thermal s...   \n000-147-571-289-722  Abstract This paper proposes a wind-photovolta...   \n000-161-854-690-277  Energy flexibility in buildings is gaining mom...   \n000-214-866-666-676  It is general that each of the heat and electr...   \n000-408-566-376-234  <jats:p>The photovoltaic (PV) system is one of...   \n...                                                                ...   \n188-331-389-341-174  The natural ventilation in a novel built-in ph...   \n193-933-367-485-686  In recent years,the Buiding Integrated PV(BIPV...   \n195-551-080-364-069  A new type of photovoltaic/thermal(PV/T) was d...   \n195-609-116-329-396  This paper presents a simplified method for ev...   \n197-071-818-948-205  Detailed performance testing of an air and a l...   \n\n                                                           affiliation  \\\nlens_id                                                                  \n000-057-840-270-546  org_Visvesvaraya National Institute of Technology   \n000-147-571-289-722                               org_Hohai University   \n000-161-854-690-277                                   magid_2967022221   \n000-214-866-666-676  org_National Institute of Advanced Industrial ...   \n000-408-566-376-234                                   magid_3016982341   \n...                                                                ...   \n188-331-389-341-174                             org_Donghua University   \n193-933-367-485-686  org_Center of Science and Technology of Constr...   \n195-551-080-364-069                org_Dalian University of Technology   \n195-609-116-329-396  org_Faculty of Technology, University of Msila...   \n197-071-818-948-205                                   magid_2630082286   \n\n                     pub_year  \\\nlens_id                         \n000-057-840-270-546      2018   \n000-147-571-289-722      2020   \n000-161-854-690-277      2020   \n000-214-866-666-676      2003   \n000-408-566-376-234      2020   \n...                       ...   \n188-331-389-341-174      2014   \n193-933-367-485-686      2011   \n195-551-080-364-069      2012   \n195-609-116-329-396      2012   \n197-071-818-948-205      1980   \n\n                                                              keywords  \\\nlens_id                                                                  \n000-057-840-270-546  ['Engineering', 'Work (electrical)', 'Systems ...   \n000-147-571-289-722  ['Automotive engineering', 'Thermal energy sto...   \n000-161-854-690-277  ['Building-integrated photovoltaics', 'Environ...   \n000-214-866-666-676  ['Engineering', 'Solar air conditioning', 'Gri...   \n000-408-566-376-234  ['Building-integrated photovoltaics', 'Archite...   \n...                                                                ...   \n188-331-389-341-174  ['Airflow', 'Meteorology', 'Volumetric flow ra...   \n193-933-367-485-686  ['Building-integrated photovoltaics', 'Enginee...   \n195-551-080-364-069  ['Nuclear engineering', 'Engineering', 'Experi...   \n195-609-116-329-396  ['Building-integrated photovoltaics', 'Enginee...   \n197-071-818-948-205  ['Maximum power principle', 'Nuclear engineeri...   \n\n                     keywords_count language  \nlens_id                                       \n000-057-840-270-546               8       en  \n000-147-571-289-722              10       en  \n000-161-854-690-277              11       en  \n000-214-866-666-676              11       en  \n000-408-566-376-234               4       en  \n...                             ...      ...  \n188-331-389-341-174              11       en  \n193-933-367-485-686               8       en  \n195-551-080-364-069              11       en  \n195-609-116-329-396              10       en  \n197-071-818-948-205              11       en  \n\n[4256 rows x 8 columns]",
            "text/html": "<div>\n<style scoped>\n    .dataframe tbody tr th:only-of-type {\n        vertical-align: middle;\n    }\n\n    .dataframe tbody tr th {\n        vertical-align: top;\n    }\n\n    .dataframe thead th {\n        text-align: right;\n    }\n</style>\n<table border=\"1\" class=\"dataframe\">\n  <thead>\n    <tr style=\"text-align: right;\">\n      <th></th>\n      <th>document_type</th>\n      <th>title</th>\n      <th>abstract</th>\n      <th>affiliation</th>\n      <th>pub_year</th>\n      <th>keywords</th>\n      <th>keywords_count</th>\n      <th>language</th>\n    </tr>\n    <tr>\n      <th>lens_id</th>\n      <th></th>\n      <th></th>\n      <th></th>\n      <th></th>\n      <th></th>\n      <th></th>\n      <th></th>\n      <th></th>\n    </tr>\n  </thead>\n  <tbody>\n    <tr>\n      <th>000-057-840-270-546</th>\n      <td>journal article</td>\n      <td>Photovoltaic -Thermal systems (PVT): Technolog...</td>\n      <td>Abstract Combined solar photovoltaic-thermal s...</td>\n      <td>org_Visvesvaraya National Institute of Technology</td>\n      <td>2018</td>\n      <td>['Engineering', 'Work (electrical)', 'Systems ...</td>\n      <td>8</td>\n      <td>en</td>\n    </tr>\n    <tr>\n      <th>000-147-571-289-722</th>\n      <td>journal article</td>\n      <td>The multi-objective capacity optimization of w...</td>\n      <td>Abstract This paper proposes a wind-photovolta...</td>\n      <td>org_Hohai University</td>\n      <td>2020</td>\n      <td>['Automotive engineering', 'Thermal energy sto...</td>\n      <td>10</td>\n      <td>en</td>\n    </tr>\n    <tr>\n      <th>000-161-854-690-277</th>\n      <td>journal article</td>\n      <td>Coloured BIPV Technologies: Methodological and...</td>\n      <td>Energy flexibility in buildings is gaining mom...</td>\n      <td>magid_2967022221</td>\n      <td>2020</td>\n      <td>['Building-integrated photovoltaics', 'Environ...</td>\n      <td>11</td>\n      <td>en</td>\n    </tr>\n    <tr>\n      <th>000-214-866-666-676</th>\n      <td>journal article</td>\n      <td>Solar Tri-Generation: New Concept of Solar Ene...</td>\n      <td>It is general that each of the heat and electr...</td>\n      <td>org_National Institute of Advanced Industrial ...</td>\n      <td>2003</td>\n      <td>['Engineering', 'Solar air conditioning', 'Gri...</td>\n      <td>11</td>\n      <td>en</td>\n    </tr>\n    <tr>\n      <th>000-408-566-376-234</th>\n      <td>journal article</td>\n      <td>Status of BIPV and BAPV System for Less Energy...</td>\n      <td>&lt;jats:p&gt;The photovoltaic (PV) system is one of...</td>\n      <td>magid_3016982341</td>\n      <td>2020</td>\n      <td>['Building-integrated photovoltaics', 'Archite...</td>\n      <td>4</td>\n      <td>en</td>\n    </tr>\n    <tr>\n      <th>...</th>\n      <td>...</td>\n      <td>...</td>\n      <td>...</td>\n      <td>...</td>\n      <td>...</td>\n      <td>...</td>\n      <td>...</td>\n      <td>...</td>\n    </tr>\n    <tr>\n      <th>188-331-389-341-174</th>\n      <td>journal article</td>\n      <td>Numerical Investigation of the Air Flow in a N...</td>\n      <td>The natural ventilation in a novel built-in ph...</td>\n      <td>org_Donghua University</td>\n      <td>2014</td>\n      <td>['Airflow', 'Meteorology', 'Volumetric flow ra...</td>\n      <td>11</td>\n      <td>en</td>\n    </tr>\n    <tr>\n      <th>193-933-367-485-686</th>\n      <td>journal article</td>\n      <td>Discuss on related issues of Buiding Integrate...</td>\n      <td>In recent years,the Buiding Integrated PV(BIPV...</td>\n      <td>org_Center of Science and Technology of Constr...</td>\n      <td>2011</td>\n      <td>['Building-integrated photovoltaics', 'Enginee...</td>\n      <td>8</td>\n      <td>en</td>\n    </tr>\n    <tr>\n      <th>195-551-080-364-069</th>\n      <td>journal article</td>\n      <td>Experimental Study of Photovoltaic/Thermal Sol...</td>\n      <td>A new type of photovoltaic/thermal(PV/T) was d...</td>\n      <td>org_Dalian University of Technology</td>\n      <td>2012</td>\n      <td>['Nuclear engineering', 'Engineering', 'Experi...</td>\n      <td>11</td>\n      <td>en</td>\n    </tr>\n    <tr>\n      <th>195-609-116-329-396</th>\n      <td>conference proceedings</td>\n      <td>SSD - A method for evaluating shading losses i...</td>\n      <td>This paper presents a simplified method for ev...</td>\n      <td>org_Faculty of Technology, University of Msila...</td>\n      <td>2012</td>\n      <td>['Building-integrated photovoltaics', 'Enginee...</td>\n      <td>10</td>\n      <td>en</td>\n    </tr>\n    <tr>\n      <th>197-071-818-948-205</th>\n      <td>conference proceedings</td>\n      <td>Comparison of theory and experiment for photov...</td>\n      <td>Detailed performance testing of an air and a l...</td>\n      <td>magid_2630082286</td>\n      <td>1980</td>\n      <td>['Maximum power principle', 'Nuclear engineeri...</td>\n      <td>11</td>\n      <td>en</td>\n    </tr>\n  </tbody>\n</table>\n<p>4256 rows × 8 columns</p>\n</div>"
          },
          "metadata": {}
        }
      ],
      "execution_count": 106,
      "metadata": {
        "collapsed": true,
        "jupyter": {
          "source_hidden": false,
          "outputs_hidden": false
        },
        "nteract": {
          "transient": {
            "deleting": false
          }
        },
        "execution": {
          "iopub.status.busy": "2021-07-07T15:20:01.321Z",
          "iopub.execute_input": "2021-07-07T15:20:01.328Z",
          "iopub.status.idle": "2021-07-07T15:20:01.366Z",
          "shell.execute_reply": "2021-07-07T15:20:01.372Z"
        }
      }
    },
    {
      "cell_type": "code",
      "source": [
        "df_aff_lite\n",
        "all_data_peer_en_ab\n",
        "\n",
        "new_df = pd.concat([all_data_peer_en_ab,df_aff_lite],axis=1)\n",
        "# all_data_peer_en_ab\n",
        "new_df = new_df.join(df_url)\n"
      ],
      "outputs": [],
      "execution_count": 179,
      "metadata": {
        "collapsed": true,
        "jupyter": {
          "source_hidden": false,
          "outputs_hidden": false
        },
        "nteract": {
          "transient": {
            "deleting": false
          }
        },
        "execution": {
          "iopub.status.busy": "2021-07-07T16:41:33.515Z",
          "iopub.execute_input": "2021-07-07T16:41:33.522Z",
          "iopub.status.idle": "2021-07-07T16:41:33.539Z",
          "shell.execute_reply": "2021-07-07T16:41:33.546Z"
        }
      }
    },
    {
      "cell_type": "code",
      "source": [
        "\n",
        "# df_aff_lite\n",
        "def create_affiliation_col(affil,new_affil):\n",
        "    if 'org_' in affil:\n",
        "        affiliation = affil.split('_',maxsplit=1)[1]\n",
        "        return affiliation\n",
        "    elif 'none' in affil:\n",
        "        return 'null'\n",
        "    else:\n",
        "        return new_affil\n",
        "    \n",
        "new_df['affiliation2'] = new_df.apply(lambda x: create_affiliation_col(x['affiliation'],x['new']),axis=1)\n",
        "new_df.sample(5)\n"
      ],
      "outputs": [
        {
          "output_type": "execute_result",
          "execution_count": 181,
          "data": {
            "text/plain": "                       document_type  \\\nlens_id                                \n027-264-431-719-973  journal article   \n019-345-868-881-206  journal article   \n002-020-135-983-456  journal article   \n028-603-238-273-420  journal article   \n078-153-924-061-135  journal article   \n\n                                                                 title  \\\nlens_id                                                                  \n027-264-431-719-973  Modeling and simulation of a photovoltaic/ther...   \n019-345-868-881-206  An Experimental Comparison of two Solar Photov...   \n002-020-135-983-456  Solar radiation transfer and performance analy...   \n028-603-238-273-420  Investigation on a spectral splitting photovol...   \n078-153-924-061-135  Near-neutral-colored semitransparent perovskit...   \n\n                                                              abstract  \\\nlens_id                                                                  \n027-264-431-719-973  Abstract Integration of photovoltaic/thermal a...   \n019-345-868-881-206  Two solar photovoltaic-thermal (PVT) energy co...   \n002-020-135-983-456  In this study, we investigated a concentrating...   \n028-603-238-273-420  The present work developed a spectral splittin...   \n078-153-924-061-135  Organo-lead-halide perovskite based solar cell...   \n\n                                             affiliation  pub_year  \\\nlens_id                                                              \n027-264-431-719-973   org_Concordia University Wisconsin      2017   \n019-345-868-881-206                     magid_1999290893      2012   \n002-020-135-983-456  org_Dalian University of Technology      2015   \n028-603-238-273-420                org_Tongji University      2016   \n078-153-924-061-135              org_Tsinghua University      2017   \n\n                                                              keywords  \\\nlens_id                                                                  \n027-264-431-719-973  ['Engineering', 'Heating element', 'Modeling a...   \n019-345-868-881-206  ['Solar mirror', 'Nuclear engineering', 'Solar...   \n002-020-135-983-456  ['Solar mirror', 'Solar air conditioning', 'Na...   \n028-603-238-273-420  ['Thermal energy', 'Work (thermodynamics)', 'M...   \n078-153-924-061-135  ['Etching (microfabrication)', 'Plasma etching...   \n\n                     keywords_count language      0           1  \\\nlens_id                                                           \n027-264-431-719-973              11       en    NaN         NaN   \n019-345-868-881-206              11       en  magid  1999290893   \n002-020-135-983-456              10       en    NaN         NaN   \n028-603-238-273-420              11       en    NaN         NaN   \n078-153-924-061-135              10       en    NaN         NaN   \n\n                                 lens_id                new  \\\nlens_id                                                       \n027-264-431-719-973                  NaN                NaN   \n019-345-868-881-206  019-345-868-881-206  Ulster University   \n002-020-135-983-456                  NaN                NaN   \n028-603-238-273-420                  NaN                NaN   \n078-153-924-061-135                  NaN                NaN   \n\n                                                        External URL  \\\nlens_id                                                                \n027-264-431-719-973  http://dx.doi.org/10.1016/j.enbuild.2017.05.045   \n019-345-868-881-206       http://dx.doi.org/10.5923/j.ep.20120204.01   \n002-020-135-983-456               http://dx.doi.org/10.1002/ep.12196   \n028-603-238-273-420   http://dx.doi.org/10.1016/j.renene.2015.08.080   \n078-153-924-061-135   http://dx.doi.org/10.1016/j.solmat.2016.10.035   \n\n                                        affiliation2  \nlens_id                                               \n027-264-431-719-973   Concordia University Wisconsin  \n019-345-868-881-206                Ulster University  \n002-020-135-983-456  Dalian University of Technology  \n028-603-238-273-420                Tongji University  \n078-153-924-061-135              Tsinghua University  ",
            "text/html": "<div>\n<style scoped>\n    .dataframe tbody tr th:only-of-type {\n        vertical-align: middle;\n    }\n\n    .dataframe tbody tr th {\n        vertical-align: top;\n    }\n\n    .dataframe thead th {\n        text-align: right;\n    }\n</style>\n<table border=\"1\" class=\"dataframe\">\n  <thead>\n    <tr style=\"text-align: right;\">\n      <th></th>\n      <th>document_type</th>\n      <th>title</th>\n      <th>abstract</th>\n      <th>affiliation</th>\n      <th>pub_year</th>\n      <th>keywords</th>\n      <th>keywords_count</th>\n      <th>language</th>\n      <th>0</th>\n      <th>1</th>\n      <th>lens_id</th>\n      <th>new</th>\n      <th>External URL</th>\n      <th>affiliation2</th>\n    </tr>\n    <tr>\n      <th>lens_id</th>\n      <th></th>\n      <th></th>\n      <th></th>\n      <th></th>\n      <th></th>\n      <th></th>\n      <th></th>\n      <th></th>\n      <th></th>\n      <th></th>\n      <th></th>\n      <th></th>\n      <th></th>\n      <th></th>\n    </tr>\n  </thead>\n  <tbody>\n    <tr>\n      <th>027-264-431-719-973</th>\n      <td>journal article</td>\n      <td>Modeling and simulation of a photovoltaic/ther...</td>\n      <td>Abstract Integration of photovoltaic/thermal a...</td>\n      <td>org_Concordia University Wisconsin</td>\n      <td>2017</td>\n      <td>['Engineering', 'Heating element', 'Modeling a...</td>\n      <td>11</td>\n      <td>en</td>\n      <td>NaN</td>\n      <td>NaN</td>\n      <td>NaN</td>\n      <td>NaN</td>\n      <td>http://dx.doi.org/10.1016/j.enbuild.2017.05.045</td>\n      <td>Concordia University Wisconsin</td>\n    </tr>\n    <tr>\n      <th>019-345-868-881-206</th>\n      <td>journal article</td>\n      <td>An Experimental Comparison of two Solar Photov...</td>\n      <td>Two solar photovoltaic-thermal (PVT) energy co...</td>\n      <td>magid_1999290893</td>\n      <td>2012</td>\n      <td>['Solar mirror', 'Nuclear engineering', 'Solar...</td>\n      <td>11</td>\n      <td>en</td>\n      <td>magid</td>\n      <td>1999290893</td>\n      <td>019-345-868-881-206</td>\n      <td>Ulster University</td>\n      <td>http://dx.doi.org/10.5923/j.ep.20120204.01</td>\n      <td>Ulster University</td>\n    </tr>\n    <tr>\n      <th>002-020-135-983-456</th>\n      <td>journal article</td>\n      <td>Solar radiation transfer and performance analy...</td>\n      <td>In this study, we investigated a concentrating...</td>\n      <td>org_Dalian University of Technology</td>\n      <td>2015</td>\n      <td>['Solar mirror', 'Solar air conditioning', 'Na...</td>\n      <td>10</td>\n      <td>en</td>\n      <td>NaN</td>\n      <td>NaN</td>\n      <td>NaN</td>\n      <td>NaN</td>\n      <td>http://dx.doi.org/10.1002/ep.12196</td>\n      <td>Dalian University of Technology</td>\n    </tr>\n    <tr>\n      <th>028-603-238-273-420</th>\n      <td>journal article</td>\n      <td>Investigation on a spectral splitting photovol...</td>\n      <td>The present work developed a spectral splittin...</td>\n      <td>org_Tongji University</td>\n      <td>2016</td>\n      <td>['Thermal energy', 'Work (thermodynamics)', 'M...</td>\n      <td>11</td>\n      <td>en</td>\n      <td>NaN</td>\n      <td>NaN</td>\n      <td>NaN</td>\n      <td>NaN</td>\n      <td>http://dx.doi.org/10.1016/j.renene.2015.08.080</td>\n      <td>Tongji University</td>\n    </tr>\n    <tr>\n      <th>078-153-924-061-135</th>\n      <td>journal article</td>\n      <td>Near-neutral-colored semitransparent perovskit...</td>\n      <td>Organo-lead-halide perovskite based solar cell...</td>\n      <td>org_Tsinghua University</td>\n      <td>2017</td>\n      <td>['Etching (microfabrication)', 'Plasma etching...</td>\n      <td>10</td>\n      <td>en</td>\n      <td>NaN</td>\n      <td>NaN</td>\n      <td>NaN</td>\n      <td>NaN</td>\n      <td>http://dx.doi.org/10.1016/j.solmat.2016.10.035</td>\n      <td>Tsinghua University</td>\n    </tr>\n  </tbody>\n</table>\n</div>"
          },
          "metadata": {}
        }
      ],
      "execution_count": 181,
      "metadata": {
        "collapsed": true,
        "jupyter": {
          "source_hidden": false,
          "outputs_hidden": false
        },
        "nteract": {
          "transient": {
            "deleting": false
          }
        },
        "execution": {
          "iopub.status.busy": "2021-07-07T16:41:44.912Z",
          "iopub.execute_input": "2021-07-07T16:41:44.920Z",
          "iopub.status.idle": "2021-07-07T16:41:44.958Z",
          "shell.execute_reply": "2021-07-07T16:41:44.973Z"
        }
      }
    },
    {
      "cell_type": "markdown",
      "source": [
        "## Export Final File\n",
        " - cleanup naming\n",
        " - save to csv"
      ],
      "metadata": {
        "nteract": {
          "transient": {
            "deleting": false
          }
        }
      }
    },
    {
      "cell_type": "code",
      "source": [
        "columns = ['document_type',\n",
        "            'title',\n",
        "            'abstract',\n",
        "            'affiliation2',\n",
        "            'pub_year',\n",
        "            'keywords',\n",
        "            'External URL']\n",
        "final_df = new_df[columns].copy()\n",
        "final_df = final_df.rename(columns={'affiliation2':'affiliation',\n",
        "                                    'pub_year':'year',\n",
        "                                    'document_type':'type',\n",
        "                                    'External URL':'source'})\n",
        "\n",
        "# some abstract had either the word Abstract or an html tag <jats:p> in them\n",
        "final_df['abstract'] = final_df['abstract'].str.replace('Abstract', '')\n",
        "final_df['abstract'] = final_df['abstract'].str.replace('<jats:p>', '')\n",
        "final_df\n",
        "\n"
      ],
      "outputs": [
        {
          "output_type": "execute_result",
          "execution_count": 186,
          "data": {
            "text/plain": "                                       type  \\\nlens_id                                       \n000-057-840-270-546         journal article   \n000-147-571-289-722         journal article   \n000-161-854-690-277         journal article   \n000-214-866-666-676         journal article   \n000-408-566-376-234         journal article   \n...                                     ...   \n188-331-389-341-174         journal article   \n193-933-367-485-686         journal article   \n195-551-080-364-069         journal article   \n195-609-116-329-396  conference proceedings   \n197-071-818-948-205  conference proceedings   \n\n                                                                 title  \\\nlens_id                                                                  \n000-057-840-270-546  Photovoltaic -Thermal systems (PVT): Technolog...   \n000-147-571-289-722  The multi-objective capacity optimization of w...   \n000-161-854-690-277  Coloured BIPV Technologies: Methodological and...   \n000-214-866-666-676  Solar Tri-Generation: New Concept of Solar Ene...   \n000-408-566-376-234  Status of BIPV and BAPV System for Less Energy...   \n...                                                                ...   \n188-331-389-341-174  Numerical Investigation of the Air Flow in a N...   \n193-933-367-485-686  Discuss on related issues of Buiding Integrate...   \n195-551-080-364-069  Experimental Study of Photovoltaic/Thermal Sol...   \n195-609-116-329-396  SSD - A method for evaluating shading losses i...   \n197-071-818-948-205  Comparison of theory and experiment for photov...   \n\n                                                              abstract  \\\nlens_id                                                                  \n000-057-840-270-546   Combined solar photovoltaic-thermal systems (...   \n000-147-571-289-722   This paper proposes a wind-photovoltaic-therm...   \n000-161-854-690-277  Energy flexibility in buildings is gaining mom...   \n000-214-866-666-676  It is general that each of the heat and electr...   \n000-408-566-376-234  The photovoltaic (PV) system is one of the mos...   \n...                                                                ...   \n188-331-389-341-174  The natural ventilation in a novel built-in ph...   \n193-933-367-485-686  In recent years,the Buiding Integrated PV(BIPV...   \n195-551-080-364-069  A new type of photovoltaic/thermal(PV/T) was d...   \n195-609-116-329-396  This paper presents a simplified method for ev...   \n197-071-818-948-205  Detailed performance testing of an air and a l...   \n\n                                                           affiliation  year  \\\nlens_id                                                                        \n000-057-840-270-546      Visvesvaraya National Institute of Technology  2018   \n000-147-571-289-722                                   Hohai University  2020   \n000-161-854-690-277                    Polytechnic University of Milan  2020   \n000-214-866-666-676  National Institute of Advanced Industrial Scie...  2003   \n000-408-566-376-234                                               null  2020   \n...                                                                ...   ...   \n188-331-389-341-174                                 Donghua University  2014   \n193-933-367-485-686  Center of Science and Technology of Constructi...  2011   \n195-551-080-364-069                    Dalian University of Technology  2012   \n195-609-116-329-396  Faculty of Technology, University of Msila, M'...  2012   \n197-071-818-948-205                                               null  1980   \n\n                                                              keywords  \\\nlens_id                                                                  \n000-057-840-270-546  ['Engineering', 'Work (electrical)', 'Systems ...   \n000-147-571-289-722  ['Automotive engineering', 'Thermal energy sto...   \n000-161-854-690-277  ['Building-integrated photovoltaics', 'Environ...   \n000-214-866-666-676  ['Engineering', 'Solar air conditioning', 'Gri...   \n000-408-566-376-234  ['Building-integrated photovoltaics', 'Archite...   \n...                                                                ...   \n188-331-389-341-174  ['Airflow', 'Meteorology', 'Volumetric flow ra...   \n193-933-367-485-686  ['Building-integrated photovoltaics', 'Enginee...   \n195-551-080-364-069  ['Nuclear engineering', 'Engineering', 'Experi...   \n195-609-116-329-396  ['Building-integrated photovoltaics', 'Enginee...   \n197-071-818-948-205  ['Maximum power principle', 'Nuclear engineeri...   \n\n                                                                source  \nlens_id                                                                 \n000-057-840-270-546       http://dx.doi.org/10.1016/j.rser.2018.04.067  \n000-147-571-289-722    http://dx.doi.org/10.1016/j.solener.2019.11.063  \n000-161-854-690-277               http://dx.doi.org/10.3390/en13174506  \n000-214-866-666-676           http://dx.doi.org/10.1115/isec2003-44218  \n000-408-566-376-234              http://dx.doi.org/10.3390/app10072337  \n...                                                                ...  \n188-331-389-341-174                                                NaN  \n193-933-367-485-686  https://en.cnki.com.cn/Article_en/CJFDTOTAL-NC...  \n195-551-080-364-069  https://en.cnki.com.cn/Article_en/CJFDTOTAL-JZ...  \n195-609-116-329-396         http://dx.doi.org/10.1109/ssd.2012.6198070  \n197-071-818-948-205  http://www.osti.gov/scitech/biblio/5666552-com...  \n\n[4256 rows x 7 columns]",
            "text/html": "<div>\n<style scoped>\n    .dataframe tbody tr th:only-of-type {\n        vertical-align: middle;\n    }\n\n    .dataframe tbody tr th {\n        vertical-align: top;\n    }\n\n    .dataframe thead th {\n        text-align: right;\n    }\n</style>\n<table border=\"1\" class=\"dataframe\">\n  <thead>\n    <tr style=\"text-align: right;\">\n      <th></th>\n      <th>type</th>\n      <th>title</th>\n      <th>abstract</th>\n      <th>affiliation</th>\n      <th>year</th>\n      <th>keywords</th>\n      <th>source</th>\n    </tr>\n    <tr>\n      <th>lens_id</th>\n      <th></th>\n      <th></th>\n      <th></th>\n      <th></th>\n      <th></th>\n      <th></th>\n      <th></th>\n    </tr>\n  </thead>\n  <tbody>\n    <tr>\n      <th>000-057-840-270-546</th>\n      <td>journal article</td>\n      <td>Photovoltaic -Thermal systems (PVT): Technolog...</td>\n      <td>Combined solar photovoltaic-thermal systems (...</td>\n      <td>Visvesvaraya National Institute of Technology</td>\n      <td>2018</td>\n      <td>['Engineering', 'Work (electrical)', 'Systems ...</td>\n      <td>http://dx.doi.org/10.1016/j.rser.2018.04.067</td>\n    </tr>\n    <tr>\n      <th>000-147-571-289-722</th>\n      <td>journal article</td>\n      <td>The multi-objective capacity optimization of w...</td>\n      <td>This paper proposes a wind-photovoltaic-therm...</td>\n      <td>Hohai University</td>\n      <td>2020</td>\n      <td>['Automotive engineering', 'Thermal energy sto...</td>\n      <td>http://dx.doi.org/10.1016/j.solener.2019.11.063</td>\n    </tr>\n    <tr>\n      <th>000-161-854-690-277</th>\n      <td>journal article</td>\n      <td>Coloured BIPV Technologies: Methodological and...</td>\n      <td>Energy flexibility in buildings is gaining mom...</td>\n      <td>Polytechnic University of Milan</td>\n      <td>2020</td>\n      <td>['Building-integrated photovoltaics', 'Environ...</td>\n      <td>http://dx.doi.org/10.3390/en13174506</td>\n    </tr>\n    <tr>\n      <th>000-214-866-666-676</th>\n      <td>journal article</td>\n      <td>Solar Tri-Generation: New Concept of Solar Ene...</td>\n      <td>It is general that each of the heat and electr...</td>\n      <td>National Institute of Advanced Industrial Scie...</td>\n      <td>2003</td>\n      <td>['Engineering', 'Solar air conditioning', 'Gri...</td>\n      <td>http://dx.doi.org/10.1115/isec2003-44218</td>\n    </tr>\n    <tr>\n      <th>000-408-566-376-234</th>\n      <td>journal article</td>\n      <td>Status of BIPV and BAPV System for Less Energy...</td>\n      <td>The photovoltaic (PV) system is one of the mos...</td>\n      <td>null</td>\n      <td>2020</td>\n      <td>['Building-integrated photovoltaics', 'Archite...</td>\n      <td>http://dx.doi.org/10.3390/app10072337</td>\n    </tr>\n    <tr>\n      <th>...</th>\n      <td>...</td>\n      <td>...</td>\n      <td>...</td>\n      <td>...</td>\n      <td>...</td>\n      <td>...</td>\n      <td>...</td>\n    </tr>\n    <tr>\n      <th>188-331-389-341-174</th>\n      <td>journal article</td>\n      <td>Numerical Investigation of the Air Flow in a N...</td>\n      <td>The natural ventilation in a novel built-in ph...</td>\n      <td>Donghua University</td>\n      <td>2014</td>\n      <td>['Airflow', 'Meteorology', 'Volumetric flow ra...</td>\n      <td>NaN</td>\n    </tr>\n    <tr>\n      <th>193-933-367-485-686</th>\n      <td>journal article</td>\n      <td>Discuss on related issues of Buiding Integrate...</td>\n      <td>In recent years,the Buiding Integrated PV(BIPV...</td>\n      <td>Center of Science and Technology of Constructi...</td>\n      <td>2011</td>\n      <td>['Building-integrated photovoltaics', 'Enginee...</td>\n      <td>https://en.cnki.com.cn/Article_en/CJFDTOTAL-NC...</td>\n    </tr>\n    <tr>\n      <th>195-551-080-364-069</th>\n      <td>journal article</td>\n      <td>Experimental Study of Photovoltaic/Thermal Sol...</td>\n      <td>A new type of photovoltaic/thermal(PV/T) was d...</td>\n      <td>Dalian University of Technology</td>\n      <td>2012</td>\n      <td>['Nuclear engineering', 'Engineering', 'Experi...</td>\n      <td>https://en.cnki.com.cn/Article_en/CJFDTOTAL-JZ...</td>\n    </tr>\n    <tr>\n      <th>195-609-116-329-396</th>\n      <td>conference proceedings</td>\n      <td>SSD - A method for evaluating shading losses i...</td>\n      <td>This paper presents a simplified method for ev...</td>\n      <td>Faculty of Technology, University of Msila, M'...</td>\n      <td>2012</td>\n      <td>['Building-integrated photovoltaics', 'Enginee...</td>\n      <td>http://dx.doi.org/10.1109/ssd.2012.6198070</td>\n    </tr>\n    <tr>\n      <th>197-071-818-948-205</th>\n      <td>conference proceedings</td>\n      <td>Comparison of theory and experiment for photov...</td>\n      <td>Detailed performance testing of an air and a l...</td>\n      <td>null</td>\n      <td>1980</td>\n      <td>['Maximum power principle', 'Nuclear engineeri...</td>\n      <td>http://www.osti.gov/scitech/biblio/5666552-com...</td>\n    </tr>\n  </tbody>\n</table>\n<p>4256 rows × 7 columns</p>\n</div>"
          },
          "metadata": {}
        }
      ],
      "execution_count": 186,
      "metadata": {
        "collapsed": true,
        "jupyter": {
          "source_hidden": false,
          "outputs_hidden": false
        },
        "nteract": {
          "transient": {
            "deleting": false
          }
        },
        "execution": {
          "iopub.status.busy": "2021-07-07T16:49:36.718Z",
          "iopub.execute_input": "2021-07-07T16:49:36.725Z",
          "iopub.status.idle": "2021-07-07T16:49:36.874Z",
          "shell.execute_reply": "2021-07-07T16:49:36.879Z"
        }
      }
    },
    {
      "cell_type": "code",
      "source": [
        "# save dataset to file\n",
        "final_df.to_csv('/Users/jmccarty/GitHub/urban_bipv_annotated_bib/data/lit_dataset_clean.csv')"
      ],
      "outputs": [],
      "execution_count": 187,
      "metadata": {
        "collapsed": true,
        "jupyter": {
          "source_hidden": false,
          "outputs_hidden": false
        },
        "nteract": {
          "transient": {
            "deleting": false
          }
        },
        "execution": {
          "iopub.status.busy": "2021-07-07T16:50:05.362Z",
          "iopub.execute_input": "2021-07-07T16:50:05.371Z",
          "iopub.status.idle": "2021-07-07T16:50:05.430Z",
          "shell.execute_reply": "2021-07-07T16:50:05.441Z"
        }
      }
    }
  ],
  "metadata": {
    "kernel_info": {
      "name": "nteract"
    },
    "language_info": {
      "name": "python",
      "version": "3.9.5",
      "mimetype": "text/x-python",
      "codemirror_mode": {
        "name": "ipython",
        "version": 3
      },
      "pygments_lexer": "ipython3",
      "nbconvert_exporter": "python",
      "file_extension": ".py"
    },
    "kernelspec": {
      "argv": [
        "/opt/homebrew/Caskroom/miniforge/base/envs/nteract/bin/python",
        "-m",
        "ipykernel_launcher",
        "-f",
        "{connection_file}"
      ],
      "display_name": "nteract",
      "language": "python",
      "name": "nteract"
    },
    "nteract": {
      "version": "0.28.0"
    }
  },
  "nbformat": 4,
  "nbformat_minor": 0
}