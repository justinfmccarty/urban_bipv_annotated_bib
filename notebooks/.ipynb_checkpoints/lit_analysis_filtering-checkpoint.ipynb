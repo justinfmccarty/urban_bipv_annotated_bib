{
  "cells": [
    {
      "cell_type": "code",
      "source": [
        "import numpy as np\n",
        "import requests\n",
        "import pandas as pd\n",
        "import json\n",
        "import os\n",
        "import glob\n",
        "import matplotlib.pyplot as plt\n",
        "import time\n",
        "\n",
        "\n",
        "\n",
        "token = 'm3lB5Q8zHn7wis2frICKXcmPb7yERygZnPypvcjuKPcye4IKkwdY'\n",
        "base_url = 'https://api.lens.org/scholarly/search'\n"
      ],
      "outputs": [],
      "execution_count": 2,
      "metadata": {
        "collapsed": true,
        "jupyter": {
          "source_hidden": false,
          "outputs_hidden": false
        },
        "nteract": {
          "transient": {
            "deleting": false
          }
        },
        "execution": {
          "iopub.status.busy": "2021-07-18T09:54:04.152Z",
          "iopub.execute_input": "2021-07-18T09:54:04.156Z",
          "iopub.status.idle": "2021-07-18T09:54:04.471Z",
          "shell.execute_reply": "2021-07-18T09:54:04.475Z"
        }
      }
    },
    {
      "cell_type": "markdown",
      "source": [
        "## Filter Out Thermal Query Data"
      ],
      "metadata": {
        "nteract": {
          "transient": {
            "deleting": false
          }
        }
      }
    },
    {
      "cell_type": "code",
      "source": [
        "raw_data = pd.read_csv('/Users/jmccarty/GitHub/urban_bipv_annotated_bib/data/raw_query_manual_clean.csv',index_col=0)\n",
        "raw_short_data = pd.read_csv('/Users/jmccarty/GitHub/urban_bipv_annotated_bib/data/raw_query_short.csv',index_col=0)\n",
        "id_keep_list = raw_short_data.index.tolist()\n",
        "\n",
        "data = raw_data[raw_data.index.isin(id_keep_list)==True]\n"
      ],
      "outputs": [],
      "execution_count": 7,
      "metadata": {
        "collapsed": true,
        "jupyter": {
          "source_hidden": false,
          "outputs_hidden": false
        },
        "nteract": {
          "transient": {
            "deleting": false
          }
        },
        "execution": {
          "iopub.status.busy": "2021-07-18T09:56:36.040Z",
          "iopub.execute_input": "2021-07-18T09:56:36.050Z",
          "iopub.status.idle": "2021-07-18T09:56:36.218Z",
          "shell.execute_reply": "2021-07-18T09:56:36.221Z"
        }
      }
    },
    {
      "cell_type": "code",
      "source": [
        "\n",
        "# there are some in the shortlist that are not in the long list but should be kept...\n",
        "# print titles to review whether they are relevant or not like I did in the manual cleaning step\n",
        "data_missing = raw_short_data[raw_short_data.index.isin(data.index.tolist())==False]\n",
        "\n",
        "for title in data_missing.Title.tolist():\n",
        "    print(f'--> {title}')\n",
        "\n"
      ],
      "outputs": [
        {
          "output_type": "stream",
          "name": "stdout",
          "text": [
            "--> Effect of electrochromic windows on energy consumption of high-rise office buildings in different climate regions of Iran\n",
            "--> Dataset for the Solar Incident Radiation and Electricity Production BIPV/BAPV System on the Northern/Southern Façade in Dense Urban Areas\n",
            "--> Parameter evaluation and performance analysis of a BIPVT system for the different climates of India: A comprehensive study\n",
            "--> Metal halide perovskite-based flexible tandem solar cells: next-generation flexible photovoltaic technology\n",
            "--> Comparison of Solar Glazing Performance of Semi-transparent Amorphous-Silicon (a-Si) and Crystalline-Silicon (c-Si) Photovoltaic Panels: A Case Study for Typical Office Building in Hong Kong\n",
            "--> Comportamiento en operación real de la tecnología PV de capa fina (a-Si) en aplicaciones para la edificación (BIPV)\n",
            "--> Comparison Between an Interleaved Boost Converter Using Si MOSFETs Versus GaN HEMTs\n",
            "--> 스마트 조명과 BIPV시스템을 이용한 조명에너지 절감효과 연구\n",
            "--> A review on developments and researches of building integrated photovoltaic (BIPV) windows and shading blinds\n",
            "--> Impact of BIPV windows on building energy consumption in street canyons: Model development and validation\n",
            "--> A Quantitative Investigation on Awareness of Renewable Energy Building Technology in the United Arab Emirates\n",
            "--> Operation and grid interaction modeling of a house with a building integrated photovoltaic thermal (BIPV/T) system coupled to an air-source heat pump\n",
            "--> Dye sensitised solar power generating window: towards environmentally sustainable energy efficiency in ICT\n",
            "--> Analysing the role of roof mounted BIPV system optimization on decreasing the effect of duck curve in Perth, Western Australia: An experimental case study\n",
            "--> Comparison assessment of semi-transparent solar cell for BIPV windows\n",
            "--> Optimal design and photoelectric performance study of micro-lens light trapping structure for CIGS thin film solar cell in BIPV\n"
          ]
        }
      ],
      "execution_count": 4,
      "metadata": {
        "collapsed": true,
        "jupyter": {
          "source_hidden": false,
          "outputs_hidden": false
        },
        "nteract": {
          "transient": {
            "deleting": false
          }
        },
        "execution": {
          "iopub.status.busy": "2021-07-18T09:54:08.996Z",
          "iopub.execute_input": "2021-07-18T09:54:09.000Z",
          "iopub.status.idle": "2021-07-18T09:54:09.022Z",
          "shell.execute_reply": "2021-07-18T09:54:09.025Z"
        }
      }
    },
    {
      "cell_type": "code",
      "source": [
        "\n",
        "all_data = pd.concat([data,data_missing])\n",
        "all_data.columns\n"
      ],
      "outputs": [
        {
          "output_type": "execute_result",
          "execution_count": 19,
          "data": {
            "text/plain": "Index(['Title', 'Date Published', 'Publication Year', 'Publication Type',\n       'Source Title', 'ISSNs', 'Publisher', 'Source Country', 'Author/s',\n       'Abstract', 'Volume', 'Issue Number', 'Start Page', 'End Page',\n       'Fields of Study', 'Keywords', 'MeSH Terms', 'Chemicals', 'Funding',\n       'Source URLs', 'External URL', 'PMID', 'DOI', 'Microsoft Academic ID',\n       'PMCID', 'Citing Patents Count', 'References', 'Citing Works Count'],\n      dtype='object')"
          },
          "metadata": {}
        }
      ],
      "execution_count": 19,
      "metadata": {
        "collapsed": true,
        "jupyter": {
          "source_hidden": false,
          "outputs_hidden": false
        },
        "nteract": {
          "transient": {
            "deleting": false
          }
        },
        "execution": {
          "iopub.status.busy": "2021-07-18T10:20:47.695Z",
          "iopub.execute_input": "2021-07-18T10:20:47.699Z",
          "iopub.status.idle": "2021-07-18T10:20:47.709Z",
          "shell.execute_reply": "2021-07-18T10:20:47.712Z"
        }
      }
    },
    {
      "cell_type": "markdown",
      "source": [
        "## Filter Down Dataframe"
      ],
      "metadata": {
        "nteract": {
          "transient": {
            "deleting": false
          }
        }
      }
    },
    {
      "cell_type": "code",
      "source": [
        "# UNRELATED\n",
        "# remove the irrelevant items\n",
        "\n",
        "not_relevant = all_data[all_data['Remove']==True].index.tolist()\n",
        "\n",
        "all_data_rel = all_data[all_data.index.isin(not_relevant)==False]\n",
        "\n",
        "print(f'Original shape was {all_data.shape}')\n",
        "print(f'New shape is {all_data_rel.shape}')"
      ],
      "outputs": [
        {
          "output_type": "stream",
          "name": "stdout",
          "text": [
            "Original shape was (3544, 29)\n",
            "New shape is (3462, 29)\n"
          ]
        }
      ],
      "execution_count": 14,
      "metadata": {
        "collapsed": true,
        "jupyter": {
          "source_hidden": false,
          "outputs_hidden": false
        },
        "nteract": {
          "transient": {
            "deleting": false
          }
        },
        "execution": {
          "iopub.status.busy": "2021-07-18T10:02:48.922Z",
          "iopub.execute_input": "2021-07-18T10:02:48.928Z",
          "iopub.status.idle": "2021-07-18T10:02:48.953Z",
          "shell.execute_reply": "2021-07-18T10:02:48.957Z"
        }
      }
    },
    {
      "cell_type": "code",
      "source": [
        "# PUBLICATION TYPE\n",
        "# remove the non peer reviewed documents\n",
        "\n",
        "pd.value_counts(all_data_rel['Publication Type']).plot.bar()\n",
        "\n",
        "all_data_peer = all_data_rel[(all_data_rel['Publication Type']=='journal article') | \\\n",
        " (all_data_rel['Publication Type']=='conference proceedings article') | \\\n",
        "  (all_data_rel['Publication Type']=='conference proceedings')]\n",
        "  \n",
        "\n",
        "print(f'Original shape was {all_data_rel.shape}')\n",
        "print(f'New shape is {all_data_peer.shape}')"
      ],
      "outputs": [
        {
          "output_type": "stream",
          "name": "stdout",
          "text": [
            "Original shape was (3462, 29)\n",
            "New shape is (2137, 29)\n"
          ]
        }
      ],
      "execution_count": 17,
      "metadata": {
        "collapsed": true,
        "jupyter": {
          "source_hidden": false,
          "outputs_hidden": false
        },
        "nteract": {
          "transient": {
            "deleting": false
          }
        },
        "execution": {
          "iopub.status.busy": "2021-07-18T10:19:07.460Z",
          "iopub.execute_input": "2021-07-18T10:19:07.469Z",
          "iopub.status.idle": "2021-07-18T10:19:07.488Z",
          "shell.execute_reply": "2021-07-18T10:19:07.493Z"
        }
      }
    },
    {
      "cell_type": "code",
      "source": [
        "# LANGUAGE\n",
        "# remove the non peer reviewed documents\n",
        "\n",
        "pd.value_counts(all_data_peer['language']).plot.bar()\n",
        "\n",
        "all_data_peer_en = all_data_peer[all_data_peer['language']=='en']\n",
        "\n",
        "print(len(all_data_peer_en))"
      ],
      "outputs": [],
      "execution_count": null,
      "metadata": {
        "collapsed": true,
        "jupyter": {
          "source_hidden": false,
          "outputs_hidden": false
        },
        "nteract": {
          "transient": {
            "deleting": false
          }
        },
        "execution": {
          "iopub.status.busy": "2021-07-07T09:50:08.532Z",
          "iopub.execute_input": "2021-07-07T09:50:08.538Z",
          "iopub.status.idle": "2021-07-07T09:50:08.587Z",
          "shell.execute_reply": "2021-07-07T09:50:08.602Z"
        }
      }
    },
    {
      "cell_type": "code",
      "source": [
        "# check length after removing no abstract\n",
        "\n",
        "# pd.value_counts(all_data_peer['language']).plot.bar()\n",
        "\n",
        "\n",
        "all_data_peer_en_ab = all_data_peer_en[all_data_peer_en['abstract']!='none']\n",
        "print(len(all_data_peer_en_ab))"
      ],
      "outputs": [],
      "execution_count": null,
      "metadata": {
        "collapsed": true,
        "jupyter": {
          "source_hidden": false,
          "outputs_hidden": false
        },
        "nteract": {
          "transient": {
            "deleting": false
          }
        },
        "execution": {
          "iopub.status.busy": "2021-07-07T09:50:09.996Z",
          "iopub.execute_input": "2021-07-07T09:50:10.004Z",
          "iopub.status.idle": "2021-07-07T09:50:10.024Z",
          "shell.execute_reply": "2021-07-07T09:50:10.031Z"
        }
      }
    },
    {
      "cell_type": "code",
      "source": [
        "pd.value_counts(all_data_peer_en_ab['pub_year']).plot.bar()\n",
        "\n"
      ],
      "outputs": [],
      "execution_count": null,
      "metadata": {
        "collapsed": true,
        "jupyter": {
          "source_hidden": false,
          "outputs_hidden": false
        },
        "nteract": {
          "transient": {
            "deleting": false
          }
        },
        "execution": {
          "iopub.status.busy": "2021-07-07T09:50:11.289Z",
          "iopub.execute_input": "2021-07-07T09:50:11.300Z",
          "iopub.status.idle": "2021-07-07T09:50:11.422Z",
          "shell.execute_reply": "2021-07-07T09:50:11.446Z"
        }
      }
    },
    {
      "cell_type": "markdown",
      "source": [
        "## Export Final File for Topic and Clustering\n",
        "\n",
        " - cleanup naming\n",
        " - save to csv"
      ],
      "metadata": {
        "nteract": {
          "transient": {
            "deleting": false
          }
        }
      }
    },
    {
      "cell_type": "code",
      "source": [
        "# save dataset to file\n",
        "final_df.to_csv('/Users/jmccarty/GitHub/urban_bipv_annotated_bib/data/clean_affiliated_filtered.csv')"
      ],
      "outputs": [],
      "execution_count": null,
      "metadata": {
        "collapsed": true,
        "jupyter": {
          "source_hidden": false,
          "outputs_hidden": false
        },
        "nteract": {
          "transient": {
            "deleting": false
          }
        },
        "execution": {
          "iopub.status.busy": "2021-07-07T16:50:05.362Z",
          "iopub.execute_input": "2021-07-07T16:50:05.371Z",
          "iopub.status.idle": "2021-07-07T16:50:05.430Z",
          "shell.execute_reply": "2021-07-07T16:50:05.441Z"
        }
      }
    }
  ],
  "metadata": {
    "kernel_info": {
      "name": "nteract"
    },
    "language_info": {
      "name": "python",
      "version": "3.9.5",
      "mimetype": "text/x-python",
      "codemirror_mode": {
        "name": "ipython",
        "version": 3
      },
      "pygments_lexer": "ipython3",
      "nbconvert_exporter": "python",
      "file_extension": ".py"
    },
    "kernelspec": {
      "argv": [
        "/opt/homebrew/Caskroom/miniforge/base/envs/nteract/bin/python",
        "-m",
        "ipykernel_launcher",
        "-f",
        "{connection_file}"
      ],
      "display_name": "nteract",
      "language": "python",
      "name": "nteract"
    },
    "nteract": {
      "version": "0.28.0"
    }
  },
  "nbformat": 4,
  "nbformat_minor": 0
}